{
 "cells": [
  {
   "cell_type": "code",
   "execution_count": 1,
   "metadata": {},
   "outputs": [],
   "source": [
    "import polynomial"
   ]
  },
  {
   "cell_type": "code",
   "execution_count": 8,
   "metadata": {},
   "outputs": [],
   "source": [
    "import numpy as np"
   ]
  },
  {
   "cell_type": "code",
   "execution_count": 102,
   "metadata": {},
   "outputs": [],
   "source": [
    "class Polynomial():\n",
    "\n",
    "    def __init__(self, coef=[0]):\n",
    "        self.coef = np.array(coef)\n",
    "        self.exp = self._determine_exponents()\n",
    "        pass\n",
    "\n",
    "    def _determine_exponents(self):\n",
    "        # Create list of exponents based on size of array\n",
    "        return np.array(range(len(self.coef)-1,-1,-1))\n",
    "\n",
    "    def result(self,x):\n",
    "        # calculates y for the polynomail funciton given x\n",
    "        return np.power(np.array(self.coef)*x,self.exp).sum()\n",
    "\n",
    "    def __repr__(self):\n",
    "        rep_str = \"Polynomial: \"\n",
    "        for i in range(len(self.coef)):\n",
    "            if self.exp[i] > 0:\n",
    "                rep_str += str(self.coef[i])+'x^'+str(self.exp[i])+ ' + '\n",
    "            else:\n",
    "                rep_str += str(self.coef[i])\n",
    "        return rep_str\n",
    "\n",
    "    "
   ]
  },
  {
   "cell_type": "code",
   "execution_count": 148,
   "metadata": {},
   "outputs": [],
   "source": [
    "class Derivative(Polynomial):\n",
    "\n",
    "    def __init__(self, coef=[0],order=1):\n",
    "        Polynomial.__init__(self,coef)\n",
    "        self.dcoef = self.coef\n",
    "        self.dexp = self._determine_exponents()\n",
    "        self.order = order\n",
    "        if order > self.exp[0]:\n",
    "            print('Warning: Order larger than the polynomial')\n",
    "        self.derivate(order)\n",
    "\n",
    "    def derivate(self,order):\n",
    "        for i in range(1,order+1):\n",
    "            self.dcoef = np.multiply(self.dcoef,self.dexp)[:-1]\n",
    "            self.dexp = self.dexp[:-1]-1\n",
    "    \n",
    "    def __repr__(self):\n",
    "        rep_str = \"Polynomial: \"\n",
    "        der_str = \"Order \" + str(self.order) + \" Derivative: \"\n",
    "        for i in range(len(self.coef)):\n",
    "            if self.exp[i] > 0:\n",
    "                rep_str += str(self.coef[i])+'x^'+str(self.exp[i])+ ' + '\n",
    "            else:\n",
    "                rep_str += str(self.coef[i])\n",
    "        for i in range(len(self.dcoef)):\n",
    "            if self.dexp[i] > 0:\n",
    "                der_str += str(self.dcoef[i])+'x^'+str(self.dexp[i])+ ' + '\n",
    "            else:\n",
    "                der_str += str(self.dcoef[i])\n",
    "        return rep_str +' \\n' + der_str\n"
   ]
  },
  {
   "cell_type": "code",
   "execution_count": 149,
   "metadata": {},
   "outputs": [],
   "source": [
    "poly = Polynomial([1,2,3,4,5])"
   ]
  },
  {
   "cell_type": "code",
   "execution_count": 150,
   "metadata": {},
   "outputs": [
    {
     "data": {
      "text/plain": [
       "Polynomial: 1x^4 + 2x^3 + 3x^2 + 4x^1 + 5"
      ]
     },
     "execution_count": 150,
     "metadata": {},
     "output_type": "execute_result"
    }
   ],
   "source": [
    "poly"
   ]
  },
  {
   "cell_type": "code",
   "execution_count": 151,
   "metadata": {},
   "outputs": [
    {
     "data": {
      "text/plain": [
       "array([4, 3, 2, 1, 0])"
      ]
     },
     "execution_count": 151,
     "metadata": {},
     "output_type": "execute_result"
    }
   ],
   "source": [
    "poly.exp"
   ]
  },
  {
   "cell_type": "code",
   "execution_count": 152,
   "metadata": {},
   "outputs": [
    {
     "data": {
      "text/plain": [
       "array([1, 2, 3, 4, 5])"
      ]
     },
     "execution_count": 152,
     "metadata": {},
     "output_type": "execute_result"
    }
   ],
   "source": [
    "poly.coef"
   ]
  },
  {
   "cell_type": "code",
   "execution_count": 153,
   "metadata": {},
   "outputs": [
    {
     "data": {
      "text/plain": [
       "1871"
      ]
     },
     "execution_count": 153,
     "metadata": {},
     "output_type": "execute_result"
    }
   ],
   "source": [
    "poly.result(5)"
   ]
  },
  {
   "cell_type": "code",
   "execution_count": 154,
   "metadata": {},
   "outputs": [
    {
     "data": {
      "text/plain": [
       "Polynomial: 1x^4 + 2x^3 + 3x^2 + 4x^1 + 5 \n",
       "Order 2 Derivative: 12x^2 + 12x^1 + 6"
      ]
     },
     "execution_count": 154,
     "metadata": {},
     "output_type": "execute_result"
    }
   ],
   "source": [
    "polyD = Derivative([1,2,3,4,5],order=2)\n",
    "polyD"
   ]
  },
  {
   "cell_type": "code",
   "execution_count": 88,
   "metadata": {},
   "outputs": [
    {
     "name": "stdout",
     "output_type": "stream",
     "text": [
      "1\n"
     ]
    }
   ],
   "source": [
    "for i in range(1,order+1):\n",
    "    print(i)"
   ]
  },
  {
   "cell_type": "code",
   "execution_count": 91,
   "metadata": {},
   "outputs": [
    {
     "data": {
      "text/plain": [
       "array([1, 2, 3, 4, 5])"
      ]
     },
     "execution_count": 91,
     "metadata": {},
     "output_type": "execute_result"
    }
   ],
   "source": [
    "poly.coef"
   ]
  },
  {
   "cell_type": "code",
   "execution_count": 92,
   "metadata": {},
   "outputs": [
    {
     "data": {
      "text/plain": [
       "array([4, 3, 2, 1, 0])"
      ]
     },
     "execution_count": 92,
     "metadata": {},
     "output_type": "execute_result"
    }
   ],
   "source": [
    "poly.exp"
   ]
  },
  {
   "cell_type": "code",
   "execution_count": 96,
   "metadata": {},
   "outputs": [],
   "source": [
    "string = ''\n",
    "for i in range(len(poly.coef)):\n",
    "    if poly.exp[i] > 0:\n",
    "        string += str(poly.coef[i])+'x^'+str(poly.exp[i])+ ' + '\n",
    "    else:\n",
    "        string += str(poly.coef[i])"
   ]
  },
  {
   "cell_type": "code",
   "execution_count": 97,
   "metadata": {},
   "outputs": [
    {
     "data": {
      "text/plain": [
       "'1x^4 + 2x^3 + 3x^2 + 4x^1 + 5'"
      ]
     },
     "execution_count": 97,
     "metadata": {},
     "output_type": "execute_result"
    }
   ],
   "source": [
    "string"
   ]
  },
  {
   "cell_type": "code",
   "execution_count": null,
   "metadata": {},
   "outputs": [],
   "source": []
  }
 ],
 "metadata": {
  "kernelspec": {
   "display_name": "Python 3",
   "language": "python",
   "name": "python3"
  },
  "language_info": {
   "codemirror_mode": {
    "name": "ipython",
    "version": 3
   },
   "file_extension": ".py",
   "mimetype": "text/x-python",
   "name": "python",
   "nbconvert_exporter": "python",
   "pygments_lexer": "ipython3",
   "version": "3.6.4"
  }
 },
 "nbformat": 4,
 "nbformat_minor": 2
}
