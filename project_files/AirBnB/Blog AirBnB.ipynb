{
 "cells": [
  {
   "cell_type": "markdown",
   "metadata": {},
   "source": [
    "# AirBnB Project for  **Project: Write A Data Science Blog Post**"
   ]
  },
  {
   "cell_type": "markdown",
   "metadata": {},
   "source": [
    "### 0.1  Key Steps for Project"
   ]
  },
  {
   "cell_type": "markdown",
   "metadata": {},
   "source": [
    "Feel free to be creative with your solutions, but do follow the CRISP-DM process in finding your solutions.\n",
    "\n",
    "1) Pick a dataset.\n",
    "   I chose the AirBnnB dataset.  Because why not..\n",
    "\n",
    "2) Pose at least three questions related to business or real-world applications of how the data could be used.\n",
    "\n",
    "3) Create a Jupyter Notebook, using any associated packages you'd like, to:\n",
    "\n",
    "    Prepare data:\n",
    "        Gather necessary data to answer your questions\n",
    "        Handle categorical and missing data\n",
    "        Provide insight into the methods you chose and why you chose them\n",
    "\n",
    "    Analyze, Model, and Visualize\n",
    "        Provide a clear connection between your business questions and how the data answers them.\n",
    "\n",
    "4) Communicate your business insights:\n",
    "\n",
    "    Create a Github repository to share your code and data wrangling/modeling techniques, with a technical audience in mind\n",
    "    Create a blog post to share your questions and insights with a non-technical audience\n",
    "\n",
    "Your deliverables will be a Github repo and a blog post. Use the rubric here to assist in successfully completing this project!"
   ]
  },
  {
   "cell_type": "markdown",
   "metadata": {},
   "source": [
    "## 0.2 [Rubric](https://review.udacity.com/#!/rubrics/1507/view)"
   ]
  },
  {
   "cell_type": "markdown",
   "metadata": {},
   "source": [
    "#### Code Functionality and Readability\n",
    "* Code is readable (uses good coding practices - PEP8) \n",
    "* Code is functional.\n",
    "* Write code that is well documented and uses functions and classes as necessary.\n",
    "\n",
    "#### Data\n",
    "* Project follows the CRISP-DM Process while analyzing their data.\n",
    "* Proper handling of categorical and missing values in the dataset.\n",
    "* Categorical variables are handled appropriately for machine learning models (if models are created). \n",
    "\n",
    "#### Analysis, Modeling, Visualization\n",
    "* There are 3-5 business questions answered.\n",
    "\t\n",
    "#### Github Repository\n",
    "* Student must publish their code in a public Github repository.\n",
    "\t\n",
    "#### Blog Post\n",
    "* Communicate their findings with stakeholders.\n",
    "* There should be an intriguing title and image related to the project.\n",
    "* The body of the post has paragraphs that are broken up by appropriate white space and images.\n",
    "* Each question has a clearly communicated solution."
   ]
  },
  {
   "cell_type": "markdown",
   "metadata": {},
   "source": [
    "##  0.3  CRISP-DM\n",
    "### 0.3.1 Business Understanding/Data Understanding\n",
    "          AirBnB is an online marketplace for vacation/temporary houseing rentals.  Thier members/hosts own the property and rent via the  AirBnB marketplace.\n",
    "          \n",
    "          The data provides was provided each from Seattle and Bostom\n",
    "          * listing.csv\n",
    "          * calendar.csv\n",
    "          * reviews.csv\n",
    "          \n",
    "          How to best position your property to make the most revenue?\n",
    "          1) What time of year is best to make your property availible to get the most money?\n",
    "              Summer months for most properties, but there seem to bes some very high outliers around the holidays...\n",
    "          2) Know your capacity?   What neighborhoods/property type/property attributes sell better?\n",
    "   \n",
    "          3) What do you need in your profile to garuntee your property is reviewed and reviewed high\n",
    "          \n",
    "          \n",
    "### 0.3.2 Data Preparation\n",
    "        1) Imported listing and calendar\n",
    "        #clean_cal() and clean_listing()\n",
    "        2) Corrected and adjusted datatypes  \n",
    "        3) Took some columns and made them into booleans (presnence or absence of awnser)\n",
    "        \n",
    "        \n",
    "     \n",
    "#### 0.3.2.1 Cleaning Data\n",
    "        Price is our response variable\n",
    "        1) removed all rows where price was NA\n",
    "        2) Removed a column that was mostly NAs\n",
    "        3) removed a few rows of the remaining NA\n",
    "        \n",
    "        \n",
    "### 0.3.3 Modeling\n",
    "### 0.3.4 Evaluation\n",
    "### 0.3.5 Deployment"
   ]
  },
  {
   "cell_type": "markdown",
   "metadata": {},
   "source": [
    "## 1.1 Header"
   ]
  },
  {
   "cell_type": "code",
   "execution_count": 1,
   "metadata": {},
   "outputs": [],
   "source": [
    "%matplotlib inline\n",
    "import pandas as pd\n",
    "import numpy as np\n",
    "import os.path as op\n",
    "\n",
    "#stats\n",
    "import scipy.stats as stats\n",
    "import statsmodels.api as sm\n",
    "import statsmodels.formula.api as smf\n",
    "from statsmodels.formula.api import ols\n",
    "\n",
    "import ast\n",
    "import math\n",
    "import os\n",
    "from datetime import date\n",
    "\n",
    "#Graphing\n",
    "import seaborn as sns\n",
    "import matplotlib.pyplot as plt\n",
    "import helper as h\n",
    "\n",
    "#Data modeling\n",
    "from sklearn.linear_model import LinearRegression\n",
    "from sklearn.preprocessing import StandardScaler,normalize\n",
    "from sklearn.model_selection import train_test_split\n",
    "from sklearn.metrics import r2_score, mean_squared_error\n",
    "from sklearn.decomposition import pca"
   ]
  },
  {
   "cell_type": "code",
   "execution_count": 2,
   "metadata": {},
   "outputs": [
    {
     "data": {
      "text/plain": [
       "'C:\\\\Users\\\\thoma\\\\Documents\\\\Udacity\\\\DSND_Term2\\\\project_files\\\\AirBnB\\\\All Data'"
      ]
     },
     "execution_count": 2,
     "metadata": {},
     "output_type": "execute_result"
    }
   ],
   "source": [
    "PATH = os.getcwd()+\"\\All Data\"\n",
    "PATH"
   ]
  },
  {
   "cell_type": "code",
   "execution_count": 3,
   "metadata": {},
   "outputs": [
    {
     "data": {
      "text/plain": [
       "['.ipynb_checkpoints',\n",
       " 'b_calendar.csv',\n",
       " 'b_listings.csv',\n",
       " 'b_reviews.csv',\n",
       " 's_calendar.csv',\n",
       " 's_listings.csv',\n",
       " 's_reviews.csv']"
      ]
     },
     "execution_count": 3,
     "metadata": {},
     "output_type": "execute_result"
    }
   ],
   "source": [
    "os.listdir(PATH)"
   ]
  },
  {
   "cell_type": "code",
   "execution_count": null,
   "metadata": {},
   "outputs": [],
   "source": []
  },
  {
   "cell_type": "code",
   "execution_count": null,
   "metadata": {},
   "outputs": [],
   "source": []
  },
  {
   "cell_type": "code",
   "execution_count": 4,
   "metadata": {},
   "outputs": [],
   "source": [
    "def clean_listings(df):\n",
    "    ''' Return a cleaned dataframe derived from listing.csv file\n",
    "\n",
    "    1) Fixes percentage & currency strings to float\n",
    "    2) Fixes datatype of oject to categories were appropraite\n",
    "    3) Fixes bool strings to bool cols\n",
    "    2) Fixes Datetime cols -> datetime format\n",
    "    3) There are two columns that have list containing strings, convert to one hot encoded columns \n",
    "    4) \n",
    "    5) \n",
    "\n",
    "    Parameters\n",
    "    -------\n",
    "    df:  Pandas DataFrame with an already imported lsiting.csv\n",
    "\n",
    "    '''\n",
    "\n",
    "    ## Clean percentage strings to float values\n",
    "    pct_col = ['host_acceptance_rate','host_response_rate']\n",
    "    for pc in pct_col:\n",
    "        df[pc] = df[pc].str.strip(\"%\")\n",
    "        df[pc] = df[pc].astype('float')\n",
    "        df[pc] = df[pc].apply(lambda x: x/100)\n",
    "        #df[pc] = df[pc].map('{:,.2%}'.format)\n",
    "        \n",
    "    ## Clean dollar strings to value\n",
    "\n",
    "    dol_col = ['price','weekly_price','monthly_price','security_deposit','cleaning_fee','extra_people']\n",
    "    for dol in dol_col:\n",
    "        df[dol] = df[dol].str.replace('$','')\n",
    "        df[dol] = df[dol].str.replace(',','')\n",
    "        df[dol] = df[dol].astype('float')\n",
    "        #df[dol] = df[dol].map('${:,.2f}'.format)\n",
    "        \n",
    "    ## Change type to category\n",
    "    cat_col = ['host_response_time','host_location','host_neighbourhood','neighbourhood',\n",
    "               'neighbourhood_cleansed','neighbourhood_group_cleansed','city','state','zipcode',\n",
    "              'market','smart_location','country_code','country','property_type','room_type',\n",
    "              'calendar_updated','jurisdiction_names','cancellation_policy','bed_type']\n",
    "    \n",
    "    for cc in cat_col:\n",
    "        df[cc] = df[cc].astype('category')\n",
    "  \n",
    "\n",
    "    ## Fix Boolean Columns\n",
    "    bool_col = ['host_is_superhost','host_has_profile_pic','host_identity_verified',\n",
    "                'is_location_exact','has_availability','requires_license','instant_bookable',\n",
    "               'require_guest_profile_picture','require_guest_phone_verification']\n",
    "    for bc in bool_col:\n",
    "        df[bc] = df[bc].replace({'t': True,'f':False})\n",
    "        df[bc] = df[bc].astype(bool)\n",
    "\n",
    "    ## Fix Datetime columns\n",
    "    dt_col = ['last_scraped','host_since','calendar_last_scraped','first_review','last_review']\n",
    "    for dt in dt_col:\n",
    "        df[dt] = pd.to_datetime(df[dt])\n",
    "\n",
    "    ## Fix list column\n",
    "    ## The following code transforms column 'host_verification' to a usable matrix of \n",
    "    ##     one hot encoding the contained communicaiton methods      \n",
    "    \n",
    "    df2 = pd.DataFrame(df['host_verifications'].apply(lambda x:ast.literal_eval(x)))  # string to list #\n",
    "    df3 = df2.host_verifications.apply(pd.Series)                                   # list -> series across columns #\n",
    "    df2 = df2.merge(df3, right_index=True, left_index=True)\n",
    "    df2 = df2.reset_index().melt(id_vars=['id','host_verifications'],value_name = 'host_sm_ver')\n",
    "    df2 = df2.pivot_table(values='variable',columns='host_sm_ver',index='id',aggfunc='count',fill_value=0)\n",
    "    df2 = df2.add_prefix('hv::')\n",
    "    df = df.merge(df2,left_index=True, right_index=True)\n",
    "\n",
    "    \n",
    "    \n",
    "    df4 = pd.DataFrame(df_listing['amenities'].apply(lambda x:\n",
    "                           x.replace('\\\"','').replace('{','').replace('}','').split(',')))\n",
    "    df5 = df4.iloc[:,0].apply(pd.Series)\n",
    "    df4 = df4.merge(df5,left_index=True,right_index=True)\n",
    "    df4 = df4.reset_index().melt(id_vars=['id','amenities'],value_name = 'amms')\n",
    "    df4 = df4.pivot_table(values='variable',columns='amms',index='id',aggfunc='count',fill_value=0)\n",
    "    df4 = df4.add_prefix('amm::')\n",
    "    df = df.merge(df4,left_index=True, right_index=True)\n",
    "    \n",
    "    ## Remaining string columns, only interested in the presence or absence.   Replace with boolean. \n",
    "    \n",
    "    \n",
    "    str_cols = ['summary', 'space', 'neighborhood_overview', 'notes', 'transit',\n",
    "   'thumbnail_url', 'medium_url', 'xl_picture_url', 'host_about']\n",
    "    \n",
    "    def replace_str(x):\n",
    "        if type(x) == float:\n",
    "            if  math.isnan(x):\n",
    "                return False\n",
    "        else: return True\n",
    "    \n",
    "    df_listed_attributes = pd.DataFrame()\n",
    "    for col in str_cols:\n",
    "        df_listed_attributes[col] = df[col].apply(lambda x: replace_str(x))\n",
    "        df_listed_attributes[col] = df_listed_attributes[col].astype('bool')\n",
    "    \n",
    "    df_listed_attributes = df_listed_attributes.add_prefix('attrib::')\n",
    "    df = df.merge(df_listed_attributes,left_index=True,right_index=True)\n",
    "    df = df.drop(columns=str_cols)\n",
    "    \n",
    "    \n",
    "    ## Drop Columns\n",
    "    '''Reasons\n",
    "    All N/A: licence\n",
    "    No N/A: listing_url\n",
    "    onehot: host_verifications\n",
    "    am\n",
    "       \n",
    "    '''\n",
    "    drop_cols = ['license','host_verifications','amenities']  \n",
    "    df = df.drop(columns=drop_cols)\n",
    "    return df\n"
   ]
  },
  {
   "cell_type": "code",
   "execution_count": 5,
   "metadata": {},
   "outputs": [],
   "source": [
    "def clean_cal(df):\n",
    "    ''' Return a cleaned dataframe derived from listing.csv file\n",
    "\n",
    "    1) Fixes Datetime cols -> datetime format\n",
    "    2) Fixes percentage strings to float\n",
    "    3) Fixes bool strings to bool cols\n",
    "    4) Fixes datatype of oject to categories were appropraite\n",
    "    5) \n",
    "\n",
    "    Parameters\n",
    "    -------\n",
    "    df:  Pandas DataFrame with an already imported lsiting.csv\n",
    "\n",
    "    '''\n",
    "    dol_col= ['price']\n",
    "    for dol in dol_col:\n",
    "        df[dol] = df[dol].str.replace('$','')\n",
    "        df[dol] = df[dol].str.replace(',','')\n",
    "        df[dol] = df[dol].astype('float')\n",
    "        \n",
    "    ## Fix Datetime columns\n",
    "    dt_col = ['date']\n",
    "    for dt in dt_col:\n",
    "        df[dt] = pd.to_datetime(df[dt])\n",
    "\n",
    "        \n",
    "    ## Expand Datetime\n",
    "    df['week_num'] = df['date'].apply(lambda x: date.isocalendar(x)[1])\n",
    "    df['month'] = df['date'].apply(lambda x: x.month)\n",
    "    df['year'] = df['date'].apply(lambda x: x.year)\n",
    "    \n",
    "    ## Fix Bool Columns\n",
    "\n",
    "    bool_col = ['available']\n",
    "    for bc in bool_col:\n",
    "        df[bc] = df[bc].replace({'t': True,'f':False})\n",
    "        df[bc] = df[bc].astype(bool)\n",
    "\n",
    "    \n",
    "    \n",
    "    \n",
    "    return df"
   ]
  },
  {
   "cell_type": "code",
   "execution_count": 6,
   "metadata": {},
   "outputs": [],
   "source": [
    "df_listing = pd.read_csv(PATH+'\\s_listings.csv',index_col=0)"
   ]
  },
  {
   "cell_type": "code",
   "execution_count": 7,
   "metadata": {},
   "outputs": [
    {
     "name": "stderr",
     "output_type": "stream",
     "text": [
      "C:\\Users\\thoma\\Anaconda3\\lib\\site-packages\\numpy\\lib\\arraysetops.py:472: FutureWarning: elementwise comparison failed; returning scalar instead, but in the future will perform elementwise comparison\n",
      "  mask |= (ar1 == a)\n"
     ]
    }
   ],
   "source": [
    "df_cal = pd.read_csv(PATH+'\\s_calendar.csv',index_col=0)"
   ]
  },
  {
   "cell_type": "code",
   "execution_count": 8,
   "metadata": {},
   "outputs": [],
   "source": [
    "df_listing = clean_listings(df_listing)"
   ]
  },
  {
   "cell_type": "code",
   "execution_count": 9,
   "metadata": {},
   "outputs": [],
   "source": [
    "df_cal = clean_cal(df_cal)"
   ]
  },
  {
   "cell_type": "markdown",
   "metadata": {},
   "source": [
    "### Q1.What time of year is best to make your property availible to get the most money?"
   ]
  },
  {
   "cell_type": "code",
   "execution_count": null,
   "metadata": {},
   "outputs": [],
   "source": []
  },
  {
   "cell_type": "code",
   "execution_count": 13,
   "metadata": {},
   "outputs": [
    {
     "data": {
      "text/plain": [
       "<matplotlib.axes._subplots.AxesSubplot at 0x20980e68908>"
      ]
     },
     "execution_count": 13,
     "metadata": {},
     "output_type": "execute_result"
    },
    {
     "data": {
      "image/png": "[encoded data removed]",
      "text/plain": [
       "<Figure size 432x288 with 1 Axes>"
      ]
     },
     "metadata": {
      "needs_background": "light"
     },
     "output_type": "display_data"
    }
   ],
   "source": [
    "df_cal['price'].hist(bins=30,)"
   ]
  },
  {
   "cell_type": "code",
   "execution_count": 14,
   "metadata": {},
   "outputs": [
    {
     "data": {
      "text/plain": [
       "<matplotlib.axes._subplots.AxesSubplot at 0x2098043bf28>"
      ]
     },
     "execution_count": 14,
     "metadata": {},
     "output_type": "execute_result"
    },
    {
     "data": {
      "image/png": "[encoded data removed]",
      "text/plain": [
       "<Figure size 432x288 with 1 Axes>"
      ]
     },
     "metadata": {
      "needs_background": "light"
     },
     "output_type": "display_data"
    }
   ],
   "source": [
    "pd.DataFrame(df_cal.groupby(['month'])['price'].mean()).plot()"
   ]
  },
  {
   "cell_type": "markdown",
   "metadata": {},
   "source": [
    "import matplotlib.pyplot as plt"
   ]
  },
  {
   "cell_type": "code",
   "execution_count": 15,
   "metadata": {},
   "outputs": [
    {
     "data": {
      "image/png": "[encoded data removed]",
      "text/plain": [
       "<Figure size 432x288 with 1 Axes>"
      ]
     },
     "metadata": {
      "needs_background": "light"
     },
     "output_type": "display_data"
    }
   ],
   "source": [
    "ax1 = sns.lineplot(x=df_cal['week_num'],y=df_cal['price'])"
   ]
  },
  {
   "cell_type": "code",
   "execution_count": 16,
   "metadata": {},
   "outputs": [
    {
     "data": {
      "image/png": "[encoded data removed]",
      "text/plain": [
       "<Figure size 432x288 with 1 Axes>"
      ]
     },
     "metadata": {
      "needs_background": "light"
     },
     "output_type": "display_data"
    }
   ],
   "source": [
    "ax1 = sns.boxplot(y=df_cal['price'],x=df_cal['month'],)"
   ]
  },
  {
   "cell_type": "code",
   "execution_count": 17,
   "metadata": {},
   "outputs": [
    {
     "data": {
      "image/png": "[encoded data removed]",
      "text/plain": [
       "<Figure size 432x288 with 1 Axes>"
      ]
     },
     "metadata": {
      "needs_background": "light"
     },
     "output_type": "display_data"
    }
   ],
   "source": [
    "ax1 = sns.boxplot(y=df_cal['price'],x=df_cal['month'],showfliers=False)"
   ]
  },
  {
   "cell_type": "code",
   "execution_count": 18,
   "metadata": {},
   "outputs": [
    {
     "name": "stdout",
     "output_type": "stream",
     "text": [
      "                sum_sq        df            F  PR(>F)\n",
      "month     1.808500e+07       1.0  1641.275915     0.0\n",
      "Residual  1.029757e+10  934540.0          NaN     NaN\n"
     ]
    }
   ],
   "source": [
    "mod = ols('price ~ month',data=df_cal).fit()\n",
    "aov_table = sm.stats.anova_lm(mod, typ=2)\n",
    "print(aov_table)"
   ]
  },
  {
   "cell_type": "code",
   "execution_count": 19,
   "metadata": {},
   "outputs": [
    {
     "data": {
      "text/plain": [
       "<matplotlib.axes._subplots.AxesSubplot at 0x2098122e400>"
      ]
     },
     "execution_count": 19,
     "metadata": {},
     "output_type": "execute_result"
    },
    {
     "data": {
      "image/png": "[encoded data removed]",
      "text/plain": [
       "<Figure size 432x288 with 1 Axes>"
      ]
     },
     "metadata": {
      "needs_background": "light"
     },
     "output_type": "display_data"
    }
   ],
   "source": [
    "#Create a boxplot\n",
    "df_cal.boxplot('price', by='month', figsize=(6, 4),showfliers=False)"
   ]
  },
  {
   "cell_type": "code",
   "execution_count": null,
   "metadata": {},
   "outputs": [],
   "source": []
  },
  {
   "cell_type": "code",
   "execution_count": null,
   "metadata": {},
   "outputs": [],
   "source": []
  },
  {
   "cell_type": "markdown",
   "metadata": {},
   "source": []
  },
  {
   "cell_type": "markdown",
   "metadata": {},
   "source": [
    "## END OF QUESTION 1"
   ]
  },
  {
   "cell_type": "markdown",
   "metadata": {},
   "source": [
    "Question 2:  Know your capacity?   Waht neighborhoods/property type/property attributes sell better?"
   ]
  },
  {
   "cell_type": "code",
   "execution_count": 20,
   "metadata": {},
   "outputs": [],
   "source": [
    "def compile_and_clean_attr_data(df_list,df_cal):\n",
    "    \n",
    "    #Using the average list prices in df_cal['price'] vs the current listing price df_list['price']\n",
    "    df_avg_price = pd.DataFrame(df_cal.groupby(by=['listing_id'])['price'].mean())\n",
    "    df_list = df_list.drop(columns='price')\n",
    "    \n",
    "    \n",
    "    df = df_avg_price.merge(df_list,left_index=True,right_index=True)\n",
    "    \n",
    "    #Strip Xs down to the property/physical attributes of the property\n",
    "    ammenities = list(df.filter(like='amm').columns.values)\n",
    "    physical_attr_loc = ['price','bathrooms','bedrooms','beds','neighbourhood_cleansed',\n",
    "                     'neighbourhood_group_cleansed','property_type','room_type','bed_type',\n",
    "                    'accommodates','guests_included'] + ammenities\n",
    "    \n",
    "    df = df[physical_attr_loc]\n",
    "    ##Clean Nas \n",
    "    \n",
    "    # Drop all rows without a y (price)\n",
    "    df = df.dropna(axis=0,subset=['price'])\n",
    "    \n",
    "    # Dropping rows b/c The following had a low number of n/a rows and would be difficult to impute, \n",
    "    df = df.drop(index=df.loc[df['bedrooms'].isna(),:].index )\n",
    "    df = df.drop(index=df.loc[df['property_type'].isna(),:].index )\n",
    "    df = df.drop(index=df.loc[df['bathrooms'].isna(),:].index )\n",
    "    \n",
    "    \n",
    "    #Creating a log-transformed price column to \n",
    "    df.insert(column='price_log',loc=1,value=np.nan)\n",
    "    df['price_log'] = df['price'].apply(lambda x: np.log(x))\n",
    "    \n",
    "    # One hot encode the categorical columns\n",
    "    cat_col = list(df.select_dtypes(include='category').columns.values)\n",
    "    df = df.merge(pd.get_dummies(df[cat_col],prefix_sep='::'),right_index=True, left_index=True)\n",
    "    df = df.drop(columns=cat_col)\n",
    "    \n",
    "    #Standardize\n",
    "    std_col = ['price','price_log']\n",
    "    \n",
    "    #Normalize\n",
    "    norm_col = ['accommodates','guests_included','bathrooms','bedrooms','beds']\n",
    "    \n",
    "    return df"
   ]
  },
  {
   "cell_type": "code",
   "execution_count": 21,
   "metadata": {},
   "outputs": [],
   "source": [
    "df_q2 = compile_and_clean_attr_data(df_listing,df_cal)"
   ]
  },
  {
   "cell_type": "markdown",
   "metadata": {},
   "source": [
    "#### Standardize and Normalize\n"
   ]
  },
  {
   "cell_type": "code",
   "execution_count": 22,
   "metadata": {},
   "outputs": [],
   "source": [
    "#Standardize\n",
    "std_col = ['price','price_log']\n",
    "blah = StandardScaler()\n",
    "\n",
    "df_q2[std_col] = blah.fit_transform(df_q2[std_col])\n",
    "\n",
    "#Normalize\n",
    "norm_col = ['accommodates','guests_included','bathrooms','bedrooms','beds']\n",
    "\n",
    "df_q2[norm_col] = normalize(df_q2[norm_col])"
   ]
  },
  {
   "cell_type": "code",
   "execution_count": null,
   "metadata": {},
   "outputs": [],
   "source": []
  },
  {
   "cell_type": "code",
   "execution_count": null,
   "metadata": {},
   "outputs": [],
   "source": []
  },
  {
   "cell_type": "markdown",
   "metadata": {},
   "source": [
    "#### Linear Model"
   ]
  },
  {
   "cell_type": "code",
   "execution_count": 23,
   "metadata": {},
   "outputs": [],
   "source": [
    "df_q2_X = df_q2.drop(columns=['price','price_log'])\n",
    "df_q2_y1 = df_q2['price']\n",
    "df_q2_y2 = df_q2['price_log']\n",
    "\n",
    "q2_model = LinearRegression()\n",
    "\n",
    "q2_log_model = LinearRegression()\n",
    "\n",
    "q2_X_train, q2_X_test, q2_y1_train, q2_y1_test, q2_y2_train, q2_y2_test = train_test_split(df_q2_X,df_q2_y1,df_q2_y2,test_size = 0.3,random_state=72)\n",
    "\n",
    "q2_model.fit(q2_X_train,q2_y1_train)\n",
    "\n",
    "q2_log_model.fit(q2_X_train,q2_y2_train)\n",
    "\n",
    "q2_y1_predict = q2_model.predict(q2_X_test)\n",
    "\n",
    "q2_y2_predict = q2_log_model.predict(q2_X_test)"
   ]
  },
  {
   "cell_type": "code",
   "execution_count": 24,
   "metadata": {},
   "outputs": [
    {
     "data": {
      "text/plain": [
       "-5.357427914636588e+20"
      ]
     },
     "execution_count": 24,
     "metadata": {},
     "output_type": "execute_result"
    }
   ],
   "source": [
    "r2_score(q2_y1_test,q2_y1_predict)"
   ]
  },
  {
   "cell_type": "code",
   "execution_count": 25,
   "metadata": {},
   "outputs": [
    {
     "data": {
      "text/plain": [
       "-3.5044272398214136e+20"
      ]
     },
     "execution_count": 25,
     "metadata": {},
     "output_type": "execute_result"
    }
   ],
   "source": [
    "r2_score(q2_y2_test,q2_y2_predict)"
   ]
  },
  {
   "cell_type": "code",
   "execution_count": 26,
   "metadata": {},
   "outputs": [
    {
     "data": {
      "text/html": [
       "<div>\n",
       "<style scoped>\n",
       "    .dataframe tbody tr th:only-of-type {\n",
       "        vertical-align: middle;\n",
       "    }\n",
       "\n",
       "    .dataframe tbody tr th {\n",
       "        vertical-align: top;\n",
       "    }\n",
       "\n",
       "    .dataframe thead th {\n",
       "        text-align: right;\n",
       "    }\n",
       "</style>\n",
       "<table border=\"1\" class=\"dataframe\">\n",
       "  <thead>\n",
       "    <tr style=\"text-align: right;\">\n",
       "      <th></th>\n",
       "      <th>est_int</th>\n",
       "      <th>coefs</th>\n",
       "      <th>abs_coefs</th>\n",
       "    </tr>\n",
       "  </thead>\n",
       "  <tbody>\n",
       "    <tr>\n",
       "      <th>169</th>\n",
       "      <td>room_type::Shared room</td>\n",
       "      <td>-8.479426e+11</td>\n",
       "      <td>8.479426e+11</td>\n",
       "    </tr>\n",
       "    <tr>\n",
       "      <th>168</th>\n",
       "      <td>room_type::Private room</td>\n",
       "      <td>-8.479426e+11</td>\n",
       "      <td>8.479426e+11</td>\n",
       "    </tr>\n",
       "    <tr>\n",
       "      <th>167</th>\n",
       "      <td>room_type::Entire home/apt</td>\n",
       "      <td>-8.479426e+11</td>\n",
       "      <td>8.479426e+11</td>\n",
       "    </tr>\n",
       "    <tr>\n",
       "      <th>163</th>\n",
       "      <td>property_type::Tent</td>\n",
       "      <td>-4.700165e+11</td>\n",
       "      <td>4.700165e+11</td>\n",
       "    </tr>\n",
       "    <tr>\n",
       "      <th>157</th>\n",
       "      <td>property_type::Chalet</td>\n",
       "      <td>-4.700165e+11</td>\n",
       "      <td>4.700165e+11</td>\n",
       "    </tr>\n",
       "    <tr>\n",
       "      <th>151</th>\n",
       "      <td>property_type::Apartment</td>\n",
       "      <td>-4.700165e+11</td>\n",
       "      <td>4.700165e+11</td>\n",
       "    </tr>\n",
       "    <tr>\n",
       "      <th>158</th>\n",
       "      <td>property_type::Condominium</td>\n",
       "      <td>-4.700165e+11</td>\n",
       "      <td>4.700165e+11</td>\n",
       "    </tr>\n",
       "    <tr>\n",
       "      <th>165</th>\n",
       "      <td>property_type::Treehouse</td>\n",
       "      <td>-4.700165e+11</td>\n",
       "      <td>4.700165e+11</td>\n",
       "    </tr>\n",
       "    <tr>\n",
       "      <th>155</th>\n",
       "      <td>property_type::Cabin</td>\n",
       "      <td>-4.700165e+11</td>\n",
       "      <td>4.700165e+11</td>\n",
       "    </tr>\n",
       "    <tr>\n",
       "      <th>161</th>\n",
       "      <td>property_type::Loft</td>\n",
       "      <td>-4.700165e+11</td>\n",
       "      <td>4.700165e+11</td>\n",
       "    </tr>\n",
       "    <tr>\n",
       "      <th>156</th>\n",
       "      <td>property_type::Camper/RV</td>\n",
       "      <td>-4.700165e+11</td>\n",
       "      <td>4.700165e+11</td>\n",
       "    </tr>\n",
       "    <tr>\n",
       "      <th>162</th>\n",
       "      <td>property_type::Other</td>\n",
       "      <td>-4.700165e+11</td>\n",
       "      <td>4.700165e+11</td>\n",
       "    </tr>\n",
       "    <tr>\n",
       "      <th>154</th>\n",
       "      <td>property_type::Bungalow</td>\n",
       "      <td>-4.700165e+11</td>\n",
       "      <td>4.700165e+11</td>\n",
       "    </tr>\n",
       "    <tr>\n",
       "      <th>166</th>\n",
       "      <td>property_type::Yurt</td>\n",
       "      <td>-4.700165e+11</td>\n",
       "      <td>4.700165e+11</td>\n",
       "    </tr>\n",
       "    <tr>\n",
       "      <th>160</th>\n",
       "      <td>property_type::House</td>\n",
       "      <td>-4.700165e+11</td>\n",
       "      <td>4.700165e+11</td>\n",
       "    </tr>\n",
       "  </tbody>\n",
       "</table>\n",
       "</div>"
      ],
      "text/plain": [
       "                        est_int         coefs     abs_coefs\n",
       "169      room_type::Shared room -8.479426e+11  8.479426e+11\n",
       "168     room_type::Private room -8.479426e+11  8.479426e+11\n",
       "167  room_type::Entire home/apt -8.479426e+11  8.479426e+11\n",
       "163         property_type::Tent -4.700165e+11  4.700165e+11\n",
       "157       property_type::Chalet -4.700165e+11  4.700165e+11\n",
       "151    property_type::Apartment -4.700165e+11  4.700165e+11\n",
       "158  property_type::Condominium -4.700165e+11  4.700165e+11\n",
       "165    property_type::Treehouse -4.700165e+11  4.700165e+11\n",
       "155        property_type::Cabin -4.700165e+11  4.700165e+11\n",
       "161         property_type::Loft -4.700165e+11  4.700165e+11\n",
       "156    property_type::Camper/RV -4.700165e+11  4.700165e+11\n",
       "162        property_type::Other -4.700165e+11  4.700165e+11\n",
       "154     property_type::Bungalow -4.700165e+11  4.700165e+11\n",
       "166         property_type::Yurt -4.700165e+11  4.700165e+11\n",
       "160        property_type::House -4.700165e+11  4.700165e+11"
      ]
     },
     "execution_count": 26,
     "metadata": {},
     "output_type": "execute_result"
    }
   ],
   "source": [
    "coefs_df = pd.DataFrame()\n",
    "coefs_df['est_int'] = q2_X_train.columns\n",
    "coefs_df['coefs'] = q2_model.coef_\n",
    "coefs_df['abs_coefs'] = np.abs(q2_model.coef_)\n",
    "coefs_df = coefs_df.sort_values('abs_coefs', ascending=False)\n",
    "coefs_df[0:15]"
   ]
  },
  {
   "cell_type": "code",
   "execution_count": 63,
   "metadata": {},
   "outputs": [],
   "source": [
    "coefs_df['type'] = coefs_df['est_int'].apply(lambda x: x.split(':')[0])"
   ]
  },
  {
   "cell_type": "code",
   "execution_count": 64,
   "metadata": {},
   "outputs": [
    {
     "data": {
      "text/plain": [
       "type\n",
       "room_type                       8.479426e+11\n",
       "property_type                   4.406404e+11\n",
       "bed_type                        1.370605e+11\n",
       "neighbourhood_group_cleansed    4.714565e+10\n",
       "neighbourhood_cleansed          4.196420e+10\n",
       "bathrooms                       1.727845e+00\n",
       "Name: abs_coefs, dtype: float64"
      ]
     },
     "execution_count": 64,
     "metadata": {},
     "output_type": "execute_result"
    }
   ],
   "source": [
    "coefs_df.groupby(by='type')['abs_coefs'].mean().sort_values(ascending=False).head(6)"
   ]
  },
  {
   "cell_type": "code",
   "execution_count": 171,
   "metadata": {},
   "outputs": [
    {
     "data": {
      "text/plain": [
       "Index(['price', 'price_log', 'room_type::Entire home/apt',\n",
       "       'amm::Family/Kid Friendly', 'amm::Cable TV', 'accommodates', 'amm::TV',\n",
       "       'amm::Air Conditioning'],\n",
       "      dtype='object')"
      ]
     },
     "execution_count": 171,
     "metadata": {},
     "output_type": "execute_result"
    }
   ],
   "source": [
    "df_q2_corr = df_q2.corr().sort_values(by='price',ascending=False)\n",
    "\n",
    "df_q2_corr = df_q2_corr[['price']]\n",
    "\n",
    "df_q2_corr.insert(loc=0,column='type',value=df_q2_corr.index)\n",
    "\n",
    "df_q2_corr.loc[:,'type'] = df_q2_corr['type'].apply(lambda x: x.split(':')[0])\n",
    "\n",
    "list(df_q2_corr.head(8).index)"
   ]
  },
  {
   "cell_type": "code",
   "execution_count": 175,
   "metadata": {},
   "outputs": [
    {
     "data": {
      "text/html": [
       "<div>\n",
       "<style scoped>\n",
       "    .dataframe tbody tr th:only-of-type {\n",
       "        vertical-align: middle;\n",
       "    }\n",
       "\n",
       "    .dataframe tbody tr th {\n",
       "        vertical-align: top;\n",
       "    }\n",
       "\n",
       "    .dataframe thead th {\n",
       "        text-align: right;\n",
       "    }\n",
       "</style>\n",
       "<table border=\"1\" class=\"dataframe\">\n",
       "  <thead>\n",
       "    <tr style=\"text-align: right;\">\n",
       "      <th></th>\n",
       "      <th>price</th>\n",
       "      <th>price_log</th>\n",
       "      <th>room_type::Entire home/apt</th>\n",
       "      <th>amm::Family/Kid Friendly</th>\n",
       "      <th>amm::Cable TV</th>\n",
       "      <th>accommodates</th>\n",
       "      <th>amm::TV</th>\n",
       "      <th>amm::Air Conditioning</th>\n",
       "    </tr>\n",
       "  </thead>\n",
       "  <tbody>\n",
       "    <tr>\n",
       "      <th>price</th>\n",
       "      <td>1.000000</td>\n",
       "      <td>0.900338</td>\n",
       "      <td>0.451405</td>\n",
       "      <td>0.278299</td>\n",
       "      <td>0.277180</td>\n",
       "      <td>0.231935</td>\n",
       "      <td>0.229050</td>\n",
       "      <td>0.174315</td>\n",
       "    </tr>\n",
       "    <tr>\n",
       "      <th>price_log</th>\n",
       "      <td>0.900338</td>\n",
       "      <td>1.000000</td>\n",
       "      <td>0.620704</td>\n",
       "      <td>0.323981</td>\n",
       "      <td>0.319979</td>\n",
       "      <td>0.349945</td>\n",
       "      <td>0.292795</td>\n",
       "      <td>0.170329</td>\n",
       "    </tr>\n",
       "    <tr>\n",
       "      <th>room_type::Entire home/apt</th>\n",
       "      <td>0.451405</td>\n",
       "      <td>0.620704</td>\n",
       "      <td>1.000000</td>\n",
       "      <td>0.249497</td>\n",
       "      <td>0.209171</td>\n",
       "      <td>0.421489</td>\n",
       "      <td>0.249720</td>\n",
       "      <td>0.080692</td>\n",
       "    </tr>\n",
       "    <tr>\n",
       "      <th>amm::Family/Kid Friendly</th>\n",
       "      <td>0.278299</td>\n",
       "      <td>0.323981</td>\n",
       "      <td>0.249497</td>\n",
       "      <td>1.000000</td>\n",
       "      <td>0.169711</td>\n",
       "      <td>0.248178</td>\n",
       "      <td>0.164675</td>\n",
       "      <td>0.079589</td>\n",
       "    </tr>\n",
       "    <tr>\n",
       "      <th>amm::Cable TV</th>\n",
       "      <td>0.277180</td>\n",
       "      <td>0.319979</td>\n",
       "      <td>0.209171</td>\n",
       "      <td>0.169711</td>\n",
       "      <td>1.000000</td>\n",
       "      <td>0.150046</td>\n",
       "      <td>0.347501</td>\n",
       "      <td>0.158042</td>\n",
       "    </tr>\n",
       "    <tr>\n",
       "      <th>accommodates</th>\n",
       "      <td>0.231935</td>\n",
       "      <td>0.349945</td>\n",
       "      <td>0.421489</td>\n",
       "      <td>0.248178</td>\n",
       "      <td>0.150046</td>\n",
       "      <td>1.000000</td>\n",
       "      <td>0.179918</td>\n",
       "      <td>0.087056</td>\n",
       "    </tr>\n",
       "    <tr>\n",
       "      <th>amm::TV</th>\n",
       "      <td>0.229050</td>\n",
       "      <td>0.292795</td>\n",
       "      <td>0.249720</td>\n",
       "      <td>0.164675</td>\n",
       "      <td>0.347501</td>\n",
       "      <td>0.179918</td>\n",
       "      <td>1.000000</td>\n",
       "      <td>0.155065</td>\n",
       "    </tr>\n",
       "    <tr>\n",
       "      <th>amm::Air Conditioning</th>\n",
       "      <td>0.174315</td>\n",
       "      <td>0.170329</td>\n",
       "      <td>0.080692</td>\n",
       "      <td>0.079589</td>\n",
       "      <td>0.158042</td>\n",
       "      <td>0.087056</td>\n",
       "      <td>0.155065</td>\n",
       "      <td>1.000000</td>\n",
       "    </tr>\n",
       "  </tbody>\n",
       "</table>\n",
       "</div>"
      ],
      "text/plain": [
       "                               price  price_log  room_type::Entire home/apt  \\\n",
       "price                       1.000000   0.900338                    0.451405   \n",
       "price_log                   0.900338   1.000000                    0.620704   \n",
       "room_type::Entire home/apt  0.451405   0.620704                    1.000000   \n",
       "amm::Family/Kid Friendly    0.278299   0.323981                    0.249497   \n",
       "amm::Cable TV               0.277180   0.319979                    0.209171   \n",
       "accommodates                0.231935   0.349945                    0.421489   \n",
       "amm::TV                     0.229050   0.292795                    0.249720   \n",
       "amm::Air Conditioning       0.174315   0.170329                    0.080692   \n",
       "\n",
       "                            amm::Family/Kid Friendly  amm::Cable TV  \\\n",
       "price                                       0.278299       0.277180   \n",
       "price_log                                   0.323981       0.319979   \n",
       "room_type::Entire home/apt                  0.249497       0.209171   \n",
       "amm::Family/Kid Friendly                    1.000000       0.169711   \n",
       "amm::Cable TV                               0.169711       1.000000   \n",
       "accommodates                                0.248178       0.150046   \n",
       "amm::TV                                     0.164675       0.347501   \n",
       "amm::Air Conditioning                       0.079589       0.158042   \n",
       "\n",
       "                            accommodates   amm::TV  amm::Air Conditioning  \n",
       "price                           0.231935  0.229050               0.174315  \n",
       "price_log                       0.349945  0.292795               0.170329  \n",
       "room_type::Entire home/apt      0.421489  0.249720               0.080692  \n",
       "amm::Family/Kid Friendly        0.248178  0.164675               0.079589  \n",
       "amm::Cable TV                   0.150046  0.347501               0.158042  \n",
       "accommodates                    1.000000  0.179918               0.087056  \n",
       "amm::TV                         0.179918  1.000000               0.155065  \n",
       "amm::Air Conditioning           0.087056  0.155065               1.000000  "
      ]
     },
     "execution_count": 175,
     "metadata": {},
     "output_type": "execute_result"
    }
   ],
   "source": [
    "df_q2_corr = df_q2.corr().sort_values(by='price',ascending=False)\n",
    "\n",
    "df_q2_corr = df_q2_corr[list(df_q2_corr.head(8).index)]\n",
    "\n",
    "df_q2_corr.insert(loc=0,column='type',value=df_q2_corr.index)\n",
    "\n",
    "df_q2_corr.loc[:,'type'] = df_q2_corr['type'].apply(lambda x: x.split(':')[0])\n",
    "\n",
    "df_q2_abrv = df_q2_corr.sort_values(by='price',ascending=False).head(8)\n",
    "df_q2_abrv.drop(columns='type')\n"
   ]
  },
  {
   "cell_type": "code",
   "execution_count": 178,
   "metadata": {},
   "outputs": [
    {
     "ename": "TypeError",
     "evalue": "ufunc 'isnan' not supported for the input types, and the inputs could not be safely coerced to any supported types according to the casting rule ''safe''",
     "output_type": "error",
     "traceback": [
      "\u001b[1;31m---------------------------------------------------------------------------\u001b[0m",
      "\u001b[1;31mTypeError\u001b[0m                                 Traceback (most recent call last)",
      "\u001b[1;32m<ipython-input-178-31cde2d262e6>\u001b[0m in \u001b[0;36m<module>\u001b[1;34m\u001b[0m\n\u001b[1;32m----> 1\u001b[1;33m \u001b[0msns\u001b[0m\u001b[1;33m.\u001b[0m\u001b[0mheatmap\u001b[0m\u001b[1;33m(\u001b[0m\u001b[0mdata\u001b[0m\u001b[1;33m=\u001b[0m\u001b[0mdf_q2_abrv\u001b[0m\u001b[1;33m)\u001b[0m\u001b[1;33m\u001b[0m\u001b[0m\n\u001b[0m",
      "\u001b[1;32m~\\Anaconda3\\lib\\site-packages\\seaborn\\matrix.py\u001b[0m in \u001b[0;36mheatmap\u001b[1;34m(data, vmin, vmax, cmap, center, robust, annot, fmt, annot_kws, linewidths, linecolor, cbar, cbar_kws, cbar_ax, square, xticklabels, yticklabels, mask, ax, **kwargs)\u001b[0m\n\u001b[0;32m    515\u001b[0m     plotter = _HeatMapper(data, vmin, vmax, cmap, center, robust, annot, fmt,\n\u001b[0;32m    516\u001b[0m                           \u001b[0mannot_kws\u001b[0m\u001b[1;33m,\u001b[0m \u001b[0mcbar\u001b[0m\u001b[1;33m,\u001b[0m \u001b[0mcbar_kws\u001b[0m\u001b[1;33m,\u001b[0m \u001b[0mxticklabels\u001b[0m\u001b[1;33m,\u001b[0m\u001b[1;33m\u001b[0m\u001b[0m\n\u001b[1;32m--> 517\u001b[1;33m                           yticklabels, mask)\n\u001b[0m\u001b[0;32m    518\u001b[0m \u001b[1;33m\u001b[0m\u001b[0m\n\u001b[0;32m    519\u001b[0m     \u001b[1;31m# Add the pcolormesh kwargs here\u001b[0m\u001b[1;33m\u001b[0m\u001b[1;33m\u001b[0m\u001b[0m\n",
      "\u001b[1;32m~\\Anaconda3\\lib\\site-packages\\seaborn\\matrix.py\u001b[0m in \u001b[0;36m__init__\u001b[1;34m(self, data, vmin, vmax, cmap, center, robust, annot, fmt, annot_kws, cbar, cbar_kws, xticklabels, yticklabels, mask)\u001b[0m\n\u001b[0;32m    165\u001b[0m         \u001b[1;31m# Determine good default values for the colormapping\u001b[0m\u001b[1;33m\u001b[0m\u001b[1;33m\u001b[0m\u001b[0m\n\u001b[0;32m    166\u001b[0m         self._determine_cmap_params(plot_data, vmin, vmax,\n\u001b[1;32m--> 167\u001b[1;33m                                     cmap, center, robust)\n\u001b[0m\u001b[0;32m    168\u001b[0m \u001b[1;33m\u001b[0m\u001b[0m\n\u001b[0;32m    169\u001b[0m         \u001b[1;31m# Sort out the annotations\u001b[0m\u001b[1;33m\u001b[0m\u001b[1;33m\u001b[0m\u001b[0m\n",
      "\u001b[1;32m~\\Anaconda3\\lib\\site-packages\\seaborn\\matrix.py\u001b[0m in \u001b[0;36m_determine_cmap_params\u001b[1;34m(self, plot_data, vmin, vmax, cmap, center, robust)\u001b[0m\n\u001b[0;32m    202\u001b[0m                                cmap, center, robust):\n\u001b[0;32m    203\u001b[0m         \u001b[1;34m\"\"\"Use some heuristics to set good defaults for colorbar and range.\"\"\"\u001b[0m\u001b[1;33m\u001b[0m\u001b[0m\n\u001b[1;32m--> 204\u001b[1;33m         \u001b[0mcalc_data\u001b[0m \u001b[1;33m=\u001b[0m \u001b[0mplot_data\u001b[0m\u001b[1;33m.\u001b[0m\u001b[0mdata\u001b[0m\u001b[1;33m[\u001b[0m\u001b[1;33m~\u001b[0m\u001b[0mnp\u001b[0m\u001b[1;33m.\u001b[0m\u001b[0misnan\u001b[0m\u001b[1;33m(\u001b[0m\u001b[0mplot_data\u001b[0m\u001b[1;33m.\u001b[0m\u001b[0mdata\u001b[0m\u001b[1;33m)\u001b[0m\u001b[1;33m]\u001b[0m\u001b[1;33m\u001b[0m\u001b[0m\n\u001b[0m\u001b[0;32m    205\u001b[0m         \u001b[1;32mif\u001b[0m \u001b[0mvmin\u001b[0m \u001b[1;32mis\u001b[0m \u001b[1;32mNone\u001b[0m\u001b[1;33m:\u001b[0m\u001b[1;33m\u001b[0m\u001b[0m\n\u001b[0;32m    206\u001b[0m             \u001b[0mvmin\u001b[0m \u001b[1;33m=\u001b[0m \u001b[0mnp\u001b[0m\u001b[1;33m.\u001b[0m\u001b[0mpercentile\u001b[0m\u001b[1;33m(\u001b[0m\u001b[0mcalc_data\u001b[0m\u001b[1;33m,\u001b[0m \u001b[1;36m2\u001b[0m\u001b[1;33m)\u001b[0m \u001b[1;32mif\u001b[0m \u001b[0mrobust\u001b[0m \u001b[1;32melse\u001b[0m \u001b[0mcalc_data\u001b[0m\u001b[1;33m.\u001b[0m\u001b[0mmin\u001b[0m\u001b[1;33m(\u001b[0m\u001b[1;33m)\u001b[0m\u001b[1;33m\u001b[0m\u001b[0m\n",
      "\u001b[1;31mTypeError\u001b[0m: ufunc 'isnan' not supported for the input types, and the inputs could not be safely coerced to any supported types according to the casting rule ''safe''"
     ]
    }
   ],
   "source": [
    "sns.heatmap(data=df_q2_abrv)"
   ]
  },
  {
   "cell_type": "code",
   "execution_count": 136,
   "metadata": {},
   "outputs": [],
   "source": [
    "df_room_type= df_cal.merge(df_listing[['room_type']],left_index=True,right_index=True)"
   ]
  },
  {
   "cell_type": "code",
   "execution_count": 137,
   "metadata": {},
   "outputs": [
    {
     "data": {
      "text/plain": [
       "<matplotlib.axes._subplots.AxesSubplot at 0x2098b667160>"
      ]
     },
     "execution_count": 137,
     "metadata": {},
     "output_type": "execute_result"
    },
    {
     "data": {
      "image/png": "[encoded data removed]",
      "text/plain": [
       "<Figure size 432x288 with 1 Axes>"
      ]
     },
     "metadata": {
      "needs_background": "light"
     },
     "output_type": "display_data"
    }
   ],
   "source": [
    "sns.boxplot(x=df_room_type['room_type'],y=df_room_type['price'],showfliers=False)"
   ]
  },
  {
   "cell_type": "code",
   "execution_count": 139,
   "metadata": {},
   "outputs": [],
   "source": [
    "df_room_type.insert(loc=7,column='home/apt',value=False)"
   ]
  },
  {
   "cell_type": "code",
   "execution_count": 142,
   "metadata": {},
   "outputs": [],
   "source": [
    "df_room_type.loc[:,'home/apt'] = df_room_type['room_type'].apply(lambda x: True if x == 'Entire home/apt' else False)"
   ]
  },
  {
   "cell_type": "code",
   "execution_count": 146,
   "metadata": {},
   "outputs": [
    {
     "name": "stderr",
     "output_type": "stream",
     "text": [
      "C:\\Users\\thoma\\Anaconda3\\lib\\site-packages\\matplotlib\\figure.py:459: UserWarning: matplotlib is currently using a non-GUI backend, so cannot show the figure\n",
      "  \"matplotlib is currently using a non-GUI backend, \"\n"
     ]
    },
    {
     "data": {
      "image/png": "[encoded data removed]",
      "text/plain": [
       "<Figure size 1080x288 with 2 Axes>"
      ]
     },
     "metadata": {},
     "output_type": "display_data"
    }
   ],
   "source": [
    "f,ax = plt.subplots(1,2,sharey=True)\n",
    "f.set_figwidth(15)\n",
    "\n",
    "sns.set_style('darkgrid')\n",
    "sns.barplot(x=df_room_type['month'],y=df_room_type['price'],hue=df_room_type['home/apt'],ax=ax[1])\n",
    "sns.barplot(x=df_room_type['month'],y=df_room_type['price'],color='cyan',ax=ax[0])\n",
    "\n",
    "f.subplots_adjust(wspace=0.01, hspace=0)\n",
    "\n",
    "ax[1].set(ylim=(0, 220))\n",
    "ax[0].set(ylim=(0, 220))\n",
    "\n",
    "ax[0].set_ylabel('Price ($)')\n",
    "ax[1].set_ylabel('')\n",
    "ax[0].set_xlabel('')\n",
    "ax[1].set_xlabel('')\n",
    "\n",
    "ax[1].set_title('Average Price by Month across hot and not neighboorhoods')\n",
    "ax[0].set_title('Average Price by Month (All)')\n",
    "f.show()"
   ]
  },
  {
   "cell_type": "code",
   "execution_count": 158,
   "metadata": {},
   "outputs": [],
   "source": [
    "df_amm = df_cal.merge(df_listing.filter(like='amm'),left_index=True,right_index=True)"
   ]
  },
  {
   "cell_type": "code",
   "execution_count": 164,
   "metadata": {},
   "outputs": [
    {
     "data": {
      "text/plain": [
       "<matplotlib.axes._subplots.AxesSubplot at 0x2098e34c470>"
      ]
     },
     "execution_count": 164,
     "metadata": {},
     "output_type": "execute_result"
    },
    {
     "data": {
      "image/png": "[encoded data removed]",
      "text/plain": [
       "<Figure size 432x288 with 1 Axes>"
      ]
     },
     "metadata": {},
     "output_type": "display_data"
    }
   ],
   "source": [
    "sns.boxplot(x=df_amm['amm::Family/Kid Friendly'],y=df_room_type['price'],showfliers=False)"
   ]
  },
  {
   "cell_type": "code",
   "execution_count": 152,
   "metadata": {},
   "outputs": [],
   "source": [
    "df_amm_kid = df_cal.merge(df_listing[['amm::Family/Kid Friendly']],left_index=True,right_index=True)"
   ]
  },
  {
   "cell_type": "code",
   "execution_count": 155,
   "metadata": {},
   "outputs": [
    {
     "name": "stderr",
     "output_type": "stream",
     "text": [
      "C:\\Users\\thoma\\Anaconda3\\lib\\site-packages\\matplotlib\\figure.py:459: UserWarning: matplotlib is currently using a non-GUI backend, so cannot show the figure\n",
      "  \"matplotlib is currently using a non-GUI backend, \"\n"
     ]
    },
    {
     "data": {
      "image/png": "[encoded data removed]",
      "text/plain": [
       "<Figure size 1080x288 with 2 Axes>"
      ]
     },
     "metadata": {},
     "output_type": "display_data"
    }
   ],
   "source": [
    "f,ax = plt.subplots(1,2,sharey=True)\n",
    "f.set_figwidth(15)\n",
    "\n",
    "sns.set_style('darkgrid')\n",
    "sns.barplot(x=df_amm_kid['month'],y=df_amm_kid['price'],hue=df_amm_kid['amm::Family/Kid Friendly'],ax=ax[1])\n",
    "sns.barplot(x=df_amm_kid['month'],y=df_amm_kid['price'],color='cyan',ax=ax[0])\n",
    "\n",
    "f.subplots_adjust(wspace=0.01, hspace=0)\n",
    "\n",
    "ax[1].set(ylim=(0, 220))\n",
    "ax[0].set(ylim=(0, 220))\n",
    "\n",
    "ax[0].set_ylabel('Price ($)')\n",
    "ax[1].set_ylabel('')\n",
    "ax[0].set_xlabel('')\n",
    "ax[1].set_xlabel('')\n",
    "\n",
    "ax[1].set_title('Average Price by Month across hot and not neighboorhoods')\n",
    "ax[0].set_title('Average Price by Month (All)')\n",
    "f.show()"
   ]
  },
  {
   "cell_type": "code",
   "execution_count": 165,
   "metadata": {},
   "outputs": [
    {
     "data": {
      "text/plain": [
       "<matplotlib.axes._subplots.AxesSubplot at 0x2098e3b1128>"
      ]
     },
     "execution_count": 165,
     "metadata": {},
     "output_type": "execute_result"
    },
    {
     "data": {
      "image/png": "[encoded data removed]",
      "text/plain": [
       "<Figure size 432x288 with 1 Axes>"
      ]
     },
     "metadata": {},
     "output_type": "display_data"
    }
   ],
   "source": [
    "sns.boxplot(x=df_amm['amm::Cable TV'],y=df_room_type['price'],showfliers=False)"
   ]
  },
  {
   "cell_type": "code",
   "execution_count": 167,
   "metadata": {},
   "outputs": [
    {
     "name": "stderr",
     "output_type": "stream",
     "text": [
      "C:\\Users\\thoma\\Anaconda3\\lib\\site-packages\\matplotlib\\figure.py:459: UserWarning: matplotlib is currently using a non-GUI backend, so cannot show the figure\n",
      "  \"matplotlib is currently using a non-GUI backend, \"\n"
     ]
    },
    {
     "data": {
      "image/png": "[encoded data removed]",
      "text/plain": [
       "<Figure size 1080x288 with 2 Axes>"
      ]
     },
     "metadata": {},
     "output_type": "display_data"
    }
   ],
   "source": [
    "f,ax = plt.subplots(1,2,sharey=True)\n",
    "f.set_figwidth(15)\n",
    "\n",
    "sns.set_style('darkgrid')\n",
    "sns.barplot(x=df_amm['month'],y=df_amm['price'],hue=df_amm['amm::Cable TV'],ax=ax[1])\n",
    "sns.barplot(x=df_amm['month'],y=df_amm['price'],color='cyan',ax=ax[0])\n",
    "\n",
    "f.subplots_adjust(wspace=0.01, hspace=0)\n",
    "\n",
    "ax[1].set(ylim=(0, 220))\n",
    "ax[0].set(ylim=(0, 220))\n",
    "\n",
    "ax[0].set_ylabel('Price ($)')\n",
    "ax[1].set_ylabel('')\n",
    "ax[0].set_xlabel('')\n",
    "ax[1].set_xlabel('')\n",
    "\n",
    "ax[1].set_title('Average Price by Month across hot and not neighboorhoods')\n",
    "ax[0].set_title('Average Price by Month (All)')\n",
    "f.show()"
   ]
  },
  {
   "cell_type": "code",
   "execution_count": null,
   "metadata": {},
   "outputs": [],
   "source": []
  },
  {
   "cell_type": "code",
   "execution_count": null,
   "metadata": {},
   "outputs": [],
   "source": []
  },
  {
   "cell_type": "code",
   "execution_count": null,
   "metadata": {},
   "outputs": [],
   "source": []
  },
  {
   "cell_type": "code",
   "execution_count": null,
   "metadata": {},
   "outputs": [],
   "source": []
  },
  {
   "cell_type": "code",
   "execution_count": 31,
   "metadata": {},
   "outputs": [],
   "source": [
    "#### PCA MODEL"
   ]
  },
  {
   "cell_type": "code",
   "execution_count": 32,
   "metadata": {},
   "outputs": [
    {
     "data": {
      "text/plain": [
       "0.8119070037636605"
      ]
     },
     "execution_count": 32,
     "metadata": {},
     "output_type": "execute_result"
    }
   ],
   "source": [
    "model_1 = pca.PCA(n_components=35)\n",
    "\n",
    "q2_X_pca = model_1.fit_transform(df_q2_X)\n",
    "\n",
    "model_1.explained_variance_ratio_.sum()"
   ]
  },
  {
   "cell_type": "code",
   "execution_count": 33,
   "metadata": {},
   "outputs": [
    {
     "data": {
      "image/png": "[encoded data removed]",
      "text/plain": [
       "<Figure size 720x432 with 1 Axes>"
      ]
     },
     "metadata": {
      "needs_background": "light"
     },
     "output_type": "display_data"
    }
   ],
   "source": [
    "h.scree_plot(model_1)"
   ]
  },
  {
   "cell_type": "code",
   "execution_count": 34,
   "metadata": {},
   "outputs": [
    {
     "data": {
      "text/plain": [
       "0.35702402012082757"
      ]
     },
     "execution_count": 34,
     "metadata": {},
     "output_type": "execute_result"
    }
   ],
   "source": [
    "df_q2_X_pca = pd.DataFrame(q2_X_pca)\n",
    "\n",
    "X_train_pca, X_test_pca, y_train, y_test = train_test_split(df_q2_X_pca,df_q2_y1,test_size = 0.3,random_state=72)\n",
    "\n",
    "lmodel_pca = LinearRegression()\n",
    "\n",
    "lmodel_pca.fit(X_train_pca,y_train)\n",
    "\n",
    "y_predict_pca = lmodel_pca.predict(X_test_pca)\n",
    "\n",
    "r2_score(y_test,y_predict_pca)"
   ]
  },
  {
   "cell_type": "code",
   "execution_count": 35,
   "metadata": {},
   "outputs": [
    {
     "data": {
      "text/html": [
       "<div>\n",
       "<style scoped>\n",
       "    .dataframe tbody tr th:only-of-type {\n",
       "        vertical-align: middle;\n",
       "    }\n",
       "\n",
       "    .dataframe tbody tr th {\n",
       "        vertical-align: top;\n",
       "    }\n",
       "\n",
       "    .dataframe thead th {\n",
       "        text-align: right;\n",
       "    }\n",
       "</style>\n",
       "<table border=\"1\" class=\"dataframe\">\n",
       "  <thead>\n",
       "    <tr style=\"text-align: right;\">\n",
       "      <th></th>\n",
       "      <th>est_int</th>\n",
       "      <th>coefs</th>\n",
       "      <th>abs_coefs</th>\n",
       "    </tr>\n",
       "  </thead>\n",
       "  <tbody>\n",
       "    <tr>\n",
       "      <th>2</th>\n",
       "      <td>2</td>\n",
       "      <td>-0.525450</td>\n",
       "      <td>0.525450</td>\n",
       "    </tr>\n",
       "    <tr>\n",
       "      <th>24</th>\n",
       "      <td>24</td>\n",
       "      <td>0.360874</td>\n",
       "      <td>0.360874</td>\n",
       "    </tr>\n",
       "    <tr>\n",
       "      <th>14</th>\n",
       "      <td>14</td>\n",
       "      <td>0.355123</td>\n",
       "      <td>0.355123</td>\n",
       "    </tr>\n",
       "    <tr>\n",
       "      <th>3</th>\n",
       "      <td>3</td>\n",
       "      <td>-0.339888</td>\n",
       "      <td>0.339888</td>\n",
       "    </tr>\n",
       "    <tr>\n",
       "      <th>0</th>\n",
       "      <td>0</td>\n",
       "      <td>0.301808</td>\n",
       "      <td>0.301808</td>\n",
       "    </tr>\n",
       "  </tbody>\n",
       "</table>\n",
       "</div>"
      ],
      "text/plain": [
       "    est_int     coefs  abs_coefs\n",
       "2         2 -0.525450   0.525450\n",
       "24       24  0.360874   0.360874\n",
       "14       14  0.355123   0.355123\n",
       "3         3 -0.339888   0.339888\n",
       "0         0  0.301808   0.301808"
      ]
     },
     "execution_count": 35,
     "metadata": {},
     "output_type": "execute_result"
    }
   ],
   "source": [
    "coefs_pca_df = pd.DataFrame()\n",
    "coefs_pca_df['est_int'] = X_train_pca.columns\n",
    "coefs_pca_df['coefs'] = lmodel_pca.coef_\n",
    "coefs_pca_df['abs_coefs'] = np.abs(lmodel_pca.coef_)\n",
    "coefs_pca_df = coefs_pca_df.sort_values('abs_coefs', ascending=False)\n",
    "coefs_pca_df[0:5]"
   ]
  },
  {
   "cell_type": "code",
   "execution_count": 36,
   "metadata": {},
   "outputs": [
    {
     "data": {
      "text/html": [
       "<div>\n",
       "<style scoped>\n",
       "    .dataframe tbody tr th:only-of-type {\n",
       "        vertical-align: middle;\n",
       "    }\n",
       "\n",
       "    .dataframe tbody tr th {\n",
       "        vertical-align: top;\n",
       "    }\n",
       "\n",
       "    .dataframe thead th {\n",
       "        text-align: right;\n",
       "    }\n",
       "</style>\n",
       "<table border=\"1\" class=\"dataframe\">\n",
       "  <thead>\n",
       "    <tr style=\"text-align: right;\">\n",
       "      <th></th>\n",
       "      <th>Explained Variance</th>\n",
       "      <th>bathrooms</th>\n",
       "      <th>bedrooms</th>\n",
       "      <th>beds</th>\n",
       "      <th>accommodates</th>\n",
       "      <th>guests_included</th>\n",
       "      <th>amm::</th>\n",
       "      <th>amm::24-Hour Check-in</th>\n",
       "      <th>amm::Air Conditioning</th>\n",
       "      <th>amm::Breakfast</th>\n",
       "      <th>...</th>\n",
       "      <th>property_type::Treehouse</th>\n",
       "      <th>property_type::Yurt</th>\n",
       "      <th>room_type::Entire home/apt</th>\n",
       "      <th>room_type::Private room</th>\n",
       "      <th>room_type::Shared room</th>\n",
       "      <th>bed_type::Airbed</th>\n",
       "      <th>bed_type::Couch</th>\n",
       "      <th>bed_type::Futon</th>\n",
       "      <th>bed_type::Pull-out Sofa</th>\n",
       "      <th>bed_type::Real Bed</th>\n",
       "    </tr>\n",
       "  </thead>\n",
       "  <tbody>\n",
       "    <tr>\n",
       "      <th>Dimension 1</th>\n",
       "      <td>0.1115</td>\n",
       "      <td>-0.0366</td>\n",
       "      <td>-0.0361</td>\n",
       "      <td>-0.0023</td>\n",
       "      <td>0.0369</td>\n",
       "      <td>-0.0091</td>\n",
       "      <td>-0.0165</td>\n",
       "      <td>0.2057</td>\n",
       "      <td>0.1159</td>\n",
       "      <td>-0.0288</td>\n",
       "      <td>...</td>\n",
       "      <td>-0.0010</td>\n",
       "      <td>-0.0001</td>\n",
       "      <td>0.2740</td>\n",
       "      <td>-0.2592</td>\n",
       "      <td>-0.0148</td>\n",
       "      <td>-0.0026</td>\n",
       "      <td>0.0000</td>\n",
       "      <td>-0.0089</td>\n",
       "      <td>-0.0027</td>\n",
       "      <td>0.0142</td>\n",
       "    </tr>\n",
       "    <tr>\n",
       "      <th>Dimension 2</th>\n",
       "      <td>0.0873</td>\n",
       "      <td>0.0061</td>\n",
       "      <td>-0.0238</td>\n",
       "      <td>-0.0013</td>\n",
       "      <td>0.0089</td>\n",
       "      <td>-0.0068</td>\n",
       "      <td>0.0254</td>\n",
       "      <td>-0.1270</td>\n",
       "      <td>-0.0108</td>\n",
       "      <td>-0.0414</td>\n",
       "      <td>...</td>\n",
       "      <td>0.0006</td>\n",
       "      <td>-0.0001</td>\n",
       "      <td>0.1061</td>\n",
       "      <td>-0.1207</td>\n",
       "      <td>0.0146</td>\n",
       "      <td>0.0002</td>\n",
       "      <td>0.0024</td>\n",
       "      <td>0.0056</td>\n",
       "      <td>0.0015</td>\n",
       "      <td>-0.0097</td>\n",
       "    </tr>\n",
       "    <tr>\n",
       "      <th>Dimension 3</th>\n",
       "      <td>0.0585</td>\n",
       "      <td>0.0482</td>\n",
       "      <td>0.0045</td>\n",
       "      <td>-0.0024</td>\n",
       "      <td>-0.0359</td>\n",
       "      <td>0.0276</td>\n",
       "      <td>0.0226</td>\n",
       "      <td>0.2456</td>\n",
       "      <td>-0.0417</td>\n",
       "      <td>0.0462</td>\n",
       "      <td>...</td>\n",
       "      <td>0.0009</td>\n",
       "      <td>0.0001</td>\n",
       "      <td>-0.2996</td>\n",
       "      <td>0.2776</td>\n",
       "      <td>0.0220</td>\n",
       "      <td>0.0053</td>\n",
       "      <td>0.0027</td>\n",
       "      <td>0.0101</td>\n",
       "      <td>0.0107</td>\n",
       "      <td>-0.0289</td>\n",
       "    </tr>\n",
       "    <tr>\n",
       "      <th>Dimension 4</th>\n",
       "      <td>0.0482</td>\n",
       "      <td>0.0354</td>\n",
       "      <td>-0.0023</td>\n",
       "      <td>-0.0104</td>\n",
       "      <td>-0.0171</td>\n",
       "      <td>0.0173</td>\n",
       "      <td>-0.0146</td>\n",
       "      <td>-0.1414</td>\n",
       "      <td>0.0485</td>\n",
       "      <td>0.0590</td>\n",
       "      <td>...</td>\n",
       "      <td>-0.0000</td>\n",
       "      <td>0.0008</td>\n",
       "      <td>-0.2042</td>\n",
       "      <td>0.1770</td>\n",
       "      <td>0.0272</td>\n",
       "      <td>0.0061</td>\n",
       "      <td>0.0021</td>\n",
       "      <td>0.0163</td>\n",
       "      <td>0.0051</td>\n",
       "      <td>-0.0296</td>\n",
       "    </tr>\n",
       "    <tr>\n",
       "      <th>Dimension 5</th>\n",
       "      <td>0.0428</td>\n",
       "      <td>0.0476</td>\n",
       "      <td>0.0408</td>\n",
       "      <td>0.0004</td>\n",
       "      <td>-0.0317</td>\n",
       "      <td>-0.0065</td>\n",
       "      <td>-0.0187</td>\n",
       "      <td>-0.0143</td>\n",
       "      <td>0.1016</td>\n",
       "      <td>0.0354</td>\n",
       "      <td>...</td>\n",
       "      <td>-0.0004</td>\n",
       "      <td>-0.0008</td>\n",
       "      <td>-0.3936</td>\n",
       "      <td>0.3731</td>\n",
       "      <td>0.0204</td>\n",
       "      <td>0.0031</td>\n",
       "      <td>0.0029</td>\n",
       "      <td>0.0125</td>\n",
       "      <td>0.0049</td>\n",
       "      <td>-0.0233</td>\n",
       "    </tr>\n",
       "  </tbody>\n",
       "</table>\n",
       "<p>5 rows × 176 columns</p>\n",
       "</div>"
      ],
      "text/plain": [
       "             Explained Variance  bathrooms  bedrooms    beds  accommodates  \\\n",
       "Dimension 1              0.1115    -0.0366   -0.0361 -0.0023        0.0369   \n",
       "Dimension 2              0.0873     0.0061   -0.0238 -0.0013        0.0089   \n",
       "Dimension 3              0.0585     0.0482    0.0045 -0.0024       -0.0359   \n",
       "Dimension 4              0.0482     0.0354   -0.0023 -0.0104       -0.0171   \n",
       "Dimension 5              0.0428     0.0476    0.0408  0.0004       -0.0317   \n",
       "\n",
       "             guests_included   amm::  amm::24-Hour Check-in  \\\n",
       "Dimension 1          -0.0091 -0.0165                 0.2057   \n",
       "Dimension 2          -0.0068  0.0254                -0.1270   \n",
       "Dimension 3           0.0276  0.0226                 0.2456   \n",
       "Dimension 4           0.0173 -0.0146                -0.1414   \n",
       "Dimension 5          -0.0065 -0.0187                -0.0143   \n",
       "\n",
       "             amm::Air Conditioning  amm::Breakfast  ...  \\\n",
       "Dimension 1                 0.1159         -0.0288  ...   \n",
       "Dimension 2                -0.0108         -0.0414  ...   \n",
       "Dimension 3                -0.0417          0.0462  ...   \n",
       "Dimension 4                 0.0485          0.0590  ...   \n",
       "Dimension 5                 0.1016          0.0354  ...   \n",
       "\n",
       "             property_type::Treehouse  property_type::Yurt  \\\n",
       "Dimension 1                   -0.0010              -0.0001   \n",
       "Dimension 2                    0.0006              -0.0001   \n",
       "Dimension 3                    0.0009               0.0001   \n",
       "Dimension 4                   -0.0000               0.0008   \n",
       "Dimension 5                   -0.0004              -0.0008   \n",
       "\n",
       "             room_type::Entire home/apt  room_type::Private room  \\\n",
       "Dimension 1                      0.2740                  -0.2592   \n",
       "Dimension 2                      0.1061                  -0.1207   \n",
       "Dimension 3                     -0.2996                   0.2776   \n",
       "Dimension 4                     -0.2042                   0.1770   \n",
       "Dimension 5                     -0.3936                   0.3731   \n",
       "\n",
       "             room_type::Shared room  bed_type::Airbed  bed_type::Couch  \\\n",
       "Dimension 1                 -0.0148           -0.0026           0.0000   \n",
       "Dimension 2                  0.0146            0.0002           0.0024   \n",
       "Dimension 3                  0.0220            0.0053           0.0027   \n",
       "Dimension 4                  0.0272            0.0061           0.0021   \n",
       "Dimension 5                  0.0204            0.0031           0.0029   \n",
       "\n",
       "             bed_type::Futon  bed_type::Pull-out Sofa  bed_type::Real Bed  \n",
       "Dimension 1          -0.0089                  -0.0027              0.0142  \n",
       "Dimension 2           0.0056                   0.0015             -0.0097  \n",
       "Dimension 3           0.0101                   0.0107             -0.0289  \n",
       "Dimension 4           0.0163                   0.0051             -0.0296  \n",
       "Dimension 5           0.0125                   0.0049             -0.0233  \n",
       "\n",
       "[5 rows x 176 columns]"
      ]
     },
     "execution_count": 36,
     "metadata": {},
     "output_type": "execute_result"
    }
   ],
   "source": [
    "pca_results = h.pca_results_rng(df_q2_X,model_1,[1,25])\n",
    "pca_results.head()"
   ]
  },
  {
   "cell_type": "code",
   "execution_count": 37,
   "metadata": {},
   "outputs": [],
   "source": [
    "pca_results = pca_results.drop(columns='Explained Variance')"
   ]
  },
  {
   "cell_type": "code",
   "execution_count": 52,
   "metadata": {},
   "outputs": [
    {
     "data": {
      "text/html": [
       "<div>\n",
       "<style scoped>\n",
       "    .dataframe tbody tr th:only-of-type {\n",
       "        vertical-align: middle;\n",
       "    }\n",
       "\n",
       "    .dataframe tbody tr th {\n",
       "        vertical-align: top;\n",
       "    }\n",
       "\n",
       "    .dataframe thead th {\n",
       "        text-align: right;\n",
       "    }\n",
       "</style>\n",
       "<table border=\"1\" class=\"dataframe\">\n",
       "  <thead>\n",
       "    <tr style=\"text-align: right;\">\n",
       "      <th></th>\n",
       "      <th>est_int</th>\n",
       "      <th>coefs</th>\n",
       "      <th>abs_coefs</th>\n",
       "    </tr>\n",
       "  </thead>\n",
       "  <tbody>\n",
       "    <tr>\n",
       "      <th>2</th>\n",
       "      <td>2</td>\n",
       "      <td>-0.525450</td>\n",
       "      <td>0.525450</td>\n",
       "    </tr>\n",
       "    <tr>\n",
       "      <th>24</th>\n",
       "      <td>24</td>\n",
       "      <td>0.360874</td>\n",
       "      <td>0.360874</td>\n",
       "    </tr>\n",
       "    <tr>\n",
       "      <th>14</th>\n",
       "      <td>14</td>\n",
       "      <td>0.355123</td>\n",
       "      <td>0.355123</td>\n",
       "    </tr>\n",
       "    <tr>\n",
       "      <th>3</th>\n",
       "      <td>3</td>\n",
       "      <td>-0.339888</td>\n",
       "      <td>0.339888</td>\n",
       "    </tr>\n",
       "    <tr>\n",
       "      <th>0</th>\n",
       "      <td>0</td>\n",
       "      <td>0.301808</td>\n",
       "      <td>0.301808</td>\n",
       "    </tr>\n",
       "    <tr>\n",
       "      <th>6</th>\n",
       "      <td>6</td>\n",
       "      <td>-0.263359</td>\n",
       "      <td>0.263359</td>\n",
       "    </tr>\n",
       "  </tbody>\n",
       "</table>\n",
       "</div>"
      ],
      "text/plain": [
       "    est_int     coefs  abs_coefs\n",
       "2         2 -0.525450   0.525450\n",
       "24       24  0.360874   0.360874\n",
       "14       14  0.355123   0.355123\n",
       "3         3 -0.339888   0.339888\n",
       "0         0  0.301808   0.301808\n",
       "6         6 -0.263359   0.263359"
      ]
     },
     "execution_count": 52,
     "metadata": {},
     "output_type": "execute_result"
    }
   ],
   "source": [
    "pca_coefs_df = pd.DataFrame()\n",
    "pca_coefs_df['est_int'] = X_train_pca.columns\n",
    "pca_coefs_df['coefs'] = lmodel_pca.coef_\n",
    "pca_coefs_df['abs_coefs'] = np.abs(lmodel_pca.coef_)\n",
    "pca_coefs_df = pca_coefs_df.sort_values('abs_coefs', ascending=False)\n",
    "pca_coefs_df.head(6)"
   ]
  },
  {
   "cell_type": "code",
   "execution_count": 40,
   "metadata": {},
   "outputs": [],
   "source": [
    "#pca_results = pca_results.drop(columns='dim')\n",
    "pca_results.insert(loc=0,column='dim',value=pca_results.index)\n",
    "pca_results['dim'] = pca_results['dim'].apply(lambda x: int(x.split(' ')[1]))\n",
    "pcar2 = pca_results.set_index('dim')"
   ]
  },
  {
   "cell_type": "code",
   "execution_count": null,
   "metadata": {},
   "outputs": [],
   "source": []
  },
  {
   "cell_type": "code",
   "execution_count": 46,
   "metadata": {},
   "outputs": [
    {
     "name": "stdout",
     "output_type": "stream",
     "text": [
      "dim                               3.0000\n",
      "amm::Hangers                      0.3291\n",
      "amm::Hair Dryer                   0.3085\n",
      "amm::Laptop Friendly Workspace    0.2998\n",
      "Name: Dimension 3, dtype: float64\n",
      "room_type::Entire home/apt   -0.2996\n",
      "amm::Family/Kid Friendly     -0.2799\n",
      "amm::Cable TV                -0.2343\n",
      "amm::TV                      -0.2245\n",
      "Name: Dimension 3, dtype: float64\n"
     ]
    }
   ],
   "source": [
    "print(pca_results.loc['Dimension 3',:].sort_values(ascending=False)[0:4])\n",
    "print(pca_results.loc['Dimension 3',:].sort_values(ascending=True)[0:4])"
   ]
  },
  {
   "cell_type": "code",
   "execution_count": null,
   "metadata": {},
   "outputs": [],
   "source": [
    "#0.36  - Queen anne neibghboorhood"
   ]
  },
  {
   "cell_type": "code",
   "execution_count": 47,
   "metadata": {},
   "outputs": [
    {
     "name": "stdout",
     "output_type": "stream",
     "text": [
      "dim                                           25.0000\n",
      "neighbourhood_group_cleansed::Queen Anne       0.4765\n",
      "amm::Dog(s)                                    0.2575\n",
      "neighbourhood_group_cleansed::Central Area     0.1902\n",
      "Name: Dimension 25, dtype: float64\n",
      "amm::Cat(s)                             -0.2936\n",
      "amm::Kitchen                            -0.2346\n",
      "amm::Buzzer/Wireless Intercom           -0.2142\n",
      "neighbourhood_group_cleansed::Ballard   -0.1902\n",
      "Name: Dimension 25, dtype: float64\n"
     ]
    }
   ],
   "source": [
    "print(pca_results.loc['Dimension 25',:].sort_values(ascending=False)[0:4])\n",
    "print(pca_results.loc['Dimension 25',:].sort_values(ascending=True)[0:4])"
   ]
  },
  {
   "cell_type": "code",
   "execution_count": null,
   "metadata": {},
   "outputs": [],
   "source": [
    "#Dimention 3 : -0.545\n",
    "Pos Attributes (FAMILY FRIENDLY/TV/Cable TV)\n",
    "Neg Attributes (Hangers/HairDryer Laptop friendly)\n",
    "#Dimention 25 - 0.361\n",
    "Pos Attributes - (queen ann neighborhood,amm:dog, Central )\n",
    "Neg Attributes - (cat,kitchen,buzzer, Ballard neighborhood)\n",
    "#Dimention 15 - 0.355\n",
    "Pos Attributes - (amm:shampoo, Capitol Hill neigh, Broadway neigh)\n",
    "Neg Attribute - (neighborhood - Central Area)\n"
   ]
  },
  {
   "cell_type": "code",
   "execution_count": 48,
   "metadata": {},
   "outputs": [
    {
     "name": "stdout",
     "output_type": "stream",
     "text": [
      "dim                                           15.0000\n",
      "amm::Shampoo                                   0.4385\n",
      "neighbourhood_group_cleansed::Capitol Hill     0.3427\n",
      "neighbourhood_cleansed::Broadway               0.2722\n",
      "Name: Dimension 15, dtype: float64\n",
      "amm::TV                                      -0.3047\n",
      "amm::Internet                                -0.2694\n",
      "neighbourhood_group_cleansed::Central Area   -0.2269\n",
      "amm::Family/Kid Friendly                     -0.1522\n",
      "Name: Dimension 15, dtype: float64\n"
     ]
    }
   ],
   "source": [
    "print(pca_results.loc['Dimension 15',:].sort_values(ascending=False)[0:4])\n",
    "print(pca_results.loc['Dimension 15',:].sort_values(ascending=True)[0:4])"
   ]
  },
  {
   "cell_type": "code",
   "execution_count": 49,
   "metadata": {},
   "outputs": [
    {
     "name": "stdout",
     "output_type": "stream",
     "text": [
      "dim                              4.0000\n",
      "amm::First Aid Kit               0.3936\n",
      "amm::Fire Extinguisher           0.3171\n",
      "amm::Carbon Monoxide Detector    0.3168\n",
      "Name: Dimension 4, dtype: float64\n",
      "property_type::House            -0.2308\n",
      "amm::Free Parking on Premises   -0.2180\n",
      "room_type::Entire home/apt      -0.2042\n",
      "amm::Family/Kid Friendly        -0.1754\n",
      "Name: Dimension 4, dtype: float64\n"
     ]
    }
   ],
   "source": [
    "print(pca_results.loc['Dimension 4',:].sort_values(ascending=False)[0:4])\n",
    "print(pca_results.loc['Dimension 4',:].sort_values(ascending=True)[0:4])"
   ]
  },
  {
   "cell_type": "code",
   "execution_count": 50,
   "metadata": {},
   "outputs": [
    {
     "name": "stdout",
     "output_type": "stream",
     "text": [
      "dim                           1.0000\n",
      "property_type::Apartment      0.2742\n",
      "room_type::Entire home/apt    0.2740\n",
      "amm::Hangers                  0.2616\n",
      "Name: Dimension 1, dtype: float64\n",
      "property_type::House                                -0.2787\n",
      "room_type::Private room                             -0.2592\n",
      "amm::Pets live on this property                     -0.1100\n",
      "neighbourhood_group_cleansed::Other neighborhoods   -0.0796\n",
      "Name: Dimension 1, dtype: float64\n"
     ]
    }
   ],
   "source": [
    "print(pca_results.loc['Dimension 1',:].sort_values(ascending=False)[0:4])\n",
    "print(pca_results.loc['Dimension 1',:].sort_values(ascending=True)[0:4])"
   ]
  },
  {
   "cell_type": "code",
   "execution_count": null,
   "metadata": {},
   "outputs": [],
   "source": []
  },
  {
   "cell_type": "code",
   "execution_count": null,
   "metadata": {},
   "outputs": [],
   "source": [
    "pca_lin_model = LinearRegression()\n",
    "\n",
    "q2_X_train, q2_X_test, q2_y1_train, q2_y1_test, q2_y2_train, q2_y2_test = train_test_split(df_q2_X,df_q2_y1,df_q2_y2,test_size = 0.3,random_state=72)\n",
    "\n",
    "q2_model.fit(q2_X_train,q2_y1_train)\n",
    "\n",
    "q2_log_model.fit(q2_X_train,q2_y2_train)\n",
    "\n",
    "q2_y1_predict = q2_model.predict(q2_X_test)\n",
    "\n",
    "q2_y2_predict = q2_log_model.predict(q2_X_test)"
   ]
  },
  {
   "cell_type": "code",
   "execution_count": null,
   "metadata": {},
   "outputs": [],
   "source": []
  },
  {
   "cell_type": "code",
   "execution_count": null,
   "metadata": {},
   "outputs": [],
   "source": []
  },
  {
   "cell_type": "code",
   "execution_count": null,
   "metadata": {},
   "outputs": [],
   "source": []
  },
  {
   "cell_type": "code",
   "execution_count": null,
   "metadata": {},
   "outputs": [],
   "source": []
  },
  {
   "cell_type": "code",
   "execution_count": null,
   "metadata": {},
   "outputs": [],
   "source": []
  },
  {
   "cell_type": "code",
   "execution_count": null,
   "metadata": {},
   "outputs": [],
   "source": []
  },
  {
   "cell_type": "code",
   "execution_count": null,
   "metadata": {},
   "outputs": [],
   "source": []
  },
  {
   "cell_type": "markdown",
   "metadata": {},
   "source": [
    "#### COMPARE NEIGHBOORHOODS"
   ]
  },
  {
   "cell_type": "code",
   "execution_count": null,
   "metadata": {},
   "outputs": [],
   "source": []
  },
  {
   "cell_type": "code",
   "execution_count": 37,
   "metadata": {},
   "outputs": [],
   "source": [
    "hot_neighboorhoods=['Magnolia','Downtown','Queen Anne','West Seattle']\n",
    "\n",
    "def hotchecks(x,list):\n",
    "    if x in hot_neighboorhoods:\n",
    "        return True\n",
    "    else:\n",
    "        return False\n",
    "\n",
    "df_neigh = df_cal.merge(df_listing[['neighbourhood_group_cleansed']],left_index=True,right_index=True)\n",
    "\n",
    "df_neigh.insert(loc = df_neigh.shape[1],column='hot_neigh',value=False,)\n",
    "\n",
    "df_neigh['hot_neigh'] = df_neigh['neighbourhood_group_cleansed'].apply(lambda x: hotchecks(x,hot_neighboorhoods))\n",
    "\n",
    "month = {1:'Jan',2:'Feb',3:'Mar',4:'Apr',5:'May',6:'Jun',7:'Jul',8:'Aug',9:'Sep',10:'Oct',11:'Nov',12:'Dec'}\n",
    "\n",
    "df_neigh['month'] = df_neigh['month'].apply(lambda x: month[x])"
   ]
  },
  {
   "cell_type": "code",
   "execution_count": 38,
   "metadata": {},
   "outputs": [
    {
     "name": "stderr",
     "output_type": "stream",
     "text": [
      "C:\\Users\\tcanty\\AppData\\Local\\Continuum\\anaconda3\\lib\\site-packages\\scipy\\stats\\stats.py:1713: FutureWarning: Using a non-tuple sequence for multidimensional indexing is deprecated; use `arr[tuple(seq)]` instead of `arr[seq]`. In the future this will be interpreted as an array index, `arr[np.array(seq)]`, which will result either in an error or a different result.\n",
      "  return np.add.reduce(sorted[indexer] * weights, axis=axis) / sumval\n",
      "C:\\Users\\tcanty\\AppData\\Local\\Continuum\\anaconda3\\lib\\site-packages\\matplotlib\\figure.py:448: UserWarning: Matplotlib is currently using module://ipykernel.pylab.backend_inline, which is a non-GUI backend, so cannot show the figure.\n",
      "  % get_backend())\n"
     ]
    },
    {
     "data": {
      "image/png": "[encoded data removed]",
      "text/plain": [
       "<Figure size 1080x288 with 2 Axes>"
      ]
     },
     "metadata": {
      "needs_background": "light"
     },
     "output_type": "display_data"
    }
   ],
   "source": [
    "f,ax = plt.subplots(1,2,sharey=True)\n",
    "f.set_figwidth(15)\n",
    "\n",
    "sns.set_style('darkgrid')\n",
    "sns.barplot(x=df_neigh['month'],y=df_neigh['price'],hue=df_neigh['hot_neigh'],ax=ax[1])\n",
    "sns.barplot(x=df_neigh['month'],y=df_neigh['price'],color='cyan',ax=ax[0])\n",
    "\n",
    "f.subplots_adjust(wspace=0.01, hspace=0)\n",
    "\n",
    "ax[1].set(ylim=(0, 220))\n",
    "ax[0].set(ylim=(0, 220))\n",
    "\n",
    "ax[0].set_ylabel('Price ($)')\n",
    "ax[1].set_ylabel('')\n",
    "ax[0].set_xlabel('')\n",
    "ax[1].set_xlabel('')\n",
    "\n",
    "ax[1].set_title('Average Price by Month across hot and not neighboorhoods')\n",
    "ax[0].set_title('Average Price by Month (All)')\n",
    "f.show()"
   ]
  },
  {
   "cell_type": "code",
   "execution_count": 67,
   "metadata": {},
   "outputs": [],
   "source": [
    "neighList = list(df_neigh.groupby(by='neighbourhood_group_cleansed')['price'].mean().sort_values(ascending=False).index)"
   ]
  },
  {
   "cell_type": "code",
   "execution_count": 71,
   "metadata": {},
   "outputs": [
    {
     "data": {
      "text/plain": [
       "[Text(0.5, 0, '')]"
      ]
     },
     "execution_count": 71,
     "metadata": {},
     "output_type": "execute_result"
    },
    {
     "data": {
      "image/png": "[encoded data removed]",
      "text/plain": [
       "<Figure size 432x288 with 1 Axes>"
      ]
     },
     "metadata": {},
     "output_type": "display_data"
    }
   ],
   "source": [
    "ax_neigh = sns.boxplot(x=df_neigh.neighbourhood_group_cleansed,y=df_neigh.price,showfliers=False,\n",
    "            order=neighList)\n",
    "ax_neigh.set_xticklabels(labels = neighList,rotation=90)\n",
    "ax_neigh.set(xlabel = '')"
   ]
  },
  {
   "cell_type": "code",
   "execution_count": null,
   "metadata": {},
   "outputs": [],
   "source": []
  },
  {
   "cell_type": "code",
   "execution_count": null,
   "metadata": {},
   "outputs": [],
   "source": []
  },
  {
   "cell_type": "code",
   "execution_count": null,
   "metadata": {},
   "outputs": [],
   "source": []
  },
  {
   "cell_type": "code",
   "execution_count": null,
   "metadata": {},
   "outputs": [],
   "source": []
  }
 ],
 "metadata": {
  "kernelspec": {
   "display_name": "Python 3",
   "language": "python",
   "name": "python3"
  },
  "language_info": {
   "codemirror_mode": {
    "name": "ipython",
    "version": 3
   },
   "file_extension": ".py",
   "mimetype": "text/x-python",
   "name": "python",
   "nbconvert_exporter": "python",
   "pygments_lexer": "ipython3",
   "version": "3.6.4"
  }
 },
 "nbformat": 4,
 "nbformat_minor": 2
}
