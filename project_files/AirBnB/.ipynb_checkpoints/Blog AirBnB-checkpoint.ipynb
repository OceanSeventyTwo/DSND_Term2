{
 "cells": [
  {
   "cell_type": "markdown",
   "metadata": {},
   "source": [
    "# AirBnB Project for  **Project: Write A Data Science Blog Post**"
   ]
  },
  {
   "cell_type": "markdown",
   "metadata": {},
   "source": [
    "### 0.1  Key Steps for Project"
   ]
  },
  {
   "cell_type": "markdown",
   "metadata": {},
   "source": [
    "Feel free to be creative with your solutions, but do follow the CRISP-DM process in finding your solutions.\n",
    "\n",
    "1) Pick a dataset.\n",
    "   I chose the AirBnnB dataset.  Because why not..\n",
    "\n",
    "2) Pose at least three questions related to business or real-world applications of how the data could be used.\n",
    "\n",
    "3) Create a Jupyter Notebook, using any associated packages you'd like, to:\n",
    "\n",
    "    Prepare data:\n",
    "        Gather necessary data to answer your questions\n",
    "        Handle categorical and missing data\n",
    "        Provide insight into the methods you chose and why you chose them\n",
    "\n",
    "    Analyze, Model, and Visualize\n",
    "        Provide a clear connection between your business questions and how the data answers them.\n",
    "\n",
    "4) Communicate your business insights:\n",
    "\n",
    "    Create a Github repository to share your code and data wrangling/modeling techniques, with a technical audience in mind\n",
    "    Create a blog post to share your questions and insights with a non-technical audience\n",
    "\n",
    "Your deliverables will be a Github repo and a blog post. Use the rubric here to assist in successfully completing this project!"
   ]
  },
  {
   "cell_type": "markdown",
   "metadata": {},
   "source": [
    "## 0.2 [Rubric](https://review.udacity.com/#!/rubrics/1507/view)"
   ]
  },
  {
   "cell_type": "markdown",
   "metadata": {},
   "source": [
    "#### Code Functionality and Readability\n",
    "* Code is readable (uses good coding practices - PEP8) \n",
    "* Code is functional.\n",
    "* Write code that is well documented and uses functions and classes as necessary.\n",
    "\n",
    "#### Data\n",
    "* Project follows the CRISP-DM Process while analyzing their data.\n",
    "* Proper handling of categorical and missing values in the dataset.\n",
    "* Categorical variables are handled appropriately for machine learning models (if models are created). \n",
    "\n",
    "#### Analysis, Modeling, Visualization\n",
    "* There are 3-5 business questions answered.\n",
    "\t\n",
    "#### Github Repository\n",
    "* Student must publish their code in a public Github repository.\n",
    "\t\n",
    "#### Blog Post\n",
    "* Communicate their findings with stakeholders.\n",
    "* There should be an intriguing title and image related to the project.\n",
    "* The body of the post has paragraphs that are broken up by appropriate white space and images.\n",
    "* Each question has a clearly communicated solution."
   ]
  },
  {
   "cell_type": "markdown",
   "metadata": {},
   "source": [
    "##  0.3  CRISP-DM\n",
    "### 0.3.1 Business Understanding/Data Understanding\n",
    "          AirBnB is an online marketplace for vacation/temporary houseing rentals.  Thier members/hosts own the property and rent via the  AirBnB marketplace.\n",
    "          \n",
    "          The data provides was provided each from Seattle and Bostom\n",
    "          * listing.csv\n",
    "          * calendar.csv\n",
    "          * reviews.csv\n",
    "          \n",
    "          How to best position your property to make the most revenue?\n",
    "          1) What time of year is best to make your property availible to get the most money?\n",
    "          2) Know your capacity?   Waht neighborhoods/property type/property attributes sell better?\n",
    "          3) What do you need in your profile to garuntee your property is reviewed and reviewed high\n",
    "          \n",
    "          \n",
    "### 0.3.2 Data Preparation\n",
    "        1) Imported listing and calendar\n",
    "        2) \n",
    "        \n",
    "        \n",
    "     \n",
    "#### 0.3.2.1 Cleaning Data\n",
    "        * \n",
    "### 0.3.3 Modeling\n",
    "### 0.3.4 Evaluation\n",
    "### 0.3.5 Deployment"
   ]
  },
  {
   "cell_type": "markdown",
   "metadata": {},
   "source": [
    "## 1.1 Header"
   ]
  },
  {
   "cell_type": "code",
   "execution_count": 1,
   "metadata": {},
   "outputs": [],
   "source": [
    "%matplotlib inline\n",
    "import pandas as pd\n",
    "import numpy as np\n",
    "import os.path as op\n",
    "\n",
    "import scipy.stats as stats\n",
    "import statsmodels.api as sm\n",
    "import statsmodels.formula.api as smf\n",
    "\n",
    "import ast\n",
    "import math\n",
    "import os\n",
    "from datetime import date\n",
    "import seaborn as sns\n",
    "import matplotlib as plt\n",
    "\n",
    "from sklearn.linear_model import LinearRegression\n",
    "from sklearn.model_selection import train_test_split\n",
    "from sklearn.metrics import r2_score, mean_squared_error"
   ]
  },
  {
   "cell_type": "code",
   "execution_count": 2,
   "metadata": {},
   "outputs": [
    {
     "data": {
      "text/plain": [
       "'C:\\\\Users\\\\tcanty\\\\Documents\\\\Udacity\\\\DSND_Term2\\\\project_files\\\\AirBnB\\\\All Data'"
      ]
     },
     "execution_count": 2,
     "metadata": {},
     "output_type": "execute_result"
    }
   ],
   "source": [
    "PATH = os.getcwd()+\"\\All Data\"\n",
    "PATH"
   ]
  },
  {
   "cell_type": "code",
   "execution_count": 3,
   "metadata": {},
   "outputs": [
    {
     "data": {
      "text/plain": [
       "['.ipynb_checkpoints',\n",
       " 'b_calendar.csv',\n",
       " 'b_listings.csv',\n",
       " 'b_reviews.csv',\n",
       " 's_calendar.csv',\n",
       " 's_listings.csv',\n",
       " 's_reviews.csv']"
      ]
     },
     "execution_count": 3,
     "metadata": {},
     "output_type": "execute_result"
    }
   ],
   "source": [
    "os.listdir(PATH)"
   ]
  },
  {
   "cell_type": "code",
   "execution_count": null,
   "metadata": {},
   "outputs": [],
   "source": []
  },
  {
   "cell_type": "code",
   "execution_count": null,
   "metadata": {},
   "outputs": [],
   "source": []
  },
  {
   "cell_type": "code",
   "execution_count": 4,
   "metadata": {},
   "outputs": [],
   "source": [
    "def clean_listings(df):\n",
    "    ''' Return a cleaned dataframe derived from listing.csv file\n",
    "\n",
    "    1) Fixes percentage & currency strings to float\n",
    "    2) Fixes datatype of oject to categories were appropraite\n",
    "    3) Fixes bool strings to bool cols\n",
    "    2) Fixes Datetime cols -> datetime format\n",
    "    3) There are two columns that have list containing strings, convert to one hot encoded columns \n",
    "    4) \n",
    "    5) \n",
    "\n",
    "    Parameters\n",
    "    -------\n",
    "    df:  Pandas DataFrame with an already imported lsiting.csv\n",
    "\n",
    "    '''\n",
    "\n",
    "    ## Clean percentage strings to float values\n",
    "    pct_col = ['host_acceptance_rate','host_response_rate']\n",
    "    for pc in pct_col:\n",
    "        df[pc] = df[pc].str.strip(\"%\")\n",
    "        df[pc] = df[pc].astype('float')\n",
    "        df[pc] = df[pc].apply(lambda x: x/100)\n",
    "        #df[pc] = df[pc].map('{:,.2%}'.format)\n",
    "        \n",
    "    ## Clean dollar strings to value\n",
    "\n",
    "    dol_col = ['price','weekly_price','monthly_price','security_deposit','cleaning_fee','extra_people']\n",
    "    for dol in dol_col:\n",
    "        df[dol] = df[dol].str.replace('$','')\n",
    "        df[dol] = df[dol].str.replace(',','')\n",
    "        df[dol] = df[dol].astype('float')\n",
    "        #df[dol] = df[dol].map('${:,.2f}'.format)\n",
    "        \n",
    "    ## Change type to category\n",
    "    cat_col = ['host_response_time','host_location','host_neighbourhood','neighbourhood',\n",
    "               'neighbourhood_cleansed','neighbourhood_group_cleansed','city','state','zipcode',\n",
    "              'market','smart_location','country_code','country','property_type','room_type',\n",
    "              'calendar_updated','jurisdiction_names','cancellation_policy','bed_type']\n",
    "    \n",
    "    for cc in cat_col:\n",
    "        df[cc] = df[cc].astype('category')\n",
    "  \n",
    "\n",
    "    ## Fix Boolean Columns\n",
    "    bool_col = ['host_is_superhost','host_has_profile_pic','host_identity_verified',\n",
    "                'is_location_exact','has_availability','requires_license','instant_bookable',\n",
    "               'require_guest_profile_picture','require_guest_phone_verification']\n",
    "    for bc in bool_col:\n",
    "        df[bc] = df[bc].replace({'t': True,'f':False})\n",
    "        df[bc] = df[bc].astype(bool)\n",
    "\n",
    "    ## Fix Datetime columns\n",
    "    dt_col = ['last_scraped','host_since','calendar_last_scraped','first_review','last_review']\n",
    "    for dt in dt_col:\n",
    "        df[dt] = pd.to_datetime(df[dt])\n",
    "\n",
    "    ## Fix list column\n",
    "    ## The following code transforms column 'host_verification' to a usable matrix of \n",
    "    ##     one hot encoding the contained communicaiton methods      \n",
    "    \n",
    "    df2 = pd.DataFrame(df['host_verifications'].apply(lambda x:ast.literal_eval(x)))  # string to list #\n",
    "    df3 = df2.host_verifications.apply(pd.Series)                                   # list -> series across columns #\n",
    "    df2 = df2.merge(df3, right_index=True, left_index=True)\n",
    "    df2 = df2.reset_index().melt(id_vars=['id','host_verifications'],value_name = 'host_sm_ver')\n",
    "    df2 = df2.pivot_table(values='variable',columns='host_sm_ver',index='id',aggfunc='count',fill_value=0)\n",
    "    df2 = df2.add_prefix('hv_')\n",
    "    df = df.merge(df2,left_index=True, right_index=True)\n",
    "\n",
    "    \n",
    "    \n",
    "    df4 = pd.DataFrame(df_listing['amenities'].apply(lambda x:\n",
    "                           x.replace('\\\"','').replace('{','').replace('}','').split(',')))\n",
    "    df5 = df4.iloc[:,0].apply(pd.Series)\n",
    "    df4 = df4.merge(df5,left_index=True,right_index=True)\n",
    "    df4 = df4.reset_index().melt(id_vars=['id','amenities'],value_name = 'amms')\n",
    "    df4 = df4.pivot_table(values='variable',columns='amms',index='id',aggfunc='count',fill_value=0)\n",
    "    df4 = df4.add_prefix('amm_')\n",
    "    df = df.merge(df4,left_index=True, right_index=True)\n",
    "    \n",
    "    ## Remaining string columns, only interested in the presence or absence.   Replace with boolean. \n",
    "    \n",
    "    \n",
    "    str_cols = ['summary', 'space', 'neighborhood_overview', 'notes', 'transit',\n",
    "   'thumbnail_url', 'medium_url', 'xl_picture_url', 'host_about']\n",
    "    \n",
    "    def replace_str(x):\n",
    "        if type(x) == float:\n",
    "            if  math.isnan(x):\n",
    "                return False\n",
    "        else: return True\n",
    "    \n",
    "    df_listed_attributes = pd.DataFrame()\n",
    "    for col in str_cols:\n",
    "        df_listed_attributes[col] = df[col].apply(lambda x: replace_str(x))\n",
    "        df_listed_attributes[col] = df_listed_attributes[col].astype('bool')\n",
    "    \n",
    "    df_listed_attributes = df_listed_attributes.add_prefix('attr_')\n",
    "    df = df.merge(df_listed_attributes,left_index=True,right_index=True)\n",
    "    df = df.drop(columns=str_cols)\n",
    "    \n",
    "    \n",
    "    ## Drop Columns\n",
    "    '''Reasons\n",
    "    All N/A: licence\n",
    "    No N/A: listing_url\n",
    "    onehot: host_verifications\n",
    "    am\n",
    "       \n",
    "    '''\n",
    "    drop_cols = ['license','host_verifications','amenities']  \n",
    "    df = df.drop(columns=drop_cols)\n",
    "    return df\n"
   ]
  },
  {
   "cell_type": "code",
   "execution_count": 44,
   "metadata": {},
   "outputs": [],
   "source": [
    "def clean_cal(df):\n",
    "    ''' Return a cleaned dataframe derived from listing.csv file\n",
    "\n",
    "    1) Fixes Datetime cols -> datetime format\n",
    "    2) Fixes percentage strings to float\n",
    "    3) Fixes bool strings to bool cols\n",
    "    4) Fixes datatype of oject to categories were appropraite\n",
    "    5) \n",
    "\n",
    "    Parameters\n",
    "    -------\n",
    "    df:  Pandas DataFrame with an already imported lsiting.csv\n",
    "\n",
    "    '''\n",
    "    dol_col= ['price']\n",
    "    for dol in dol_col:\n",
    "        df[dol] = df[dol].str.replace('$','')\n",
    "        df[dol] = df[dol].str.replace(',','')\n",
    "        df[dol] = df[dol].astype('float')\n",
    "        \n",
    "    ## Fix Datetime columns\n",
    "    dt_col = ['date']\n",
    "    for dt in dt_col:\n",
    "        df[dt] = pd.to_datetime(df[dt])\n",
    "\n",
    "        \n",
    "    ## Expand Datetime\n",
    "    df['week_num'] = df['date'].apply(lambda x: date.isocalendar(x)[1])\n",
    "    df['month'] = df['date'].apply(lambda x: x.month)\n",
    "    df['year'] = df['date'].apply(lambda x: x.year)\n",
    "    \n",
    "    ## Fix Bool Columns\n",
    "\n",
    "    bool_col = ['available']\n",
    "    for bc in bool_col:\n",
    "        df[bc] = df[bc].replace({'t': True,'f':False})\n",
    "        df[bc] = df[bc].astype(bool)\n",
    "\n",
    "    \n",
    "    \n",
    "    \n",
    "    return df"
   ]
  },
  {
   "cell_type": "code",
   "execution_count": 76,
   "metadata": {},
   "outputs": [],
   "source": [
    "df_listing = pd.read_csv(PATH+'\\s_listings.csv',index_col=0)"
   ]
  },
  {
   "cell_type": "code",
   "execution_count": 77,
   "metadata": {},
   "outputs": [
    {
     "name": "stderr",
     "output_type": "stream",
     "text": [
      "C:\\Users\\tcanty\\AppData\\Local\\Continuum\\anaconda3\\lib\\site-packages\\numpy\\lib\\arraysetops.py:522: FutureWarning: elementwise comparison failed; returning scalar instead, but in the future will perform elementwise comparison\n",
      "  mask |= (ar1 == a)\n"
     ]
    }
   ],
   "source": [
    "df_cal = pd.read_csv(PATH+'\\s_calendar.csv',index_col=0)"
   ]
  },
  {
   "cell_type": "code",
   "execution_count": 78,
   "metadata": {},
   "outputs": [],
   "source": [
    "df_listing = clean_listings(df_listing)"
   ]
  },
  {
   "cell_type": "code",
   "execution_count": 79,
   "metadata": {},
   "outputs": [],
   "source": [
    "df_cal = clean_cal(df_cal)"
   ]
  },
  {
   "cell_type": "markdown",
   "metadata": {},
   "source": [
    "### Q1.What time of year is best to make your property availible to get the most money?"
   ]
  },
  {
   "cell_type": "code",
   "execution_count": null,
   "metadata": {},
   "outputs": [],
   "source": []
  },
  {
   "cell_type": "code",
   "execution_count": null,
   "metadata": {},
   "outputs": [],
   "source": []
  },
  {
   "cell_type": "code",
   "execution_count": 62,
   "metadata": {},
   "outputs": [
    {
     "data": {
      "text/plain": [
       "<matplotlib.axes._subplots.AxesSubplot at 0x1fc34ef1da0>"
      ]
     },
     "execution_count": 62,
     "metadata": {},
     "output_type": "execute_result"
    },
    {
     "data": {
      "image/png": "[encoded data removed]",
      "text/plain": [
       "<Figure size 432x288 with 1 Axes>"
      ]
     },
     "metadata": {
      "needs_background": "light"
     },
     "output_type": "display_data"
    }
   ],
   "source": [
    "pd.DataFrame(df_cal.groupby(['month'])['price'].mean()).plot()"
   ]
  },
  {
   "cell_type": "markdown",
   "metadata": {},
   "source": [
    "import matplotlib.pyplot as plt"
   ]
  },
  {
   "cell_type": "code",
   "execution_count": 63,
   "metadata": {},
   "outputs": [
    {
     "name": "stderr",
     "output_type": "stream",
     "text": [
      "C:\\Users\\tcanty\\AppData\\Local\\Continuum\\anaconda3\\lib\\site-packages\\scipy\\stats\\stats.py:1713: FutureWarning: Using a non-tuple sequence for multidimensional indexing is deprecated; use `arr[tuple(seq)]` instead of `arr[seq]`. In the future this will be interpreted as an array index, `arr[np.array(seq)]`, which will result either in an error or a different result.\n",
      "  return np.add.reduce(sorted[indexer] * weights, axis=axis) / sumval\n"
     ]
    },
    {
     "data": {
      "image/png": "[encoded data removed]",
      "text/plain": [
       "<Figure size 432x288 with 1 Axes>"
      ]
     },
     "metadata": {
      "needs_background": "light"
     },
     "output_type": "display_data"
    }
   ],
   "source": [
    "ax1 = sns.lineplot(x=df_cal['week_num'],y=df_cal['price'])"
   ]
  },
  {
   "cell_type": "code",
   "execution_count": 64,
   "metadata": {},
   "outputs": [
    {
     "data": {
      "image/png": "[encoded data removed]",
      "text/plain": [
       "<Figure size 432x288 with 1 Axes>"
      ]
     },
     "metadata": {
      "needs_background": "light"
     },
     "output_type": "display_data"
    }
   ],
   "source": [
    "ax1 = sns.boxplot(y=df_cal['price'],x=df_cal['month'],)"
   ]
  },
  {
   "cell_type": "code",
   "execution_count": 65,
   "metadata": {},
   "outputs": [
    {
     "data": {
      "image/png": "[encoded data removed]",
      "text/plain": [
       "<Figure size 432x288 with 1 Axes>"
      ]
     },
     "metadata": {
      "needs_background": "light"
     },
     "output_type": "display_data"
    }
   ],
   "source": [
    "ax1 = sns.boxplot(y=df_cal['price'],x=df_cal['month'],showfliers=False)"
   ]
  },
  {
   "cell_type": "markdown",
   "metadata": {},
   "source": [
    "# !!Do ANOVA to see if there is any significant difference between months"
   ]
  },
  {
   "cell_type": "markdown",
   "metadata": {},
   "source": [
    "Depending on the output of the ANOVA test,  "
   ]
  },
  {
   "cell_type": "markdown",
   "metadata": {},
   "source": [
    "## END OF QUESTION 1"
   ]
  },
  {
   "cell_type": "markdown",
   "metadata": {},
   "source": [
    "Question 2:  Know your capacity?   Waht neighborhoods/property type/property attributes sell better?"
   ]
  },
  {
   "cell_type": "code",
   "execution_count": 124,
   "metadata": {},
   "outputs": [],
   "source": [
    "def compile_and_clean_attr_data(df_list,df_cal):\n",
    "    \n",
    "    \n",
    "    \n",
    "    #Using the average list prices in df_cal['price'] vs the current listing price df_list['price']\n",
    "    df_avg_price = pd.DataFrame(df_cal.groupby(by=['listing_id'])['price'].mean())\n",
    "    df_list = df_list.drop(columns='price')\n",
    "    \n",
    "    \n",
    "    df = df_avg_price.merge(df_list,left_index=True,right_index=True)\n",
    "    \n",
    "    #Strip Xs down to the property/physical attributes of the property\n",
    "    ammenities = list(df_data.filter(like='amm').columns.values)\n",
    "    physical_attr_loc = ['price','bathrooms','bedrooms','beds','neighbourhood_cleansed',\n",
    "                     'neighbourhood_group_cleansed','property_type','room_type','bed_type',\n",
    "                    'accommodates','guests_included'] + ammenities\n",
    "    \n",
    "    df = df[physical_attr_loc]\n",
    "    ##Clean Nas \n",
    "    \n",
    "    # Drop all rows without a y (price)\n",
    "    df = df.dropna(axis=0,subset=['price'])\n",
    "    \n",
    "    # Dropping rows b/c The following had a low number of n/a rows and would be difficult to impute, \n",
    "    df = df.drop(index=df.loc[df['bedrooms'].isna(),:].index )\n",
    "    df = df.drop(index=df.loc[df['property_type'].isna(),:].index )\n",
    "    df = df.drop(index=df.loc[df['bathrooms'].isna(),:].index )\n",
    "    \n",
    "    \n",
    "    #Creating a log-transformed price column to \n",
    "    df.insert(column='price_log',loc=1,value=np.nan)\n",
    "    df['price_log'] = df['price'].apply(lambda x: np.log(x))\n",
    "    \n",
    "    # One hot encode the categorical columns\n",
    "    cat_col = list(df.select_dtypes(include='category').columns.values)\n",
    "    df = df.merge(pd.get_dummies(df[cat_col],prefix_sep='::'),right_index=True, left_index=True)\n",
    "    df = df.drop(columns=cat_col)\n",
    "    \n",
    "    #Standardize\n",
    "    std_col = ['price','price_log']\n",
    "    \n",
    "    #Normalize\n",
    "    norm_col = ['accommodates','guests_included','bathrooms','bedrooms','beds']\n",
    "    \n",
    "    return df"
   ]
  },
  {
   "cell_type": "code",
   "execution_count": 125,
   "metadata": {},
   "outputs": [],
   "source": [
    "df_q2 = compile_and_clean_attr_data(df_listing,df_cal)"
   ]
  },
  {
   "cell_type": "code",
   "execution_count": 126,
   "metadata": {},
   "outputs": [
    {
     "name": "stdout",
     "output_type": "stream",
     "text": [
      "<class 'pandas.core.frame.DataFrame'>\n",
      "Int64Index: 3697 entries, 4291 to 10340165\n",
      "Empty DataFrame"
     ]
    }
   ],
   "source": [
    "df_q2.loc[:,df_q2.isna().any()].info()"
   ]
  },
  {
   "cell_type": "code",
   "execution_count": 127,
   "metadata": {},
   "outputs": [
    {
     "name": "stdout",
     "output_type": "stream",
     "text": [
      "<class 'pandas.core.frame.DataFrame'>\n",
      "Int64Index: 3697 entries, 4291 to 10340165\n",
      "Columns: 177 entries, price to bed_type::Real Bed\n",
      "dtypes: float64(5), int64(44), uint8(128)\n",
      "memory usage: 2.0 MB\n"
     ]
    }
   ],
   "source": [
    "df_q2.info()"
   ]
  },
  {
   "cell_type": "code",
   "execution_count": 128,
   "metadata": {},
   "outputs": [
    {
     "data": {
      "text/html": [
       "<div>\n",
       "<style scoped>\n",
       "    .dataframe tbody tr th:only-of-type {\n",
       "        vertical-align: middle;\n",
       "    }\n",
       "\n",
       "    .dataframe tbody tr th {\n",
       "        vertical-align: top;\n",
       "    }\n",
       "\n",
       "    .dataframe thead th {\n",
       "        text-align: right;\n",
       "    }\n",
       "</style>\n",
       "<table border=\"1\" class=\"dataframe\">\n",
       "  <thead>\n",
       "    <tr style=\"text-align: right;\">\n",
       "      <th></th>\n",
       "      <th>price</th>\n",
       "      <th>price_log</th>\n",
       "      <th>bathrooms</th>\n",
       "      <th>bedrooms</th>\n",
       "      <th>beds</th>\n",
       "    </tr>\n",
       "  </thead>\n",
       "  <tbody>\n",
       "    <tr>\n",
       "      <th>4291</th>\n",
       "      <td>82.000000</td>\n",
       "      <td>4.406719</td>\n",
       "      <td>1.0</td>\n",
       "      <td>1.0</td>\n",
       "      <td>1.0</td>\n",
       "    </tr>\n",
       "    <tr>\n",
       "      <th>5682</th>\n",
       "      <td>53.944984</td>\n",
       "      <td>3.987965</td>\n",
       "      <td>1.0</td>\n",
       "      <td>1.0</td>\n",
       "      <td>1.0</td>\n",
       "    </tr>\n",
       "    <tr>\n",
       "      <th>6606</th>\n",
       "      <td>92.849315</td>\n",
       "      <td>4.530978</td>\n",
       "      <td>1.0</td>\n",
       "      <td>1.0</td>\n",
       "      <td>1.0</td>\n",
       "    </tr>\n",
       "    <tr>\n",
       "      <th>7369</th>\n",
       "      <td>85.000000</td>\n",
       "      <td>4.442651</td>\n",
       "      <td>1.0</td>\n",
       "      <td>1.0</td>\n",
       "      <td>1.0</td>\n",
       "    </tr>\n",
       "    <tr>\n",
       "      <th>9419</th>\n",
       "      <td>85.616438</td>\n",
       "      <td>4.449877</td>\n",
       "      <td>3.0</td>\n",
       "      <td>1.0</td>\n",
       "      <td>1.0</td>\n",
       "    </tr>\n",
       "  </tbody>\n",
       "</table>\n",
       "</div>"
      ],
      "text/plain": [
       "          price  price_log  bathrooms  bedrooms  beds\n",
       "4291  82.000000   4.406719        1.0       1.0   1.0\n",
       "5682  53.944984   3.987965        1.0       1.0   1.0\n",
       "6606  92.849315   4.530978        1.0       1.0   1.0\n",
       "7369  85.000000   4.442651        1.0       1.0   1.0\n",
       "9419  85.616438   4.449877        3.0       1.0   1.0"
      ]
     },
     "execution_count": 128,
     "metadata": {},
     "output_type": "execute_result"
    }
   ],
   "source": [
    "df_q2.select_dtypes(include='float').head().iloc[:,:]"
   ]
  },
  {
   "cell_type": "code",
   "execution_count": 129,
   "metadata": {},
   "outputs": [],
   "source": [
    "#Standardize\n",
    "std_col = ['price','price_log']\n",
    "    \n",
    "#Normalize\n",
    "norm_col = ['accommodates','guests_included','bathrooms','bedrooms','beds']"
   ]
  },
  {
   "cell_type": "code",
   "execution_count": 31,
   "metadata": {},
   "outputs": [],
   "source": []
  },
  {
   "cell_type": "code",
   "execution_count": 32,
   "metadata": {},
   "outputs": [],
   "source": []
  },
  {
   "cell_type": "code",
   "execution_count": 37,
   "metadata": {},
   "outputs": [],
   "source": []
  },
  {
   "cell_type": "code",
   "execution_count": 39,
   "metadata": {},
   "outputs": [],
   "source": [
    "df_data_p_X = df_data_p_d.drop(columns='price_x')\n",
    "df_data_p_y = df_data_p_d['price_x']"
   ]
  },
  {
   "cell_type": "code",
   "execution_count": 131,
   "metadata": {},
   "outputs": [
    {
     "data": {
      "text/plain": [
       "NormaltestResult(statistic=2586.424744230359, pvalue=0.0)"
      ]
     },
     "execution_count": 131,
     "metadata": {},
     "output_type": "execute_result"
    }
   ],
   "source": [
    "stats.normaltest(df_q2['price'])\n"
   ]
  },
  {
   "cell_type": "code",
   "execution_count": 132,
   "metadata": {},
   "outputs": [
    {
     "data": {
      "text/plain": [
       "NormaltestResult(statistic=74.41842650342696, pvalue=6.922197861082993e-17)"
      ]
     },
     "execution_count": 132,
     "metadata": {},
     "output_type": "execute_result"
    }
   ],
   "source": [
    "stats.normaltest(df_q2['price_log'])"
   ]
  },
  {
   "cell_type": "code",
   "execution_count": null,
   "metadata": {},
   "outputs": [],
   "source": []
  },
  {
   "cell_type": "code",
   "execution_count": null,
   "metadata": {},
   "outputs": [],
   "source": []
  },
  {
   "cell_type": "code",
   "execution_count": null,
   "metadata": {},
   "outputs": [],
   "source": []
  },
  {
   "cell_type": "code",
   "execution_count": 33,
   "metadata": {},
   "outputs": [],
   "source": [
    "data_P_lmodel = LinearRegression()"
   ]
  },
  {
   "cell_type": "code",
   "execution_count": null,
   "metadata": {},
   "outputs": [],
   "source": []
  },
  {
   "cell_type": "code",
   "execution_count": 40,
   "metadata": {},
   "outputs": [],
   "source": [
    "pX_train, pX_test, py_train, py_test = train_test_split(df_data_p_X,df_data_p_y,test_size = 0.3,random_state=72)"
   ]
  },
  {
   "cell_type": "code",
   "execution_count": 41,
   "metadata": {},
   "outputs": [
    {
     "data": {
      "text/plain": [
       "LinearRegression(copy_X=True, fit_intercept=True, n_jobs=1, normalize=False)"
      ]
     },
     "execution_count": 41,
     "metadata": {},
     "output_type": "execute_result"
    }
   ],
   "source": [
    "data_P_lmodel.fit(pX_train,py_train)"
   ]
  },
  {
   "cell_type": "code",
   "execution_count": 42,
   "metadata": {},
   "outputs": [],
   "source": [
    "py_predict = data_P_lmodel.predict(pX_test)"
   ]
  },
  {
   "cell_type": "code",
   "execution_count": 43,
   "metadata": {},
   "outputs": [
    {
     "data": {
      "text/plain": [
       "-0.0018050543438850042"
      ]
     },
     "execution_count": 43,
     "metadata": {},
     "output_type": "execute_result"
    }
   ],
   "source": [
    "r2_score(py_predict,py_test)"
   ]
  },
  {
   "cell_type": "code",
   "execution_count": 44,
   "metadata": {},
   "outputs": [
    {
     "data": {
      "text/html": [
       "<div>\n",
       "<style scoped>\n",
       "    .dataframe tbody tr th:only-of-type {\n",
       "        vertical-align: middle;\n",
       "    }\n",
       "\n",
       "    .dataframe tbody tr th {\n",
       "        vertical-align: top;\n",
       "    }\n",
       "\n",
       "    .dataframe thead th {\n",
       "        text-align: right;\n",
       "    }\n",
       "</style>\n",
       "<table border=\"1\" class=\"dataframe\">\n",
       "  <thead>\n",
       "    <tr style=\"text-align: right;\">\n",
       "      <th></th>\n",
       "      <th>est_int</th>\n",
       "      <th>coefs</th>\n",
       "      <th>abs_coefs</th>\n",
       "    </tr>\n",
       "  </thead>\n",
       "  <tbody>\n",
       "    <tr>\n",
       "      <th>167</th>\n",
       "      <td>room_type::Entire home/apt</td>\n",
       "      <td>2.852868e+13</td>\n",
       "      <td>2.852868e+13</td>\n",
       "    </tr>\n",
       "    <tr>\n",
       "      <th>168</th>\n",
       "      <td>room_type::Private room</td>\n",
       "      <td>2.852868e+13</td>\n",
       "      <td>2.852868e+13</td>\n",
       "    </tr>\n",
       "    <tr>\n",
       "      <th>169</th>\n",
       "      <td>room_type::Shared room</td>\n",
       "      <td>2.852868e+13</td>\n",
       "      <td>2.852868e+13</td>\n",
       "    </tr>\n",
       "    <tr>\n",
       "      <th>146</th>\n",
       "      <td>neighbourhood_group_cleansed::Queen Anne</td>\n",
       "      <td>7.410902e+12</td>\n",
       "      <td>7.410902e+12</td>\n",
       "    </tr>\n",
       "    <tr>\n",
       "      <th>135</th>\n",
       "      <td>neighbourhood_group_cleansed::Beacon Hill</td>\n",
       "      <td>5.705024e+12</td>\n",
       "      <td>5.705024e+12</td>\n",
       "    </tr>\n",
       "    <tr>\n",
       "      <th>102</th>\n",
       "      <td>neighbourhood_cleansed::North Queen Anne</td>\n",
       "      <td>-5.401213e+12</td>\n",
       "      <td>5.401213e+12</td>\n",
       "    </tr>\n",
       "    <tr>\n",
       "      <th>63</th>\n",
       "      <td>neighbourhood_cleansed::East Queen Anne</td>\n",
       "      <td>-5.401213e+12</td>\n",
       "      <td>5.401213e+12</td>\n",
       "    </tr>\n",
       "    <tr>\n",
       "      <th>85</th>\n",
       "      <td>neighbourhood_cleansed::Lower Queen Anne</td>\n",
       "      <td>-5.401213e+12</td>\n",
       "      <td>5.401213e+12</td>\n",
       "    </tr>\n",
       "    <tr>\n",
       "      <th>128</th>\n",
       "      <td>neighbourhood_cleansed::West Queen Anne</td>\n",
       "      <td>-5.401213e+12</td>\n",
       "      <td>5.401213e+12</td>\n",
       "    </tr>\n",
       "    <tr>\n",
       "      <th>138</th>\n",
       "      <td>neighbourhood_group_cleansed::Central Area</td>\n",
       "      <td>5.183656e+12</td>\n",
       "      <td>5.183656e+12</td>\n",
       "    </tr>\n",
       "    <tr>\n",
       "      <th>140</th>\n",
       "      <td>neighbourhood_group_cleansed::Downtown</td>\n",
       "      <td>4.727344e+12</td>\n",
       "      <td>4.727344e+12</td>\n",
       "    </tr>\n",
       "    <tr>\n",
       "      <th>134</th>\n",
       "      <td>neighbourhood_group_cleansed::Ballard</td>\n",
       "      <td>3.897843e+12</td>\n",
       "      <td>3.897843e+12</td>\n",
       "    </tr>\n",
       "    <tr>\n",
       "      <th>143</th>\n",
       "      <td>neighbourhood_group_cleansed::Magnolia</td>\n",
       "      <td>3.784799e+12</td>\n",
       "      <td>3.784799e+12</td>\n",
       "    </tr>\n",
       "    <tr>\n",
       "      <th>93</th>\n",
       "      <td>neighbourhood_cleansed::Mid-Beacon Hill</td>\n",
       "      <td>-3.695335e+12</td>\n",
       "      <td>3.695335e+12</td>\n",
       "    </tr>\n",
       "    <tr>\n",
       "      <th>116</th>\n",
       "      <td>neighbourhood_cleansed::South Beacon Hill</td>\n",
       "      <td>-3.695335e+12</td>\n",
       "      <td>3.695335e+12</td>\n",
       "    </tr>\n",
       "    <tr>\n",
       "      <th>99</th>\n",
       "      <td>neighbourhood_cleansed::North Beacon Hill</td>\n",
       "      <td>-3.695335e+12</td>\n",
       "      <td>3.695335e+12</td>\n",
       "    </tr>\n",
       "    <tr>\n",
       "      <th>78</th>\n",
       "      <td>neighbourhood_cleansed::Holly Park</td>\n",
       "      <td>-3.695335e+12</td>\n",
       "      <td>3.695335e+12</td>\n",
       "    </tr>\n",
       "    <tr>\n",
       "      <th>50</th>\n",
       "      <td>neighbourhood_cleansed::Atlantic</td>\n",
       "      <td>-3.173967e+12</td>\n",
       "      <td>3.173967e+12</td>\n",
       "    </tr>\n",
       "    <tr>\n",
       "      <th>84</th>\n",
       "      <td>neighbourhood_cleansed::Leschi</td>\n",
       "      <td>-3.173967e+12</td>\n",
       "      <td>3.173967e+12</td>\n",
       "    </tr>\n",
       "    <tr>\n",
       "      <th>89</th>\n",
       "      <td>neighbourhood_cleansed::Mann</td>\n",
       "      <td>-3.173967e+12</td>\n",
       "      <td>3.173967e+12</td>\n",
       "    </tr>\n",
       "    <tr>\n",
       "      <th>94</th>\n",
       "      <td>neighbourhood_cleansed::Minor</td>\n",
       "      <td>-3.173967e+12</td>\n",
       "      <td>3.173967e+12</td>\n",
       "    </tr>\n",
       "    <tr>\n",
       "      <th>75</th>\n",
       "      <td>neighbourhood_cleansed::Harrison/Denny-Blaine</td>\n",
       "      <td>-3.173967e+12</td>\n",
       "      <td>3.173967e+12</td>\n",
       "    </tr>\n",
       "    <tr>\n",
       "      <th>88</th>\n",
       "      <td>neighbourhood_cleansed::Madrona</td>\n",
       "      <td>-3.173967e+12</td>\n",
       "      <td>3.173967e+12</td>\n",
       "    </tr>\n",
       "    <tr>\n",
       "      <th>81</th>\n",
       "      <td>neighbourhood_cleansed::International District</td>\n",
       "      <td>-2.717655e+12</td>\n",
       "      <td>2.717655e+12</td>\n",
       "    </tr>\n",
       "    <tr>\n",
       "      <th>133</th>\n",
       "      <td>neighbourhood_cleansed::Yesler Terrace</td>\n",
       "      <td>-2.717655e+12</td>\n",
       "      <td>2.717655e+12</td>\n",
       "    </tr>\n",
       "    <tr>\n",
       "      <th>67</th>\n",
       "      <td>neighbourhood_cleansed::First Hill</td>\n",
       "      <td>-2.717655e+12</td>\n",
       "      <td>2.717655e+12</td>\n",
       "    </tr>\n",
       "    <tr>\n",
       "      <th>51</th>\n",
       "      <td>neighbourhood_cleansed::Belltown</td>\n",
       "      <td>-2.717655e+12</td>\n",
       "      <td>2.717655e+12</td>\n",
       "    </tr>\n",
       "    <tr>\n",
       "      <th>59</th>\n",
       "      <td>neighbourhood_cleansed::Central Business District</td>\n",
       "      <td>-2.717655e+12</td>\n",
       "      <td>2.717655e+12</td>\n",
       "    </tr>\n",
       "    <tr>\n",
       "      <th>107</th>\n",
       "      <td>neighbourhood_cleansed::Pioneer Square</td>\n",
       "      <td>-2.717655e+12</td>\n",
       "      <td>2.717655e+12</td>\n",
       "    </tr>\n",
       "    <tr>\n",
       "      <th>105</th>\n",
       "      <td>neighbourhood_cleansed::Pike-Market</td>\n",
       "      <td>-2.717655e+12</td>\n",
       "      <td>2.717655e+12</td>\n",
       "    </tr>\n",
       "  </tbody>\n",
       "</table>\n",
       "</div>"
      ],
      "text/plain": [
       "                                               est_int         coefs  \\\n",
       "167                         room_type::Entire home/apt  2.852868e+13   \n",
       "168                            room_type::Private room  2.852868e+13   \n",
       "169                             room_type::Shared room  2.852868e+13   \n",
       "146           neighbourhood_group_cleansed::Queen Anne  7.410902e+12   \n",
       "135          neighbourhood_group_cleansed::Beacon Hill  5.705024e+12   \n",
       "102           neighbourhood_cleansed::North Queen Anne -5.401213e+12   \n",
       "63             neighbourhood_cleansed::East Queen Anne -5.401213e+12   \n",
       "85            neighbourhood_cleansed::Lower Queen Anne -5.401213e+12   \n",
       "128            neighbourhood_cleansed::West Queen Anne -5.401213e+12   \n",
       "138         neighbourhood_group_cleansed::Central Area  5.183656e+12   \n",
       "140             neighbourhood_group_cleansed::Downtown  4.727344e+12   \n",
       "134              neighbourhood_group_cleansed::Ballard  3.897843e+12   \n",
       "143             neighbourhood_group_cleansed::Magnolia  3.784799e+12   \n",
       "93             neighbourhood_cleansed::Mid-Beacon Hill -3.695335e+12   \n",
       "116          neighbourhood_cleansed::South Beacon Hill -3.695335e+12   \n",
       "99           neighbourhood_cleansed::North Beacon Hill -3.695335e+12   \n",
       "78                  neighbourhood_cleansed::Holly Park -3.695335e+12   \n",
       "50                    neighbourhood_cleansed::Atlantic -3.173967e+12   \n",
       "84                      neighbourhood_cleansed::Leschi -3.173967e+12   \n",
       "89                        neighbourhood_cleansed::Mann -3.173967e+12   \n",
       "94                       neighbourhood_cleansed::Minor -3.173967e+12   \n",
       "75       neighbourhood_cleansed::Harrison/Denny-Blaine -3.173967e+12   \n",
       "88                     neighbourhood_cleansed::Madrona -3.173967e+12   \n",
       "81      neighbourhood_cleansed::International District -2.717655e+12   \n",
       "133             neighbourhood_cleansed::Yesler Terrace -2.717655e+12   \n",
       "67                  neighbourhood_cleansed::First Hill -2.717655e+12   \n",
       "51                    neighbourhood_cleansed::Belltown -2.717655e+12   \n",
       "59   neighbourhood_cleansed::Central Business District -2.717655e+12   \n",
       "107             neighbourhood_cleansed::Pioneer Square -2.717655e+12   \n",
       "105                neighbourhood_cleansed::Pike-Market -2.717655e+12   \n",
       "\n",
       "        abs_coefs  \n",
       "167  2.852868e+13  \n",
       "168  2.852868e+13  \n",
       "169  2.852868e+13  \n",
       "146  7.410902e+12  \n",
       "135  5.705024e+12  \n",
       "102  5.401213e+12  \n",
       "63   5.401213e+12  \n",
       "85   5.401213e+12  \n",
       "128  5.401213e+12  \n",
       "138  5.183656e+12  \n",
       "140  4.727344e+12  \n",
       "134  3.897843e+12  \n",
       "143  3.784799e+12  \n",
       "93   3.695335e+12  \n",
       "116  3.695335e+12  \n",
       "99   3.695335e+12  \n",
       "78   3.695335e+12  \n",
       "50   3.173967e+12  \n",
       "84   3.173967e+12  \n",
       "89   3.173967e+12  \n",
       "94   3.173967e+12  \n",
       "75   3.173967e+12  \n",
       "88   3.173967e+12  \n",
       "81   2.717655e+12  \n",
       "133  2.717655e+12  \n",
       "67   2.717655e+12  \n",
       "51   2.717655e+12  \n",
       "59   2.717655e+12  \n",
       "107  2.717655e+12  \n",
       "105  2.717655e+12  "
      ]
     },
     "execution_count": 44,
     "metadata": {},
     "output_type": "execute_result"
    }
   ],
   "source": [
    "coefs_df = pd.DataFrame()\n",
    "coefs_df['est_int'] = pX_train.columns\n",
    "coefs_df['coefs'] = data_P_lmodel.coef_\n",
    "coefs_df['abs_coefs'] = np.abs(data_P_lmodel.coef_)\n",
    "coefs_df = coefs_df.sort_values('abs_coefs', ascending=False)\n",
    "coefs_df[0:30]"
   ]
  },
  {
   "cell_type": "code",
   "execution_count": 45,
   "metadata": {},
   "outputs": [
    {
     "data": {
      "text/plain": [
       "'room_type'"
      ]
     },
     "execution_count": 45,
     "metadata": {},
     "output_type": "execute_result"
    }
   ],
   "source": [
    "coefs_df.loc[167,'est_int'].split('::')[0]"
   ]
  },
  {
   "cell_type": "code",
   "execution_count": 46,
   "metadata": {},
   "outputs": [],
   "source": [
    "coefs_df.insert(1,'type','')"
   ]
  },
  {
   "cell_type": "code",
   "execution_count": 47,
   "metadata": {},
   "outputs": [],
   "source": [
    "coefs_df['type']=coefs_df['est_int'].apply(lambda x: x.split('::')[0])"
   ]
  },
  {
   "cell_type": "code",
   "execution_count": 48,
   "metadata": {},
   "outputs": [
    {
     "data": {
      "text/plain": [
       "type\n",
       "room_type                         2.852868e+13\n",
       "neighbourhood_group_cleansed      2.372638e+12\n",
       "neighbourhood_cleansed            1.906855e+12\n",
       "property_type                     8.774110e+11\n",
       "bed_type                          7.501560e+11\n",
       "amm_Doorman                       3.639397e+01\n",
       "bathrooms                         3.436403e+01\n",
       "bedrooms                          3.040840e+01\n",
       "amm_                              2.057044e+01\n",
       "amm_Air Conditioning              1.793574e+01\n",
       "amm_Hot Tub                       1.371080e+01\n",
       "amm_Wireless Internet             1.074267e+01\n",
       "accommodates                      1.067264e+01\n",
       "amm_Dog(s)                        1.007162e+01\n",
       "amm_Elevator in Building          9.865494e+00\n",
       "amm_Hangers                       9.010510e+00\n",
       "amm_Smoking Allowed               8.049434e+00\n",
       "amm_Cable TV                      6.748154e+00\n",
       "amm_Suitable for Events           6.624486e+00\n",
       "amm_Essentials                    5.969896e+00\n",
       "amm_Pool                          5.852317e+00\n",
       "amm_Washer / Dryer                5.588017e+00\n",
       "amm_Smoke Detector                5.428796e+00\n",
       "amm_Laptop Friendly Workspace     5.264492e+00\n",
       "amm_Indoor Fireplace              5.128412e+00\n",
       "amm_Other pet(s)                  4.952399e+00\n",
       "amm_Hair Dryer                    4.929502e+00\n",
       "beds                              4.283196e+00\n",
       "amm_Pets Allowed                  3.888382e+00\n",
       "amm_Fire Extinguisher             3.732656e+00\n",
       "amm_Breakfast                     3.510088e+00\n",
       "amm_Family/Kid Friendly           3.497419e+00\n",
       "amm_Pets live on this property    3.390113e+00\n",
       "amm_Carbon Monoxide Detector      3.118763e+00\n",
       "amm_Shampoo                       3.107224e+00\n",
       "amm_Heating                       2.816917e+00\n",
       "guests_included                   2.657116e+00\n",
       "amm_Internet                      2.389757e+00\n",
       "amm_Cat(s)                        1.918016e+00\n",
       "amm_First Aid Kit                 1.885812e+00\n",
       "amm_Iron                          1.667547e+00\n",
       "amm_TV                            1.635088e+00\n",
       "amm_Lock on Bedroom Door          1.517792e+00\n",
       "amm_Buzzer/Wireless Intercom      1.478805e+00\n",
       "amm_Safety Card                   1.408596e+00\n",
       "amm_Washer                        1.302049e+00\n",
       "amm_Dryer                         1.151780e+00\n",
       "amm_Free Parking on Premises      6.910164e-01\n",
       "amm_24-Hour Check-in              5.999113e-01\n",
       "amm_Wheelchair Accessible         5.984305e-01\n",
       "amm_Gym                           5.496348e-01\n",
       "amm_Kitchen                       4.263296e-01\n",
       "Name: abs_coefs, dtype: float64"
      ]
     },
     "execution_count": 48,
     "metadata": {},
     "output_type": "execute_result"
    }
   ],
   "source": [
    "coefs_df.groupby(by='type')['abs_coefs'].mean().sort_values(ascending=False)"
   ]
  },
  {
   "cell_type": "code",
   "execution_count": 49,
   "metadata": {},
   "outputs": [
    {
     "data": {
      "image/png": "[encoded data removed]",
      "text/plain": [
       "<Figure size 432x288 with 1 Axes>"
      ]
     },
     "metadata": {},
     "output_type": "display_data"
    }
   ],
   "source": [
    "ax1 = sns.boxplot(x=df_data_p['room_type'],y=df_data_p['price_x'])"
   ]
  },
  {
   "cell_type": "code",
   "execution_count": 50,
   "metadata": {},
   "outputs": [],
   "source": [
    "prop_type = list(df_data_p['property_type'].unique())"
   ]
  },
  {
   "cell_type": "code",
   "execution_count": 93,
   "metadata": {},
   "outputs": [
    {
     "data": {
      "text/plain": [
       "[Text(0,0,'Boat'),\n",
       " Text(0,0,'Condominium'),\n",
       " Text(0,0,'Loft'),\n",
       " Text(0,0,'House'),\n",
       " Text(0,0,'Apartment'),\n",
       " Text(0,0,'Chalet'),\n",
       " Text(0,0,'Townhouse'),\n",
       " Text(0,0,'Camper/RV'),\n",
       " Text(0,0,'Bungalow'),\n",
       " Text(0,0,'Bed & Breakfast'),\n",
       " Text(0,0,'Cabin'),\n",
       " Text(0,0,'Yurt'),\n",
       " Text(0,0,'Treehouse'),\n",
       " Text(0,0,'Other'),\n",
       " Text(0,0,'Tent'),\n",
       " Text(0,0,'Dorm')]"
      ]
     },
     "execution_count": 93,
     "metadata": {},
     "output_type": "execute_result"
    },
    {
     "data": {
      "image/png": "[encoded data removed]",
      "text/plain": [
       "<Figure size 432x288 with 1 Axes>"
      ]
     },
     "metadata": {},
     "output_type": "display_data"
    }
   ],
   "source": [
    "pt_labels = list(df_data_p.groupby(by='property_type')['price_x'].mean().sort_values(ascending=False).index)\n",
    "ax2 = sns.boxplot(x=df_data_p['property_type'],y=df_data_p['price_x'],order=pt_labels,showfliers=False)\n",
    "ax2.set_xticklabels(labels=pt_labels,rotation=90)"
   ]
  },
  {
   "cell_type": "code",
   "execution_count": 94,
   "metadata": {},
   "outputs": [
    {
     "data": {
      "image/png": "[encoded data removed]",
      "text/plain": [
       "<Figure size 432x288 with 1 Axes>"
      ]
     },
     "metadata": {},
     "output_type": "display_data"
    }
   ],
   "source": [
    "bt_labels = list(df_data_p.groupby(by='bed_type')['price_x'].mean().sort_values(ascending=False).index)\n",
    "ax3 = sns.boxplot(x=df_data_p['bed_type'],y=df_data_p['price_x'],order=bt_labels,showfliers=False)"
   ]
  },
  {
   "cell_type": "code",
   "execution_count": null,
   "metadata": {},
   "outputs": [],
   "source": []
  },
  {
   "cell_type": "code",
   "execution_count": 105,
   "metadata": {},
   "outputs": [
    {
     "data": {
      "text/plain": [
       "[Text(0,0,'Magnolia'),\n",
       " Text(0,0,'Downtown'),\n",
       " Text(0,0,'Queen Anne'),\n",
       " Text(0,0,'West Seattle'),\n",
       " Text(0,0,'Cascade'),\n",
       " Text(0,0,'Capitol Hill'),\n",
       " Text(0,0,'Central Area'),\n",
       " Text(0,0,'Ballard'),\n",
       " Text(0,0,'Other neighborhoods'),\n",
       " Text(0,0,'Interbay'),\n",
       " Text(0,0,'Seward Park'),\n",
       " Text(0,0,'University District'),\n",
       " Text(0,0,'Beacon Hill'),\n",
       " Text(0,0,'Rainier Valley'),\n",
       " Text(0,0,'Lake City'),\n",
       " Text(0,0,'Northgate'),\n",
       " Text(0,0,'Delridge')]"
      ]
     },
     "execution_count": 105,
     "metadata": {},
     "output_type": "execute_result"
    },
    {
     "data": {
      "image/png": "[encoded data removed]",
      "text/plain": [
       "<Figure size 432x288 with 1 Axes>"
      ]
     },
     "metadata": {},
     "output_type": "display_data"
    }
   ],
   "source": [
    "n_label = list(df_data_p.groupby(by='neighbourhood_group_cleansed')['price_x'].mean().sort_values(ascending=False).index)\n",
    "ax4 = sns.boxplot(x=df_data_p['neighbourhood_group_cleansed'],y=df_data_p['price_x'],order=n_label,showfliers=False)\n",
    "ax4.set_xticklabels(labels=n_label,rotation=90)"
   ]
  },
  {
   "cell_type": "code",
   "execution_count": 114,
   "metadata": {},
   "outputs": [
    {
     "data": {
      "text/plain": [
       "[Text(0,0,'Magnolia'),\n",
       " Text(0,0,'Downtown'),\n",
       " Text(0,0,'Queen Anne'),\n",
       " Text(0,0,'West Seattle'),\n",
       " Text(0,0,'Cascade'),\n",
       " Text(0,0,'Capitol Hill'),\n",
       " Text(0,0,'Central Area'),\n",
       " Text(0,0,'Ballard'),\n",
       " Text(0,0,'Other neighborhoods'),\n",
       " Text(0,0,'Interbay'),\n",
       " Text(0,0,'Seward Park'),\n",
       " Text(0,0,'University District'),\n",
       " Text(0,0,'Beacon Hill'),\n",
       " Text(0,0,'Rainier Valley'),\n",
       " Text(0,0,'Lake City'),\n",
       " Text(0,0,'Northgate'),\n",
       " Text(0,0,'Delridge')]"
      ]
     },
     "execution_count": 114,
     "metadata": {},
     "output_type": "execute_result"
    },
    {
     "data": {
      "image/png": "[encoded data removed]",
      "text/plain": [
       "<Figure size 432x288 with 1 Axes>"
      ]
     },
     "metadata": {},
     "output_type": "display_data"
    }
   ],
   "source": [
    "ax5= sns.barplot(x=df_data_p['neighbourhood_group_cleansed'],y=df_data_p['price_x'],order=n_label);ax5.set_xticklabels(labels=n_label,rotation=90)"
   ]
  },
  {
   "cell_type": "code",
   "execution_count": 113,
   "metadata": {},
   "outputs": [
    {
     "data": {
      "text/plain": [
       "[Text(0,0,'Magnolia'),\n",
       " Text(1,0,'Downtown'),\n",
       " Text(2,0,'Queen Anne'),\n",
       " Text(3,0,'West Seattle'),\n",
       " Text(4,0,'Cascade'),\n",
       " Text(5,0,'Capitol Hill'),\n",
       " Text(6,0,'Central Area'),\n",
       " Text(7,0,'Ballard'),\n",
       " Text(8,0,'Other neighborhoods'),\n",
       " Text(9,0,'Interbay'),\n",
       " Text(10,0,'Seward Park'),\n",
       " Text(11,0,'University District'),\n",
       " Text(12,0,'Beacon Hill'),\n",
       " Text(13,0,'Rainier Valley'),\n",
       " Text(14,0,'Lake City'),\n",
       " Text(15,0,'Northgate'),\n",
       " Text(16,0,'Delridge')]"
      ]
     },
     "execution_count": 113,
     "metadata": {},
     "output_type": "execute_result"
    }
   ],
   "source": []
  },
  {
   "cell_type": "code",
   "execution_count": null,
   "metadata": {},
   "outputs": [],
   "source": []
  },
  {
   "cell_type": "code",
   "execution_count": 68,
   "metadata": {},
   "outputs": [],
   "source": [
    "grid = plt.gridspec.GridSpec(2,3)"
   ]
  },
  {
   "cell_type": "code",
   "execution_count": 71,
   "metadata": {},
   "outputs": [],
   "source": [
    "fig = plt.figure.Figure(figsize=(6, 6))\n",
    "grid = plt.gridspec.GridSpec(2, 3, hspace=0.2, wspace=0.2)"
   ]
  },
  {
   "cell_type": "code",
   "execution_count": 2,
   "metadata": {},
   "outputs": [],
   "source": [
    "#### NOTE - Need to standardize price and normalize other features (i.e bedrooms ) for model analysis"
   ]
  },
  {
   "cell_type": "code",
   "execution_count": null,
   "metadata": {},
   "outputs": [],
   "source": [
    "## try to log transform price data to unskew."
   ]
  },
  {
   "cell_type": "code",
   "execution_count": null,
   "metadata": {},
   "outputs": [],
   "source": []
  }
 ],
 "metadata": {
  "kernelspec": {
   "display_name": "Python 3",
   "language": "python",
   "name": "python3"
  },
  "language_info": {
   "codemirror_mode": {
    "name": "ipython",
    "version": 3
   },
   "file_extension": ".py",
   "mimetype": "text/x-python",
   "name": "python",
   "nbconvert_exporter": "python",
   "pygments_lexer": "ipython3",
   "version": "3.7.0"
  }
 },
 "nbformat": 4,
 "nbformat_minor": 2
}
