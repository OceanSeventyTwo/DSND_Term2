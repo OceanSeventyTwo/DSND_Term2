{
 "cells": [
  {
   "cell_type": "markdown",
   "metadata": {},
   "source": [
    "# AirBnB Project for  **Project: Write A Data Science Blog Post**"
   ]
  },
  {
   "cell_type": "markdown",
   "metadata": {},
   "source": [
    "### 0.1  Key Steps for Project"
   ]
  },
  {
   "cell_type": "markdown",
   "metadata": {},
   "source": [
    "Feel free to be creative with your solutions, but do follow the CRISP-DM process in finding your solutions.\n",
    "\n",
    "1) Pick a dataset.\n",
    "   I chose the AirBnnB dataset.  Because why not..\n",
    "\n",
    "2) Pose at least three questions related to business or real-world applications of how the data could be used.\n",
    "\n",
    "3) Create a Jupyter Notebook, using any associated packages you'd like, to:\n",
    "\n",
    "    Prepare data:\n",
    "        Gather necessary data to answer your questions\n",
    "        Handle categorical and missing data\n",
    "        Provide insight into the methods you chose and why you chose them\n",
    "\n",
    "    Analyze, Model, and Visualize\n",
    "        Provide a clear connection between your business questions and how the data answers them.\n",
    "\n",
    "4) Communicate your business insights:\n",
    "\n",
    "    Create a Github repository to share your code and data wrangling/modeling techniques, with a technical audience in mind\n",
    "    Create a blog post to share your questions and insights with a non-technical audience\n",
    "\n",
    "Your deliverables will be a Github repo and a blog post. Use the rubric here to assist in successfully completing this project!"
   ]
  },
  {
   "cell_type": "markdown",
   "metadata": {},
   "source": [
    "## 0.2 [Rubric](https://review.udacity.com/#!/rubrics/1507/view)"
   ]
  },
  {
   "cell_type": "markdown",
   "metadata": {},
   "source": [
    "#### Code Functionality and Readability\n",
    "* Code is readable (uses good coding practices - PEP8) \n",
    "* Code is functional.\n",
    "* Write code that is well documented and uses functions and classes as necessary.\n",
    "\n",
    "#### Data\n",
    "* Project follows the CRISP-DM Process while analyzing their data. \n",
    "* Proper handling of categorical and missing values in the dataset. \n",
    "* Categorical variables are handled appropriately for machine learning models (if models are created). \n",
    "\n",
    "#### Analysis, Modeling, Visualization\n",
    "* There are 3-5 business questions answered.\n",
    "\t\n",
    "#### Github Repository\n",
    "* Student must publish their code in a public Github repository.  \n",
    "\t\n",
    "#### Blog Post\n",
    "* Communicate their findings with stakeholders.\n",
    "* There should be an intriguing title and image related to the project.\n",
    "* The body of the post has paragraphs that are broken up by appropriate white space and images.\n",
    "* Each question has a clearly communicated solution."
   ]
  },
  {
   "cell_type": "markdown",
   "metadata": {},
   "source": [
    "##  0.3  CRISP-DM\n",
    "### 0.3.1 Business Understanding/Data Understanding\n",
    "          AirBnB is an online marketplace for vacation/temporary houseing rentals.  Thier members/hosts own the property and rent via the  AirBnB marketplace.\n",
    "          \n",
    "          \n",
    "          The data provides was provided each from Seattle\n",
    "          https://www.kaggle.com/airbnb/seattle/data\n",
    "          * listing.csv\n",
    "          * calendar.csv\n",
    "          * reviews.csv\n",
    "          \n",
    "          How to best position your property to make the most revenue?\n",
    "          1) What property attributes correlate with higher rental prices?\n",
    "          2) Which neighborhoods the best neighborhoods for price?\n",
    "          3) When is the best time of year to rent?\n",
    "\n",
    "          \n",
    "          \n",
    "### 0.3.2 Data Preparation\n",
    "        1) Imported listing and calendar\n",
    "        #clean_cal() and clean_listing()\n",
    "        2) Corrected and adjusted datatypes  \n",
    "        3) Took some columns and made them into booleans (presnence or absence of awnser)\n",
    "        4) One Hot encoded columns that contained lists of atttributes\n",
    "        \n",
    "     \n",
    "     \n",
    "#### 0.3.2.1 Cleaning Data\n",
    "        prep_cal()\n",
    "        Price is our response variable\n",
    "        1) removed all rows where price was NA\n",
    "        2) Removed a column that was mostly NAs\n",
    "        3) removed a few rows of the remaining NA\n",
    "        \n",
    "        \n",
    "### 0.3.3 Modeling\n",
    "        1) normailized and standardized various features\n",
    "        2) Started with a LinearModel but got a very negative r^2\n",
    "        3) Fit a PCA model and transformed data\n",
    "            \n",
    "\n",
    "\n",
    "### 0.3.4 Evaluation\n",
    "        1) Used the linear model fit pca data to identify which of the attributes are more influential to price.\n",
    "            Used transformed data to fit a linear model (much better r^2 approx 0.3)\n",
    "            Used coefficents from linear model along with the pca feature weights to identify \n",
    "            common attributes that are coorelated with higher prices\n",
    "        2) Also simply looked at highest coorelation between components and price.\n",
    "            Confirmed what PCA model identified\n",
    "        3) Created graphs to evaluate the price differences of the identified attributes.\n",
    "        4) Created graphs to evaluate the price differences between neighboorhoods\n",
    "        5) Created graphs to evaluate the price differences throught he year.\n",
    "### 0.3.5 Deployment\n",
    "        1) Created a blog (draft) with the results via Medium - \n",
    "        https://medium.com/@thomas.m.canty/before-you-post-to-host-64415587044a"
   ]
  },
  {
   "cell_type": "code",
   "execution_count": null,
   "metadata": {},
   "outputs": [],
   "source": []
  },
  {
   "cell_type": "markdown",
   "metadata": {},
   "source": [
    "## 1.1 Header"
   ]
  },
  {
   "cell_type": "code",
   "execution_count": 1,
   "metadata": {},
   "outputs": [],
   "source": [
    "%matplotlib inline\n",
    "import pandas as pd\n",
    "import numpy as np\n",
    "import os.path as op\n",
    "\n",
    "#stats\n",
    "import scipy.stats as stats\n",
    "import statsmodels.api as sm\n",
    "import statsmodels.formula.api as smf\n",
    "from statsmodels.formula.api import ols\n",
    "\n",
    "import ast\n",
    "import math\n",
    "import os\n",
    "from datetime import date\n",
    "\n",
    "#Graphing\n",
    "import seaborn as sns\n",
    "import matplotlib.pyplot as plt\n",
    "import helper as h\n",
    "\n",
    "#Data modeling\n",
    "from sklearn.linear_model import LinearRegression\n",
    "from sklearn.preprocessing import StandardScaler,normalize\n",
    "from sklearn.model_selection import train_test_split\n",
    "from sklearn.metrics import r2_score, mean_squared_error\n",
    "from sklearn.decomposition.pca import PCA"
   ]
  },
  {
   "cell_type": "code",
   "execution_count": 2,
   "metadata": {},
   "outputs": [
    {
     "data": {
      "text/plain": [
       "'C:\\\\Users\\\\tcanty\\\\Documents\\\\Udacity\\\\DSND_Term2\\\\project_files\\\\AirBnB\\\\All Data'"
      ]
     },
     "execution_count": 2,
     "metadata": {},
     "output_type": "execute_result"
    }
   ],
   "source": [
    "PATH = os.getcwd()+\"\\All Data\"\n",
    "PATH"
   ]
  },
  {
   "cell_type": "code",
   "execution_count": 3,
   "metadata": {},
   "outputs": [
    {
     "data": {
      "text/plain": [
       "['.ipynb_checkpoints',\n",
       " 'b_calendar.csv',\n",
       " 'b_listings.csv',\n",
       " 'b_reviews.csv',\n",
       " 's_calendar.csv',\n",
       " 's_listings.csv',\n",
       " 's_reviews.csv']"
      ]
     },
     "execution_count": 3,
     "metadata": {},
     "output_type": "execute_result"
    }
   ],
   "source": [
    "os.listdir(PATH)"
   ]
  },
  {
   "cell_type": "code",
   "execution_count": 4,
   "metadata": {},
   "outputs": [],
   "source": [
    "def prep_listings(df):\n",
    "    ''' Return a cleaned dataframe derived from listing.csv file\n",
    "\n",
    "    1) Fixes percentage & currency strings to float\n",
    "    2) Fixes datatype of oject to categories were appropraite\n",
    "    3) Fixes bool strings to bool cols\n",
    "    2) Fixes Datetime cols -> datetime format\n",
    "    3) There are two columns that have list containing strings in each cell, convert to one hot encoded columns \n",
    "    4) Takes columns with strings, change to boolean (i.e. did the host provide information)\n",
    "    5) Drop all N/A or one hot encoded columns\n",
    "\n",
    "    Parameters\n",
    "    -------\n",
    "    df:  Pandas DataFrame with an already imported lsiting.csv\n",
    "\n",
    "    '''\n",
    "\n",
    "    ## Clean percentage strings to float values\n",
    "    pct_col = ['host_acceptance_rate','host_response_rate']\n",
    "    for pc in pct_col:\n",
    "        df[pc] = df[pc].str.strip(\"%\")\n",
    "        df[pc] = df[pc].astype('float')\n",
    "        df[pc] = df[pc].apply(lambda x: x/100)\n",
    "        #df[pc] = df[pc].map('{:,.2%}'.format)\n",
    "        \n",
    "    ## Clean dollar strings to value\n",
    "\n",
    "    dol_col = ['price','weekly_price','monthly_price','security_deposit','cleaning_fee','extra_people']\n",
    "    for dol in dol_col:\n",
    "        df[dol] = df[dol].str.replace('$','')\n",
    "        df[dol] = df[dol].str.replace(',','')\n",
    "        df[dol] = df[dol].astype('float')\n",
    "        #df[dol] = df[dol].map('${:,.2f}'.format)\n",
    "        \n",
    "    ## Change type to category\n",
    "    cat_col = ['host_response_time','host_location','host_neighbourhood','neighbourhood',\n",
    "               'neighbourhood_cleansed','neighbourhood_group_cleansed','city','state','zipcode',\n",
    "              'market','smart_location','country_code','country','property_type','room_type',\n",
    "              'calendar_updated','jurisdiction_names','cancellation_policy','bed_type']\n",
    "    \n",
    "    for cc in cat_col:\n",
    "        df[cc] = df[cc].astype('category')\n",
    "  \n",
    "\n",
    "    ## Fix Boolean Columns\n",
    "    bool_col = ['host_is_superhost','host_has_profile_pic','host_identity_verified',\n",
    "                'is_location_exact','has_availability','requires_license','instant_bookable',\n",
    "               'require_guest_profile_picture','require_guest_phone_verification']\n",
    "    for bc in bool_col:\n",
    "        df[bc] = df[bc].replace({'t': True,'f':False})\n",
    "        df[bc] = df[bc].astype(bool)\n",
    "\n",
    "    ## Fix Datetime columns\n",
    "    dt_col = ['last_scraped','host_since','calendar_last_scraped','first_review','last_review']\n",
    "    for dt in dt_col:\n",
    "        df[dt] = pd.to_datetime(df[dt])\n",
    "\n",
    "    ## Fix list column\n",
    "    ## The following code transforms column 'host_verification' and 'amenities' to a usable matrix of \n",
    "    ##     one hot encoding the contained communicaiton methods      \n",
    "    \n",
    "    df2 = pd.DataFrame(df['host_verifications'].apply(lambda x:ast.literal_eval(x)))  # string to list #\n",
    "    df3 = df2.host_verifications.apply(pd.Series)                                   # list -> series across columns #\n",
    "    df2 = df2.merge(df3, right_index=True, left_index=True)\n",
    "    df2 = df2.reset_index().melt(id_vars=['id','host_verifications'],value_name = 'host_sm_ver')\n",
    "    df2 = df2.pivot_table(values='variable',columns='host_sm_ver',index='id',aggfunc='count',fill_value=0)\n",
    "    df2 = df2.add_prefix('hv::')\n",
    "    df = df.merge(df2,left_index=True, right_index=True)\n",
    "\n",
    "    \n",
    "    \n",
    "    df4 = pd.DataFrame(df_listing['amenities'].apply(lambda x:\n",
    "                           x.replace('\\\"','').replace('{','').replace('}','').split(',')))\n",
    "    df5 = df4.iloc[:,0].apply(pd.Series)\n",
    "    df4 = df4.merge(df5,left_index=True,right_index=True)\n",
    "    df4 = df4.reset_index().melt(id_vars=['id','amenities'],value_name = 'amms')\n",
    "    df4 = df4.pivot_table(values='variable',columns='amms',index='id',aggfunc='count',fill_value=0)\n",
    "    df4 = df4.add_prefix('amm::')\n",
    "    df = df.merge(df4,left_index=True, right_index=True)\n",
    "    \n",
    "    ## Remaining string columns, only interested in the presence or absence.   Replace with boolean. \n",
    "    \n",
    "    str_cols = ['summary', 'space', 'neighborhood_overview', 'notes', 'transit',\n",
    "   'thumbnail_url', 'medium_url', 'xl_picture_url', 'host_about']\n",
    "    \n",
    "    def replace_str(x):\n",
    "        if type(x) == float:\n",
    "            if  math.isnan(x):\n",
    "                return False\n",
    "        else: return True\n",
    "    \n",
    "    df_listed_attributes = pd.DataFrame()\n",
    "    for col in str_cols:\n",
    "        df_listed_attributes[col] = df[col].apply(lambda x: replace_str(x))\n",
    "        df_listed_attributes[col] = df_listed_attributes[col].astype('bool')\n",
    "    \n",
    "    df_listed_attributes = df_listed_attributes.add_prefix('attrib::')\n",
    "    df = df.merge(df_listed_attributes,left_index=True,right_index=True)\n",
    "    df = df.drop(columns=str_cols)\n",
    "    \n",
    "    \n",
    "    ## Drop Columns\n",
    "    '''Reasons\n",
    "    All N/A: licence\n",
    "    No N/A: listing_url\n",
    "    onehot: host_verifications\n",
    "    am\n",
    "       \n",
    "    '''\n",
    "    drop_cols = ['license','host_verifications','amenities']  \n",
    "    df = df.drop(columns=drop_cols)\n",
    "    return df\n"
   ]
  },
  {
   "cell_type": "code",
   "execution_count": 5,
   "metadata": {},
   "outputs": [],
   "source": [
    "def prep_cal(df):\n",
    "    ''' Return a cleaned dataframe derived from listing.csv file\n",
    "\n",
    "    1) Fixes Datetime cols -> datetime format\n",
    "    2) Fixes percentage strings to float\n",
    "    3) Fixes bool strings to bool cols\n",
    "    4) Fixes datatype of oject to categories were appropraite\n",
    "    5)\n",
    "\n",
    "    Parameters\n",
    "    -------\n",
    "    df:  Pandas DataFrame with an already imported lsiting.csv\n",
    "\n",
    "    '''\n",
    "    ## Fix $ strings column\n",
    "    dol_col= ['price']\n",
    "    for dol in dol_col:\n",
    "        df[dol] = df[dol].str.replace('$','')\n",
    "        df[dol] = df[dol].str.replace(',','')\n",
    "        df[dol] = df[dol].astype('float')\n",
    "        \n",
    "    ## Fix Datetime columns\n",
    "    dt_col = ['date']\n",
    "    for dt in dt_col:\n",
    "        df[dt] = pd.to_datetime(df[dt])\n",
    "\n",
    "        \n",
    "    ## Expand Datetime\n",
    "    df['week_num'] = df['date'].apply(lambda x: date.isocalendar(x)[1])\n",
    "    df['month'] = df['date'].apply(lambda x: x.month)\n",
    "    df['year'] = df['date'].apply(lambda x: x.year)\n",
    "\n",
    "    month = {1:'Jan',2:'Feb',3:'Mar',4:'Apr',5:'May',6:'Jun',7:'Jul',8:'Aug',9:'Sep',10:'Oct',11:'Nov',12:'Dec'}\n",
    "    df['month'] = df['month'].apply(lambda x: month[x])\n",
    "        \n",
    "    ## Fix Bool Columns\n",
    "\n",
    "    bool_col = ['available']\n",
    "    for bc in bool_col:\n",
    "        df[bc] = df[bc].replace({'t': True,'f':False})\n",
    "        df[bc] = df[bc].astype(bool)\n",
    "    \n",
    "    return df"
   ]
  },
  {
   "cell_type": "code",
   "execution_count": 6,
   "metadata": {},
   "outputs": [],
   "source": [
    "def compile_and_clean_attr_data(df_list,df_cal):\n",
    "    ''' Return a cleaned dataframe compiled of price and property attribute data from df_listing and df_cal\n",
    "\n",
    "    1) Selects the column price from df_Cal as the \"price column\"\n",
    "    2) Drops N/As where appropriate\n",
    "\n",
    "    Parameters\n",
    "    -------\n",
    "    df_list:  Pandas DataFrame with an already imported listing.csv\n",
    "    df_cal:   Pandas DataFrame with an already imported calendar.csv\n",
    "    '''\n",
    "    #Using the average list prices in df_cal['price'] vs the current listing price df_list['price']\n",
    "    df_avg_price = pd.DataFrame(df_cal.groupby(by=['listing_id'])['price'].mean())\n",
    "    df_list = df_list.drop(columns='price')\n",
    "    df = df_avg_price.merge(df_list,left_index=True,right_index=True)\n",
    "\n",
    "    #Strip catagoires to only the property/physical attributes of the property\n",
    "    ammenities = list(df.filter(like='amm').columns.values)\n",
    "    physical_attr_loc = ['price','bathrooms','bedrooms','beds','neighbourhood_cleansed',\n",
    "                     'neighbourhood_group_cleansed','property_type','room_type','bed_type',\n",
    "                    'accommodates','guests_included'] + ammenities\n",
    "    df = df[physical_attr_loc]\n",
    "    \n",
    "    ##Clean Nas \n",
    "\n",
    "    # Drop all rows without a y (price)\n",
    "    df = df.dropna(axis=0,subset=['price'])\n",
    "\n",
    "    # Dropping rows b/c The following had a low number of n/a rows and would be difficult to impute, \n",
    "    df = df.drop(index=df.loc[df['bedrooms'].isna(),:].index )\n",
    "    df = df.drop(index=df.loc[df['property_type'].isna(),:].index )\n",
    "    df = df.drop(index=df.loc[df['bathrooms'].isna(),:].index )\n",
    "\n",
    "    #Creating a log-transformed price column to \n",
    "    df.insert(column='price_log',loc=1,value=np.nan)\n",
    "    df['price_log'] = df['price'].apply(lambda x: np.log(x))\n",
    "\n",
    "    # One hot encode the categorical columns\n",
    "    cat_col = list(df.select_dtypes(include='category').columns.values)\n",
    "    df = df.merge(pd.get_dummies(df[cat_col],prefix_sep='::'),right_index=True, left_index=True)\n",
    "    df = df.drop(columns=cat_col)\n",
    "\n",
    "\n",
    "    return df"
   ]
  },
  {
   "cell_type": "code",
   "execution_count": null,
   "metadata": {},
   "outputs": [],
   "source": []
  },
  {
   "cell_type": "code",
   "execution_count": 7,
   "metadata": {},
   "outputs": [],
   "source": [
    "df_listing = pd.read_csv(PATH+'\\s_listings.csv',index_col=0)"
   ]
  },
  {
   "cell_type": "code",
   "execution_count": 8,
   "metadata": {},
   "outputs": [
    {
     "name": "stderr",
     "output_type": "stream",
     "text": [
      "C:\\Users\\tcanty\\AppData\\Local\\Continuum\\anaconda3\\lib\\site-packages\\numpy\\lib\\arraysetops.py:522: FutureWarning: elementwise comparison failed; returning scalar instead, but in the future will perform elementwise comparison\n",
      "  mask |= (ar1 == a)\n"
     ]
    }
   ],
   "source": [
    "df_cal = pd.read_csv(PATH+'\\s_calendar.csv',index_col=0)"
   ]
  },
  {
   "cell_type": "code",
   "execution_count": 9,
   "metadata": {},
   "outputs": [],
   "source": [
    "df_listing = prep_listings(df_listing)"
   ]
  },
  {
   "cell_type": "code",
   "execution_count": 10,
   "metadata": {},
   "outputs": [],
   "source": [
    "df_cal = prep_cal(df_cal)"
   ]
  },
  {
   "cell_type": "code",
   "execution_count": 11,
   "metadata": {},
   "outputs": [],
   "source": [
    "df_q2 = compile_and_clean_attr_data(df_listing,df_cal)"
   ]
  },
  {
   "cell_type": "code",
   "execution_count": 12,
   "metadata": {},
   "outputs": [],
   "source": [
    "sns.set_style('darkgrid')"
   ]
  },
  {
   "cell_type": "markdown",
   "metadata": {},
   "source": [
    "## Q1. What kind of attributes coorelate with higher rental prices?\n"
   ]
  },
  {
   "cell_type": "markdown",
   "metadata": {},
   "source": [
    "#### Standardize and Normalize\n"
   ]
  },
  {
   "cell_type": "code",
   "execution_count": 13,
   "metadata": {},
   "outputs": [],
   "source": [
    "#Standardize\n",
    "std_col = ['price','price_log']\n",
    "blah = StandardScaler()\n",
    "\n",
    "df_q2[std_col] = blah.fit_transform(df_q2[std_col])\n",
    "\n",
    "#Normalize\n",
    "norm_col = ['accommodates','guests_included','bathrooms','bedrooms','beds']\n",
    "\n",
    "df_q2[norm_col] = normalize(df_q2[norm_col])"
   ]
  },
  {
   "cell_type": "code",
   "execution_count": 14,
   "metadata": {},
   "outputs": [
    {
     "data": {
      "text/plain": [
       "<matplotlib.axes._subplots.AxesSubplot at 0x26382ba5b00>"
      ]
     },
     "execution_count": 14,
     "metadata": {},
     "output_type": "execute_result"
    },
    {
     "data": {
      "image/png": "[encoded data removed]",
      "text/plain": [
       "<Figure size 432x288 with 1 Axes>"
      ]
     },
     "metadata": {},
     "output_type": "display_data"
    }
   ],
   "source": [
    "df_cal['price'].hist(bins=30)"
   ]
  },
  {
   "cell_type": "code",
   "execution_count": null,
   "metadata": {},
   "outputs": [],
   "source": []
  },
  {
   "cell_type": "markdown",
   "metadata": {},
   "source": [
    "#### Linear Model\n",
    "Lets start with a general linear model"
   ]
  },
  {
   "cell_type": "code",
   "execution_count": 15,
   "metadata": {},
   "outputs": [],
   "source": [
    "df_q2_X = df_q2.drop(columns=['price','price_log'])\n",
    "df_q2_y1 = df_q2['price']\n",
    "df_q2_y2 = df_q2['price_log']\n",
    "\n",
    "q2_model = LinearRegression()\n",
    "q2_log_model = LinearRegression()\n",
    "q2_X_train, q2_X_test, q2_y1_train, q2_y1_test, q2_y2_train, q2_y2_test = train_test_split(df_q2_X,df_q2_y1,df_q2_y2,test_size = 0.3,random_state=72)\n",
    "\n",
    "q2_model.fit(q2_X_train,q2_y1_train)\n",
    "\n",
    "q2_log_model.fit(q2_X_train,q2_y2_train)\n",
    "\n",
    "q2_y1_predict = q2_model.predict(q2_X_test)\n",
    "\n",
    "q2_y2_predict = q2_log_model.predict(q2_X_test)"
   ]
  },
  {
   "cell_type": "code",
   "execution_count": 16,
   "metadata": {},
   "outputs": [
    {
     "name": "stdout",
     "output_type": "stream",
     "text": [
      "r^2 with price:  -3.475602644236462e+20\n",
      "r^2 with price_log:  -3.39906762033953e+19\n"
     ]
    }
   ],
   "source": [
    "print('r^2 with price: ', r2_score(q2_y1_test,q2_y1_predict))\n",
    "print('r^2 with price_log: ', r2_score(q2_y2_test,q2_y2_predict))"
   ]
  },
  {
   "cell_type": "markdown",
   "metadata": {},
   "source": [
    "Not a good score, will look at the coefficents anyway to see which are the most coorlated features"
   ]
  },
  {
   "cell_type": "code",
   "execution_count": 17,
   "metadata": {},
   "outputs": [
    {
     "data": {
      "text/html": [
       "<div>\n",
       "<style scoped>\n",
       "    .dataframe tbody tr th:only-of-type {\n",
       "        vertical-align: middle;\n",
       "    }\n",
       "\n",
       "    .dataframe tbody tr th {\n",
       "        vertical-align: top;\n",
       "    }\n",
       "\n",
       "    .dataframe thead th {\n",
       "        text-align: right;\n",
       "    }\n",
       "</style>\n",
       "<table border=\"1\" class=\"dataframe\">\n",
       "  <thead>\n",
       "    <tr style=\"text-align: right;\">\n",
       "      <th></th>\n",
       "      <th>est_int</th>\n",
       "      <th>coefs</th>\n",
       "      <th>abs_coefs</th>\n",
       "    </tr>\n",
       "  </thead>\n",
       "  <tbody>\n",
       "    <tr>\n",
       "      <th>167</th>\n",
       "      <td>room_type::Entire home/apt</td>\n",
       "      <td>7.761469e+12</td>\n",
       "      <td>7.761469e+12</td>\n",
       "    </tr>\n",
       "    <tr>\n",
       "      <th>168</th>\n",
       "      <td>room_type::Private room</td>\n",
       "      <td>7.761469e+12</td>\n",
       "      <td>7.761469e+12</td>\n",
       "    </tr>\n",
       "    <tr>\n",
       "      <th>169</th>\n",
       "      <td>room_type::Shared room</td>\n",
       "      <td>7.761469e+12</td>\n",
       "      <td>7.761469e+12</td>\n",
       "    </tr>\n",
       "    <tr>\n",
       "      <th>140</th>\n",
       "      <td>neighbourhood_group_cleansed::Downtown</td>\n",
       "      <td>-8.310245e+11</td>\n",
       "      <td>8.310245e+11</td>\n",
       "    </tr>\n",
       "    <tr>\n",
       "      <th>145</th>\n",
       "      <td>neighbourhood_group_cleansed::Other neighborhoods</td>\n",
       "      <td>-7.681653e+11</td>\n",
       "      <td>7.681653e+11</td>\n",
       "    </tr>\n",
       "    <tr>\n",
       "      <th>144</th>\n",
       "      <td>neighbourhood_group_cleansed::Northgate</td>\n",
       "      <td>-7.458055e+11</td>\n",
       "      <td>7.458055e+11</td>\n",
       "    </tr>\n",
       "    <tr>\n",
       "      <th>135</th>\n",
       "      <td>neighbourhood_group_cleansed::Beacon Hill</td>\n",
       "      <td>-6.999098e+11</td>\n",
       "      <td>6.999098e+11</td>\n",
       "    </tr>\n",
       "    <tr>\n",
       "      <th>136</th>\n",
       "      <td>neighbourhood_group_cleansed::Capitol Hill</td>\n",
       "      <td>-5.951270e+11</td>\n",
       "      <td>5.951270e+11</td>\n",
       "    </tr>\n",
       "  </tbody>\n",
       "</table>\n",
       "</div>"
      ],
      "text/plain": [
       "                                               est_int         coefs  \\\n",
       "167                         room_type::Entire home/apt  7.761469e+12   \n",
       "168                            room_type::Private room  7.761469e+12   \n",
       "169                             room_type::Shared room  7.761469e+12   \n",
       "140             neighbourhood_group_cleansed::Downtown -8.310245e+11   \n",
       "145  neighbourhood_group_cleansed::Other neighborhoods -7.681653e+11   \n",
       "144            neighbourhood_group_cleansed::Northgate -7.458055e+11   \n",
       "135          neighbourhood_group_cleansed::Beacon Hill -6.999098e+11   \n",
       "136         neighbourhood_group_cleansed::Capitol Hill -5.951270e+11   \n",
       "\n",
       "        abs_coefs  \n",
       "167  7.761469e+12  \n",
       "168  7.761469e+12  \n",
       "169  7.761469e+12  \n",
       "140  8.310245e+11  \n",
       "145  7.681653e+11  \n",
       "144  7.458055e+11  \n",
       "135  6.999098e+11  \n",
       "136  5.951270e+11  "
      ]
     },
     "execution_count": 17,
     "metadata": {},
     "output_type": "execute_result"
    }
   ],
   "source": [
    "coefs_df = pd.DataFrame()\n",
    "coefs_df['est_int'] = q2_X_train.columns\n",
    "coefs_df['coefs'] = q2_model.coef_\n",
    "coefs_df['abs_coefs'] = np.abs(q2_model.coef_)\n",
    "coefs_df = coefs_df.sort_values('abs_coefs', ascending=False)\n",
    "coefs_df[0:8]"
   ]
  },
  {
   "cell_type": "code",
   "execution_count": 18,
   "metadata": {},
   "outputs": [],
   "source": [
    "coefs_df['type'] = coefs_df['est_int'].apply(lambda x: x.split(':')[0])"
   ]
  },
  {
   "cell_type": "code",
   "execution_count": 19,
   "metadata": {},
   "outputs": [
    {
     "data": {
      "text/plain": [
       "type\n",
       "room_type                       7.761469e+12\n",
       "neighbourhood_group_cleansed    4.691246e+11\n",
       "property_type                   3.549125e+11\n",
       "neighbourhood_cleansed          1.909817e+11\n",
       "bed_type                        7.675993e+09\n",
       "bathrooms                       1.697473e+00\n",
       "accommodates                    1.540042e+00\n",
       "guests_included                 1.185815e+00\n",
       "beds                            8.308432e-01\n",
       "Name: abs_coefs, dtype: float64"
      ]
     },
     "execution_count": 19,
     "metadata": {},
     "output_type": "execute_result"
    }
   ],
   "source": [
    "coefs_df.groupby(by='type')['abs_coefs'].mean().sort_values(ascending=False).head(9)"
   ]
  },
  {
   "cell_type": "markdown",
   "metadata": {},
   "source": [
    "Not the best r^2 score. I will look at the coorelation of different featuers with price and sort "
   ]
  },
  {
   "cell_type": "markdown",
   "metadata": {},
   "source": [
    "#### Principle Component Analysis (target 85%)"
   ]
  },
  {
   "cell_type": "code",
   "execution_count": 20,
   "metadata": {},
   "outputs": [
    {
     "data": {
      "text/plain": [
       "0.8674667924621983"
      ]
     },
     "execution_count": 20,
     "metadata": {},
     "output_type": "execute_result"
    }
   ],
   "source": [
    "df_q2_X = df_q2.drop(columns=['price','price_log'])\n",
    "pca_model = PCA(n_components=45)\n",
    "pca = pca_model.fit(df_q2_X)\n",
    "xpca = pca_model.transform(df_q2_X)\n",
    "pca.explained_variance_ratio_.sum()"
   ]
  },
  {
   "cell_type": "code",
   "execution_count": 21,
   "metadata": {},
   "outputs": [
    {
     "data": {
      "image/png": "[encoded data removed]",
      "text/plain": [
       "<Figure size 720x432 with 1 Axes>"
      ]
     },
     "metadata": {},
     "output_type": "display_data"
    }
   ],
   "source": [
    "h.scree_plot(pca)"
   ]
  },
  {
   "cell_type": "code",
   "execution_count": 22,
   "metadata": {},
   "outputs": [],
   "source": [
    "xpca_train, x_pca_test = train_test_split(xpca,test_size = 0.3,random_state=72)"
   ]
  },
  {
   "cell_type": "code",
   "execution_count": 23,
   "metadata": {},
   "outputs": [],
   "source": [
    "# Fit transformed PCA data to linear model"
   ]
  },
  {
   "cell_type": "code",
   "execution_count": 24,
   "metadata": {},
   "outputs": [
    {
     "name": "stdout",
     "output_type": "stream",
     "text": [
      "r^2 with price:  0.3603398582652153\n"
     ]
    }
   ],
   "source": [
    "xpca_linmodel = LinearRegression()\n",
    "xpca_linmodel.fit(xpca_train,q2_y1_train)\n",
    "xpca_predict = xpca_linmodel.predict(x_pca_test)\n",
    "print('r^2 with price: ', r2_score(q2_y1_test,xpca_predict))"
   ]
  },
  {
   "cell_type": "markdown",
   "metadata": {},
   "source": [
    "#### r^2 of 0.35 is certainly better, not great but it is getting in the neighboorhood\n",
    "#### look at the top 5 components"
   ]
  },
  {
   "cell_type": "code",
   "execution_count": 25,
   "metadata": {},
   "outputs": [],
   "source": [
    "pca_results_1_5 = h.pca_results_rng(df_q2_X,pca,[1,45])"
   ]
  },
  {
   "cell_type": "code",
   "execution_count": 26,
   "metadata": {},
   "outputs": [
    {
     "data": {
      "text/html": [
       "<div>\n",
       "<style scoped>\n",
       "    .dataframe tbody tr th:only-of-type {\n",
       "        vertical-align: middle;\n",
       "    }\n",
       "\n",
       "    .dataframe tbody tr th {\n",
       "        vertical-align: top;\n",
       "    }\n",
       "\n",
       "    .dataframe thead th {\n",
       "        text-align: right;\n",
       "    }\n",
       "</style>\n",
       "<table border=\"1\" class=\"dataframe\">\n",
       "  <thead>\n",
       "    <tr style=\"text-align: right;\">\n",
       "      <th></th>\n",
       "      <th>coefs</th>\n",
       "      <th>est_int</th>\n",
       "      <th>abs_coefs</th>\n",
       "    </tr>\n",
       "  </thead>\n",
       "  <tbody>\n",
       "    <tr>\n",
       "      <th>2</th>\n",
       "      <td>-0.526409</td>\n",
       "      <td>Dimension_3</td>\n",
       "      <td>0.526409</td>\n",
       "    </tr>\n",
       "    <tr>\n",
       "      <th>24</th>\n",
       "      <td>0.365335</td>\n",
       "      <td>Dimension_25</td>\n",
       "      <td>0.365335</td>\n",
       "    </tr>\n",
       "    <tr>\n",
       "      <th>14</th>\n",
       "      <td>0.358981</td>\n",
       "      <td>Dimension_15</td>\n",
       "      <td>0.358981</td>\n",
       "    </tr>\n",
       "    <tr>\n",
       "      <th>3</th>\n",
       "      <td>-0.339022</td>\n",
       "      <td>Dimension_4</td>\n",
       "      <td>0.339022</td>\n",
       "    </tr>\n",
       "    <tr>\n",
       "      <th>44</th>\n",
       "      <td>0.336101</td>\n",
       "      <td>Dimension_45</td>\n",
       "      <td>0.336101</td>\n",
       "    </tr>\n",
       "  </tbody>\n",
       "</table>\n",
       "</div>"
      ],
      "text/plain": [
       "       coefs       est_int  abs_coefs\n",
       "2  -0.526409   Dimension_3   0.526409\n",
       "24  0.365335  Dimension_25   0.365335\n",
       "14  0.358981  Dimension_15   0.358981\n",
       "3  -0.339022   Dimension_4   0.339022\n",
       "44  0.336101  Dimension_45   0.336101"
      ]
     },
     "execution_count": 26,
     "metadata": {},
     "output_type": "execute_result"
    }
   ],
   "source": [
    "dimensions = ['Dimension_{}'.format(i) for i in range(1, len(pca.components_)+1)]\n",
    "coefs_pca_df = pd.DataFrame()\n",
    "coefs_pca_df['coefs'] = xpca_linmodel.coef_\n",
    "coefs_pca_df['est_int'] = dimensions\n",
    "coefs_pca_df['abs_coefs'] = np.abs(xpca_linmodel.coef_)\n",
    "coefs_pca_df = coefs_pca_df.sort_values('abs_coefs', ascending=False)\n",
    "coefs_pca_df[0:5]"
   ]
  },
  {
   "cell_type": "code",
   "execution_count": 28,
   "metadata": {},
   "outputs": [
    {
     "name": "stdout",
     "output_type": "stream",
     "text": [
      "amm::Hangers                      0.3291\n",
      "amm::Hair Dryer                   0.3085\n",
      "amm::Laptop Friendly Workspace    0.2998\n",
      "amm::Iron                         0.2868\n",
      "room_type::Private room           0.2776\n",
      "Name: Dimension_3, dtype: float64\n",
      "room_type::Entire home/apt      -0.2996\n",
      "amm::Family/Kid Friendly        -0.2799\n",
      "amm::Cable TV                   -0.2343\n",
      "amm::TV                         -0.2245\n",
      "amm::Free Parking on Premises   -0.1954\n",
      "Name: Dimension_3, dtype: float64\n"
     ]
    }
   ],
   "source": [
    "print(pca_results_1_5.loc['Dimension_3'].sort_values(ascending=False)[:5])\n",
    "print(pca_results_1_5.loc['Dimension_3'].sort_values(ascending=True)[:5])"
   ]
  },
  {
   "cell_type": "code",
   "execution_count": 29,
   "metadata": {},
   "outputs": [
    {
     "name": "stdout",
     "output_type": "stream",
     "text": [
      "neighbourhood_group_cleansed::Queen Anne      0.4767\n",
      "amm::Dog(s)                                   0.2576\n",
      "neighbourhood_group_cleansed::Central Area    0.1909\n",
      "amm::Hot Tub                                  0.1725\n",
      "amm::Gym                                      0.1674\n",
      "Name: Dimension_25, dtype: float64\n",
      "amm::Cat(s)                                   -0.2940\n",
      "amm::Kitchen                                  -0.2358\n",
      "amm::Buzzer/Wireless Intercom                 -0.2143\n",
      "neighbourhood_group_cleansed::Ballard         -0.1891\n",
      "neighbourhood_cleansed::University District   -0.1797\n",
      "Name: Dimension_25, dtype: float64\n"
     ]
    }
   ],
   "source": [
    "print(pca_results_1_5.loc['Dimension_25'].sort_values(ascending=False)[:5])\n",
    "print(pca_results_1_5.loc['Dimension_25'].sort_values(ascending=True)[:5])"
   ]
  },
  {
   "cell_type": "code",
   "execution_count": 30,
   "metadata": {},
   "outputs": [
    {
     "name": "stdout",
     "output_type": "stream",
     "text": [
      "amm::Shampoo                                         0.4384\n",
      "neighbourhood_group_cleansed::Capitol Hill           0.3428\n",
      "neighbourhood_cleansed::Broadway                     0.2723\n",
      "neighbourhood_group_cleansed::Other neighborhoods    0.2128\n",
      "amm::Cable TV                                        0.1891\n",
      "Name: Dimension_15, dtype: float64\n",
      "amm::TV                                      -0.3047\n",
      "amm::Internet                                -0.2694\n",
      "neighbourhood_group_cleansed::Central Area   -0.2269\n",
      "amm::Family/Kid Friendly                     -0.1522\n",
      "property_type::Apartment                     -0.1515\n",
      "Name: Dimension_15, dtype: float64\n"
     ]
    }
   ],
   "source": [
    "print(pca_results_1_5.loc['Dimension_15'].sort_values(ascending=False)[:5])\n",
    "print(pca_results_1_5.loc['Dimension_15'].sort_values(ascending=True)[:5])"
   ]
  },
  {
   "cell_type": "code",
   "execution_count": 31,
   "metadata": {},
   "outputs": [
    {
     "name": "stdout",
     "output_type": "stream",
     "text": [
      "amm::First Aid Kit               0.3936\n",
      "amm::Fire Extinguisher           0.3171\n",
      "amm::Carbon Monoxide Detector    0.3168\n",
      "amm::Smoke Detector              0.2285\n",
      "property_type::Apartment         0.2159\n",
      "Name: Dimension_4, dtype: float64\n",
      "property_type::House            -0.2308\n",
      "amm::Free Parking on Premises   -0.2180\n",
      "room_type::Entire home/apt      -0.2042\n",
      "amm::Family/Kid Friendly        -0.1754\n",
      "amm::Cable TV                   -0.1719\n",
      "Name: Dimension_4, dtype: float64\n"
     ]
    }
   ],
   "source": [
    "print(pca_results_1_5.loc['Dimension_4'].sort_values(ascending=False)[:5])\n",
    "print(pca_results_1_5.loc['Dimension_4'].sort_values(ascending=True)[:5])\n"
   ]
  },
  {
   "cell_type": "markdown",
   "metadata": {},
   "source": [
    "* Dimention 3: coef -0.527 \n",
    "    * room_type::Entire home/apt      -0.2996\n",
    "    * amm::Family/Kid Friendly        -0.2799\n",
    "    * amm::Cable TV                   -0.2343\n",
    "    * amm::TV                         -0.2245\n",
    "* Dimention 25: coef 0.366\n",
    "    * neighbourhood_group_cleansed::Queen Anne      0.4768\n",
    "    * amm::Dog(s)                                   0.2572\n",
    "    * neighbourhood_group_cleansed::Central Area    0.1908\n",
    "    * amm::Hot Tub                                  0.1723\n",
    "* Dimention 15: coef 0.358\n",
    "    * amm::Shampoo                                         0.4384\n",
    "    * neighbourhood_group_cleansed::Capitol Hill           0.3428\n",
    "    * neighbourhood_cleansed::Broadway                     0.2723\n",
    "    * neighbourhood_group_cleansed::Other neighborhoods    0.2128\n",
    "* Dimention 4: coef = -0.339\n",
    "    * property_type::House            -0.2308\n",
    "    * amm::Free Parking on Premises   -0.2180\n",
    "    * room_type::Entire home/apt      -0.2042\n",
    "    * amm::Family/Kid Friendly        -0.1754"
   ]
  },
  {
   "cell_type": "markdown",
   "metadata": {},
   "source": [
    "* Repeated Concepts :\n",
    "    * Property type house and apt\n",
    "    * Family Friendly\n",
    "    * Some specific neighboorhoods"
   ]
  },
  {
   "cell_type": "markdown",
   "metadata": {},
   "source": [
    "#### Evaluate coorelations between components "
   ]
  },
  {
   "cell_type": "code",
   "execution_count": 32,
   "metadata": {},
   "outputs": [],
   "source": [
    "df_q2_coor = df_q2.drop(columns='price_log')"
   ]
  },
  {
   "cell_type": "code",
   "execution_count": 33,
   "metadata": {},
   "outputs": [
    {
     "data": {
      "text/html": [
       "<div>\n",
       "<style scoped>\n",
       "    .dataframe tbody tr th:only-of-type {\n",
       "        vertical-align: middle;\n",
       "    }\n",
       "\n",
       "    .dataframe tbody tr th {\n",
       "        vertical-align: top;\n",
       "    }\n",
       "\n",
       "    .dataframe thead th {\n",
       "        text-align: right;\n",
       "    }\n",
       "</style>\n",
       "<table border=\"1\" class=\"dataframe\">\n",
       "  <thead>\n",
       "    <tr style=\"text-align: right;\">\n",
       "      <th></th>\n",
       "      <th>price</th>\n",
       "    </tr>\n",
       "  </thead>\n",
       "  <tbody>\n",
       "    <tr>\n",
       "      <th>price</th>\n",
       "      <td>1.000000</td>\n",
       "    </tr>\n",
       "    <tr>\n",
       "      <th>room_type::Entire home/apt</th>\n",
       "      <td>0.451405</td>\n",
       "    </tr>\n",
       "    <tr>\n",
       "      <th>amm::Family/Kid Friendly</th>\n",
       "      <td>0.278299</td>\n",
       "    </tr>\n",
       "    <tr>\n",
       "      <th>amm::Cable TV</th>\n",
       "      <td>0.277180</td>\n",
       "    </tr>\n",
       "    <tr>\n",
       "      <th>accommodates</th>\n",
       "      <td>0.231935</td>\n",
       "    </tr>\n",
       "  </tbody>\n",
       "</table>\n",
       "</div>"
      ],
      "text/plain": [
       "                               price\n",
       "price                       1.000000\n",
       "room_type::Entire home/apt  0.451405\n",
       "amm::Family/Kid Friendly    0.278299\n",
       "amm::Cable TV               0.277180\n",
       "accommodates                0.231935"
      ]
     },
     "execution_count": 33,
     "metadata": {},
     "output_type": "execute_result"
    }
   ],
   "source": [
    "df_q2_corr = df_q2_coor.corr().sort_values(by='price',ascending=False)\n",
    "df_q2_corr = df_q2_corr[list(df_q2_corr.head(12).index)]\n",
    "\n",
    "df_q2_corr.insert(loc=0,column='type',value=df_q2_corr.index)\n",
    "\n",
    "df_q2_corr.loc[:,'type'] = df_q2_corr['type'].apply(lambda x: x.split(':')[0])\n",
    "\n",
    "df_q2_abrv = df_q2_corr.sort_values(by='price',ascending=False).head(5)\n",
    "df_q2_abrv.drop(columns='type')\n",
    "df_q2_abrv[['price']]"
   ]
  },
  {
   "cell_type": "markdown",
   "metadata": {},
   "source": [
    "Top attributes :Room Type, Family/Kid Friendly, Cable TV and accomodates"
   ]
  },
  {
   "cell_type": "markdown",
   "metadata": {},
   "source": [
    "#### Room type"
   ]
  },
  {
   "cell_type": "code",
   "execution_count": 34,
   "metadata": {},
   "outputs": [
    {
     "data": {
      "text/plain": [
       "<matplotlib.axes._subplots.AxesSubplot at 0x26383137278>"
      ]
     },
     "execution_count": 34,
     "metadata": {},
     "output_type": "execute_result"
    },
    {
     "data": {
      "image/png": "[encoded data removed]",
      "text/plain": [
       "<Figure size 432x288 with 1 Axes>"
      ]
     },
     "metadata": {},
     "output_type": "display_data"
    }
   ],
   "source": [
    "df_room_type= df_cal.merge(df_listing[['room_type']],left_index=True,right_index=True)\n",
    "\n",
    "sns.boxplot(x=df_room_type['room_type'],y=df_room_type['price'],showfliers=False)"
   ]
  },
  {
   "cell_type": "code",
   "execution_count": 35,
   "metadata": {},
   "outputs": [
    {
     "data": {
      "text/plain": [
       "room_type\n",
       "Entire home/apt    139.0\n",
       "Private room        70.0\n",
       "Shared room         40.0\n",
       "Name: price, dtype: float64"
      ]
     },
     "execution_count": 35,
     "metadata": {},
     "output_type": "execute_result"
    }
   ],
   "source": [
    "df_room_type.groupby(by='room_type')['price'].median()"
   ]
  },
  {
   "cell_type": "code",
   "execution_count": 36,
   "metadata": {},
   "outputs": [
    {
     "data": {
      "text/plain": [
       "[Text(0, 0.5, 'price ($/night)'), Text(0.5, 0, '')]"
      ]
     },
     "execution_count": 36,
     "metadata": {},
     "output_type": "execute_result"
    },
    {
     "data": {
      "image/png": "[encoded data removed]",
      "text/plain": [
       "<Figure size 432x288 with 1 Axes>"
      ]
     },
     "metadata": {},
     "output_type": "display_data"
    }
   ],
   "source": [
    "df_amm = df_cal.merge(df_listing.filter(like='amm'),left_index=True,right_index=True)\n",
    "\n",
    "fig_fam = sns.boxplot(x=df_amm['amm::Family/Kid Friendly'],y=df_room_type['price'],showfliers=False)\n",
    "fig_fam.set_xticklabels(labels = ['Not Fam. Friendly','Family Friendly'])\n",
    "fig_fam.set(xlabel = '',ylabel='price ($/night)')"
   ]
  },
  {
   "cell_type": "code",
   "execution_count": 37,
   "metadata": {},
   "outputs": [
    {
     "data": {
      "text/html": [
       "<div>\n",
       "<style scoped>\n",
       "    .dataframe tbody tr th:only-of-type {\n",
       "        vertical-align: middle;\n",
       "    }\n",
       "\n",
       "    .dataframe tbody tr th {\n",
       "        vertical-align: top;\n",
       "    }\n",
       "\n",
       "    .dataframe thead th {\n",
       "        text-align: right;\n",
       "    }\n",
       "</style>\n",
       "<table border=\"1\" class=\"dataframe\">\n",
       "  <thead>\n",
       "    <tr style=\"text-align: right;\">\n",
       "      <th></th>\n",
       "      <th>price</th>\n",
       "      <th>amm::Family/Kid Friendly</th>\n",
       "    </tr>\n",
       "    <tr>\n",
       "      <th>amm::Family/Kid Friendly</th>\n",
       "      <th></th>\n",
       "      <th></th>\n",
       "    </tr>\n",
       "  </thead>\n",
       "  <tbody>\n",
       "    <tr>\n",
       "      <th>0</th>\n",
       "      <td>90.0</td>\n",
       "      <td>0</td>\n",
       "    </tr>\n",
       "    <tr>\n",
       "      <th>1</th>\n",
       "      <td>130.0</td>\n",
       "      <td>1</td>\n",
       "    </tr>\n",
       "  </tbody>\n",
       "</table>\n",
       "</div>"
      ],
      "text/plain": [
       "                          price  amm::Family/Kid Friendly\n",
       "amm::Family/Kid Friendly                                 \n",
       "0                          90.0                         0\n",
       "1                         130.0                         1"
      ]
     },
     "execution_count": 37,
     "metadata": {},
     "output_type": "execute_result"
    }
   ],
   "source": [
    "df_amm.groupby('amm::Family/Kid Friendly')[['price','amm::Family/Kid Friendly']].median()"
   ]
  },
  {
   "cell_type": "code",
   "execution_count": 38,
   "metadata": {},
   "outputs": [
    {
     "data": {
      "text/plain": [
       "[Text(0, 0.5, 'price ($/night)'), Text(0.5, 0, '')]"
      ]
     },
     "execution_count": 38,
     "metadata": {},
     "output_type": "execute_result"
    },
    {
     "data": {
      "image/png": "[encoded data removed]",
      "text/plain": [
       "<Figure size 432x288 with 1 Axes>"
      ]
     },
     "metadata": {},
     "output_type": "display_data"
    }
   ],
   "source": [
    "fig_cable = sns.boxplot(x=df_amm['amm::Cable TV'],y=df_room_type['price'],showfliers=False)\n",
    "fig_cable.set_xticklabels(labels = ['No Cable TV','Cable TV'])\n",
    "fig_cable.set(xlabel = '',ylabel='price ($/night)')"
   ]
  },
  {
   "cell_type": "code",
   "execution_count": 39,
   "metadata": {},
   "outputs": [
    {
     "name": "stderr",
     "output_type": "stream",
     "text": [
      "C:\\Users\\tcanty\\AppData\\Local\\Continuum\\anaconda3\\lib\\site-packages\\matplotlib\\figure.py:448: UserWarning: Matplotlib is currently using module://ipykernel.pylab.backend_inline, which is a non-GUI backend, so cannot show the figure.\n",
      "  % get_backend())\n"
     ]
    },
    {
     "data": {
      "image/png": "[encoded data removed]",
      "text/plain": [
       "<Figure size 1080x288 with 3 Axes>"
      ]
     },
     "metadata": {},
     "output_type": "display_data"
    }
   ],
   "source": [
    "f,ax = plt.subplots(1,3,sharey=True)\n",
    "f.set_figwidth(15)\n",
    "\n",
    "sns.set_style('darkgrid')\n",
    "sns.boxplot(x=df_room_type['room_type'],y=df_room_type['price'],showfliers=False,ax=ax[0])\n",
    "sns.boxplot(x=df_amm['amm::Cable TV'],y=df_room_type['price'],showfliers=False,ax=ax[1])\n",
    "sns.boxplot(x=df_amm['amm::Family/Kid Friendly'],y=df_room_type['price'],showfliers=False,ax=ax[2])\n",
    "\n",
    "f.subplots_adjust(wspace=0.01, hspace=0)\n",
    "\n",
    "ax[1].set(ylim=(0, 400))\n",
    "ax[0].set(ylim=(0, 400))\n",
    "ax[2].set(ylim=(0, 400))\n",
    "\n",
    "ax[1].set_xticklabels(labels = ['No Cable TV','Cable TV'])\n",
    "ax[2].set_xticklabels(labels = ['Not Fam. Friendly','Family Friendly'])\n",
    "\n",
    "ax[0].set_ylabel('price ($/night)')\n",
    "ax[1].set_ylabel('')\n",
    "ax[0].set_xlabel('')\n",
    "ax[1].set_xlabel('')\n",
    "ax[2].set_xlabel('')\n",
    "ax[2].set_ylabel('')\n",
    "\n",
    "ax[0].set_title('Property Type')\n",
    "ax[1].set_title('Cable TV')\n",
    "ax[2].set_title('Family Friendliness')\n",
    "f.show()"
   ]
  },
  {
   "cell_type": "code",
   "execution_count": 40,
   "metadata": {},
   "outputs": [
    {
     "name": "stderr",
     "output_type": "stream",
     "text": [
      "C:\\Users\\tcanty\\AppData\\Local\\Continuum\\anaconda3\\lib\\site-packages\\scipy\\stats\\stats.py:1713: FutureWarning: Using a non-tuple sequence for multidimensional indexing is deprecated; use `arr[tuple(seq)]` instead of `arr[seq]`. In the future this will be interpreted as an array index, `arr[np.array(seq)]`, which will result either in an error or a different result.\n",
      "  return np.add.reduce(sorted[indexer] * weights, axis=axis) / sumval\n"
     ]
    },
    {
     "data": {
      "text/plain": [
       "Text(0, 0.5, 'price ($/night)')"
      ]
     },
     "execution_count": 40,
     "metadata": {},
     "output_type": "execute_result"
    },
    {
     "data": {
      "image/png": "[encoded data removed]",
      "text/plain": [
       "<Figure size 432x288 with 1 Axes>"
      ]
     },
     "metadata": {},
     "output_type": "display_data"
    }
   ],
   "source": [
    "df_acc = df_cal.merge(df_listing[['accommodates']],left_index=True,right_index=True)\n",
    "\n",
    "fig_acc = sns.lineplot(x=df_acc['accommodates'],y=df_acc['price'])\n",
    "fig_acc.set_ylabel('price ($/night)')"
   ]
  },
  {
   "cell_type": "code",
   "execution_count": 41,
   "metadata": {},
   "outputs": [
    {
     "data": {
      "text/html": [
       "<div>\n",
       "<style scoped>\n",
       "    .dataframe tbody tr th:only-of-type {\n",
       "        vertical-align: middle;\n",
       "    }\n",
       "\n",
       "    .dataframe tbody tr th {\n",
       "        vertical-align: top;\n",
       "    }\n",
       "\n",
       "    .dataframe thead th {\n",
       "        text-align: right;\n",
       "    }\n",
       "</style>\n",
       "<table border=\"1\" class=\"dataframe\">\n",
       "  <thead>\n",
       "    <tr style=\"text-align: right;\">\n",
       "      <th></th>\n",
       "      <th>available</th>\n",
       "      <th>price</th>\n",
       "      <th>week_num</th>\n",
       "      <th>year</th>\n",
       "    </tr>\n",
       "    <tr>\n",
       "      <th>accommodates</th>\n",
       "      <th></th>\n",
       "      <th></th>\n",
       "      <th></th>\n",
       "      <th></th>\n",
       "    </tr>\n",
       "  </thead>\n",
       "  <tbody>\n",
       "    <tr>\n",
       "      <th>1</th>\n",
       "      <td>True</td>\n",
       "      <td>50.0</td>\n",
       "      <td>26</td>\n",
       "      <td>2016</td>\n",
       "    </tr>\n",
       "    <tr>\n",
       "      <th>2</th>\n",
       "      <td>True</td>\n",
       "      <td>85.0</td>\n",
       "      <td>26</td>\n",
       "      <td>2016</td>\n",
       "    </tr>\n",
       "    <tr>\n",
       "      <th>3</th>\n",
       "      <td>True</td>\n",
       "      <td>105.0</td>\n",
       "      <td>26</td>\n",
       "      <td>2016</td>\n",
       "    </tr>\n",
       "    <tr>\n",
       "      <th>4</th>\n",
       "      <td>True</td>\n",
       "      <td>135.0</td>\n",
       "      <td>26</td>\n",
       "      <td>2016</td>\n",
       "    </tr>\n",
       "    <tr>\n",
       "      <th>5</th>\n",
       "      <td>True</td>\n",
       "      <td>175.0</td>\n",
       "      <td>26</td>\n",
       "      <td>2016</td>\n",
       "    </tr>\n",
       "    <tr>\n",
       "      <th>6</th>\n",
       "      <td>True</td>\n",
       "      <td>200.0</td>\n",
       "      <td>26</td>\n",
       "      <td>2016</td>\n",
       "    </tr>\n",
       "    <tr>\n",
       "      <th>7</th>\n",
       "      <td>True</td>\n",
       "      <td>240.0</td>\n",
       "      <td>26</td>\n",
       "      <td>2016</td>\n",
       "    </tr>\n",
       "    <tr>\n",
       "      <th>8</th>\n",
       "      <td>True</td>\n",
       "      <td>295.0</td>\n",
       "      <td>26</td>\n",
       "      <td>2016</td>\n",
       "    </tr>\n",
       "    <tr>\n",
       "      <th>9</th>\n",
       "      <td>True</td>\n",
       "      <td>400.0</td>\n",
       "      <td>26</td>\n",
       "      <td>2016</td>\n",
       "    </tr>\n",
       "    <tr>\n",
       "      <th>10</th>\n",
       "      <td>True</td>\n",
       "      <td>350.0</td>\n",
       "      <td>26</td>\n",
       "      <td>2016</td>\n",
       "    </tr>\n",
       "    <tr>\n",
       "      <th>11</th>\n",
       "      <td>True</td>\n",
       "      <td>400.0</td>\n",
       "      <td>26</td>\n",
       "      <td>2016</td>\n",
       "    </tr>\n",
       "    <tr>\n",
       "      <th>12</th>\n",
       "      <td>True</td>\n",
       "      <td>550.0</td>\n",
       "      <td>26</td>\n",
       "      <td>2016</td>\n",
       "    </tr>\n",
       "    <tr>\n",
       "      <th>14</th>\n",
       "      <td>True</td>\n",
       "      <td>399.0</td>\n",
       "      <td>26</td>\n",
       "      <td>2016</td>\n",
       "    </tr>\n",
       "    <tr>\n",
       "      <th>15</th>\n",
       "      <td>True</td>\n",
       "      <td>400.0</td>\n",
       "      <td>26</td>\n",
       "      <td>2016</td>\n",
       "    </tr>\n",
       "    <tr>\n",
       "      <th>16</th>\n",
       "      <td>True</td>\n",
       "      <td>600.0</td>\n",
       "      <td>26</td>\n",
       "      <td>2016</td>\n",
       "    </tr>\n",
       "  </tbody>\n",
       "</table>\n",
       "</div>"
      ],
      "text/plain": [
       "              available  price  week_num  year\n",
       "accommodates                                  \n",
       "1                  True   50.0        26  2016\n",
       "2                  True   85.0        26  2016\n",
       "3                  True  105.0        26  2016\n",
       "4                  True  135.0        26  2016\n",
       "5                  True  175.0        26  2016\n",
       "6                  True  200.0        26  2016\n",
       "7                  True  240.0        26  2016\n",
       "8                  True  295.0        26  2016\n",
       "9                  True  400.0        26  2016\n",
       "10                 True  350.0        26  2016\n",
       "11                 True  400.0        26  2016\n",
       "12                 True  550.0        26  2016\n",
       "14                 True  399.0        26  2016\n",
       "15                 True  400.0        26  2016\n",
       "16                 True  600.0        26  2016"
      ]
     },
     "execution_count": 41,
     "metadata": {},
     "output_type": "execute_result"
    }
   ],
   "source": [
    "df_acc.groupby(by='accommodates').median()"
   ]
  },
  {
   "cell_type": "code",
   "execution_count": 42,
   "metadata": {},
   "outputs": [],
   "source": [
    "df_acc_sqft = df_acc.merge(df_listing[['square_feet']],right_index=True,left_index=True)"
   ]
  },
  {
   "cell_type": "code",
   "execution_count": 43,
   "metadata": {},
   "outputs": [
    {
     "name": "stderr",
     "output_type": "stream",
     "text": [
      "C:\\Users\\tcanty\\AppData\\Local\\Continuum\\anaconda3\\lib\\site-packages\\scipy\\stats\\stats.py:1713: FutureWarning: Using a non-tuple sequence for multidimensional indexing is deprecated; use `arr[tuple(seq)]` instead of `arr[seq]`. In the future this will be interpreted as an array index, `arr[np.array(seq)]`, which will result either in an error or a different result.\n",
      "  return np.add.reduce(sorted[indexer] * weights, axis=axis) / sumval\n"
     ]
    },
    {
     "data": {
      "image/png": "[encoded data removed]",
      "text/plain": [
       "<Figure size 432x288 with 1 Axes>"
      ]
     },
     "metadata": {},
     "output_type": "display_data"
    }
   ],
   "source": [
    "fig_acc.set_ylabel('price ($/night)')\n",
    "fig_acc_sc = sns.regplot(x=df_acc_sqft['square_feet'],y=df_acc_sqft['accommodates'])"
   ]
  },
  {
   "cell_type": "markdown",
   "metadata": {},
   "source": [
    "#### COMPARE NEIGHBOORHOODS"
   ]
  },
  {
   "cell_type": "code",
   "execution_count": 44,
   "metadata": {},
   "outputs": [],
   "source": [
    "df_neigh = df_cal.merge(df_listing[['neighbourhood_group_cleansed']],left_index=True,right_index=True)"
   ]
  },
  {
   "cell_type": "code",
   "execution_count": 45,
   "metadata": {},
   "outputs": [],
   "source": [
    "neighList = list(df_neigh.groupby(by='neighbourhood_group_cleansed')['price'].median().sort_values(ascending=False).index)"
   ]
  },
  {
   "cell_type": "code",
   "execution_count": 46,
   "metadata": {},
   "outputs": [
    {
     "data": {
      "text/plain": [
       "[Text(0, 0.5, 'price ($/night)'), Text(0.5, 0, '')]"
      ]
     },
     "execution_count": 46,
     "metadata": {},
     "output_type": "execute_result"
    },
    {
     "data": {
      "image/png": "[encoded data removed]",
      "text/plain": [
       "<Figure size 432x288 with 1 Axes>"
      ]
     },
     "metadata": {},
     "output_type": "display_data"
    }
   ],
   "source": [
    "ax_neigh = sns.boxplot(x=df_neigh.neighbourhood_group_cleansed,y=df_neigh.price,showfliers=False,\n",
    "            order=neighList)\n",
    "ax_neigh.set_xticklabels(labels = neighList,rotation=90)\n",
    "ax_neigh.set(xlabel = '',ylabel = 'price ($/night)')"
   ]
  },
  {
   "cell_type": "code",
   "execution_count": 47,
   "metadata": {},
   "outputs": [],
   "source": [
    "hot_neighboorhoods=['Magnolia','Downtown','Queen Anne','West Seattle']"
   ]
  },
  {
   "cell_type": "code",
   "execution_count": null,
   "metadata": {},
   "outputs": [],
   "source": []
  },
  {
   "cell_type": "code",
   "execution_count": null,
   "metadata": {},
   "outputs": [],
   "source": []
  },
  {
   "cell_type": "code",
   "execution_count": null,
   "metadata": {},
   "outputs": [],
   "source": []
  },
  {
   "cell_type": "markdown",
   "metadata": {},
   "source": [
    "### Q3.What time of year is best to make your property availible to get the most money?"
   ]
  },
  {
   "cell_type": "code",
   "execution_count": null,
   "metadata": {},
   "outputs": [],
   "source": []
  },
  {
   "cell_type": "code",
   "execution_count": 48,
   "metadata": {},
   "outputs": [
    {
     "data": {
      "text/plain": [
       "Text(0.5, 0, '')"
      ]
     },
     "execution_count": 48,
     "metadata": {},
     "output_type": "execute_result"
    },
    {
     "data": {
      "image/png": "[encoded data removed]",
      "text/plain": [
       "<Figure size 432x288 with 1 Axes>"
      ]
     },
     "metadata": {},
     "output_type": "display_data"
    }
   ],
   "source": [
    "ax_m = sns.boxplot(x=df_cal['month'],y=df_cal['price'],showfliers=False)\n",
    "ax_m.set_ylabel('Price ($)')\n",
    "ax_m.set_xlabel('')"
   ]
  },
  {
   "cell_type": "code",
   "execution_count": 49,
   "metadata": {},
   "outputs": [
    {
     "data": {
      "text/plain": [
       "neighbourhood_group_cleansed\n",
       "Downtown               164.0\n",
       "Magnolia               147.0\n",
       "Queen Anne             130.0\n",
       "Cascade                120.0\n",
       "West Seattle           119.0\n",
       "Capitol Hill           110.0\n",
       "Central Area           109.0\n",
       "Other neighborhoods    100.0\n",
       "Interbay                95.0\n",
       "Ballard                 95.0\n",
       "Seward Park             90.0\n",
       "University District     85.0\n",
       "Rainier Valley          80.0\n",
       "Northgate               79.0\n",
       "Beacon Hill             79.0\n",
       "Delridge                78.0\n",
       "Lake City               72.0\n",
       "Name: price, dtype: float64"
      ]
     },
     "execution_count": 49,
     "metadata": {},
     "output_type": "execute_result"
    }
   ],
   "source": [
    "df_neigh.groupby(by='neighbourhood_group_cleansed')['price'].median().sort_values(ascending=False)"
   ]
  },
  {
   "cell_type": "code",
   "execution_count": 50,
   "metadata": {},
   "outputs": [],
   "source": [
    "df_room_type.insert(loc=7,column='home/apt',value=False)\n",
    "\n",
    "df_room_type.loc[:,'home/apt'] = df_room_type['room_type'].apply(lambda x: True if x == 'Entire home/apt' else False)"
   ]
  },
  {
   "cell_type": "code",
   "execution_count": 51,
   "metadata": {},
   "outputs": [],
   "source": [
    "df_amm_kid = df_cal.merge(df_listing[['amm::Family/Kid Friendly']],left_index=True,right_index=True)"
   ]
  },
  {
   "cell_type": "code",
   "execution_count": 52,
   "metadata": {},
   "outputs": [],
   "source": [
    "def hotchecks(x,list):\n",
    "    if x in hot_neighboorhoods:\n",
    "        return True\n",
    "    else:\n",
    "        return False\n",
    "\n",
    "df_neigh.insert(loc = df_neigh.shape[1],column='hot_neigh',value=False,)\n",
    "df_neigh['hot_neigh'] = df_neigh['neighbourhood_group_cleansed'].apply(lambda x: hotchecks(x,hot_neighboorhoods))\n"
   ]
  },
  {
   "cell_type": "code",
   "execution_count": null,
   "metadata": {},
   "outputs": [],
   "source": []
  },
  {
   "cell_type": "code",
   "execution_count": 53,
   "metadata": {
    "slideshow": {
     "slide_type": "slide"
    }
   },
   "outputs": [
    {
     "name": "stderr",
     "output_type": "stream",
     "text": [
      "C:\\Users\\tcanty\\AppData\\Local\\Continuum\\anaconda3\\lib\\site-packages\\scipy\\stats\\stats.py:1713: FutureWarning: Using a non-tuple sequence for multidimensional indexing is deprecated; use `arr[tuple(seq)]` instead of `arr[seq]`. In the future this will be interpreted as an array index, `arr[np.array(seq)]`, which will result either in an error or a different result.\n",
      "  return np.add.reduce(sorted[indexer] * weights, axis=axis) / sumval\n",
      "C:\\Users\\tcanty\\AppData\\Local\\Continuum\\anaconda3\\lib\\site-packages\\matplotlib\\figure.py:448: UserWarning: Matplotlib is currently using module://ipykernel.pylab.backend_inline, which is a non-GUI backend, so cannot show the figure.\n",
      "  % get_backend())\n"
     ]
    },
    {
     "data": {
      "image/png": "[encoded data removed]",
      "text/plain": [
       "<Figure size 1008x864 with 8 Axes>"
      ]
     },
     "metadata": {},
     "output_type": "display_data"
    }
   ],
   "source": [
    "f,ax = plt.subplots(4,2)\n",
    "f.set_figwidth(14)\n",
    "f.set_figheight(12)\n",
    "\n",
    "sns.set_style('darkgrid')\n",
    "sns.barplot(x=df_neigh['month'],y=df_neigh['price'],color='cyan',ax=ax[0,0])\n",
    "sns.barplot(x=df_neigh['month'],y=df_neigh['price'],color='cyan',ax=ax[1,0])\n",
    "sns.barplot(x=df_neigh['month'],y=df_neigh['price'],color='cyan',ax=ax[2,0])\n",
    "sns.barplot(x=df_neigh['month'],y=df_neigh['price'],color='cyan',ax=ax[3,0])\n",
    "\n",
    "sns.barplot(x=df_room_type['month'],y=df_room_type['price'],hue=df_room_type['home/apt'],ax=ax[0,1],)\n",
    "sns.barplot(x=df_amm_kid['month'],y=df_amm_kid['price'],hue=df_amm_kid['amm::Family/Kid Friendly'],ax=ax[1,1])\n",
    "sns.barplot(x=df_amm['month'],y=df_amm['price'],hue=df_amm['amm::Cable TV'],ax=ax[2,1])\n",
    "sns.barplot(x=df_neigh['month'],y=df_neigh['price'],hue=df_neigh['hot_neigh'],ax=ax[3,1])\n",
    "\n",
    "f.subplots_adjust(wspace=0.1, hspace=0.3)\n",
    "\n",
    "\n",
    "for xx in range(ax.shape[0]):\n",
    "    for yy in range(ax.shape[1]):\n",
    "        if yy == 2:\n",
    "            ax[xx,yy].set_xlabel('Month')\n",
    "        else:\n",
    "            ax[xx,yy].set_xlabel('')\n",
    "        ax[xx,1].set_ylabel('')\n",
    "        ax[yy,0].set_ylabel('Price ($)')\n",
    "        ax[xx,yy].set(ylim=(0, 220))\n",
    "        \n",
    "ax[2,0].set_ylabel('Price ($)')\n",
    "ax[3,0].set_ylabel('Price ($)')\n",
    "\n",
    "ax[0,1].set_title('Price by Month across home/apt vs other properties')\n",
    "ax[1,1].set_title('Price by Month across Family/Kid friendly vs other properties')\n",
    "ax[2,1].set_title('Price by Month across Has Cable TV vs other properties')\n",
    "ax[3,1].set_title('Price by Month across Hot Neigh vs other properties')\n",
    "ax[0,0].set_title('Average Price by Month (All)')\n",
    "\n",
    "ax[0,1].legend()\n",
    "ax[1,1].legend()\n",
    "ax[2,1].legend()\n",
    "ax[3,1].legend()\n",
    "\n",
    "f.show()"
   ]
  },
  {
   "cell_type": "code",
   "execution_count": null,
   "metadata": {},
   "outputs": [],
   "source": []
  }
 ],
 "metadata": {
  "kernelspec": {
   "display_name": "Python 3",
   "language": "python",
   "name": "python3"
  },
  "language_info": {
   "codemirror_mode": {
    "name": "ipython",
    "version": 3
   },
   "file_extension": ".py",
   "mimetype": "text/x-python",
   "name": "python",
   "nbconvert_exporter": "python",
   "pygments_lexer": "ipython3",
   "version": "3.7.0"
  }
 },
 "nbformat": 4,
 "nbformat_minor": 2
}
