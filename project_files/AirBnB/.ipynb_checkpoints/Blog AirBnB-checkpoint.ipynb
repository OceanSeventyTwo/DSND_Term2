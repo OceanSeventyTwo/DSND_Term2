{
 "cells": [
  {
   "cell_type": "markdown",
   "metadata": {},
   "source": [
    "# AirBnB Project for  **Project: Write A Data Science Blog Post**"
   ]
  },
  {
   "cell_type": "markdown",
   "metadata": {},
   "source": [
    "### 0.1  Key Steps for Project"
   ]
  },
  {
   "cell_type": "markdown",
   "metadata": {},
   "source": [
    "Feel free to be creative with your solutions, but do follow the CRISP-DM process in finding your solutions.\n",
    "\n",
    "1) Pick a dataset.\n",
    "   I chose the AirBnnB dataset.  Because why not..\n",
    "\n",
    "2) Pose at least three questions related to business or real-world applications of how the data could be used.\n",
    "\n",
    "3) Create a Jupyter Notebook, using any associated packages you'd like, to:\n",
    "\n",
    "    Prepare data:\n",
    "        Gather necessary data to answer your questions\n",
    "        Handle categorical and missing data\n",
    "        Provide insight into the methods you chose and why you chose them\n",
    "\n",
    "    Analyze, Model, and Visualize\n",
    "        Provide a clear connection between your business questions and how the data answers them.\n",
    "\n",
    "4) Communicate your business insights:\n",
    "\n",
    "    Create a Github repository to share your code and data wrangling/modeling techniques, with a technical audience in mind\n",
    "    Create a blog post to share your questions and insights with a non-technical audience\n",
    "\n",
    "Your deliverables will be a Github repo and a blog post. Use the rubric here to assist in successfully completing this project!"
   ]
  },
  {
   "cell_type": "markdown",
   "metadata": {},
   "source": [
    "## 0.2 [Rubric](https://review.udacity.com/#!/rubrics/1507/view)"
   ]
  },
  {
   "cell_type": "markdown",
   "metadata": {},
   "source": [
    "#### Code Functionality and Readability\n",
    "* Code is readable (uses good coding practices - PEP8) \n",
    "* Code is functional.\n",
    "* Write code that is well documented and uses functions and classes as necessary.\n",
    "\n",
    "#### Data\n",
    "* Project follows the CRISP-DM Process while analyzing their data.\n",
    "* Proper handling of categorical and missing values in the dataset.\n",
    "* Categorical variables are handled appropriately for machine learning models (if models are created). \n",
    "\n",
    "#### Analysis, Modeling, Visualization\n",
    "* There are 3-5 business questions answered.\n",
    "\t\n",
    "#### Github Repository\n",
    "* Student must publish their code in a public Github repository.\n",
    "\t\n",
    "#### Blog Post\n",
    "* Communicate their findings with stakeholders.\n",
    "* There should be an intriguing title and image related to the project.\n",
    "* The body of the post has paragraphs that are broken up by appropriate white space and images.\n",
    "* Each question has a clearly communicated solution."
   ]
  },
  {
   "cell_type": "markdown",
   "metadata": {},
   "source": [
    "##  0.3  CRISP-DM\n",
    "### 0.3.1 Business Understanding/Data Understanding\n",
    "          AirBnB is an online marketplace for vacation/temporary houseing rentals.  Thier members/hosts own the property and rent via the  AirBnB marketplace.\n",
    "          \n",
    "          The data provides was provided each from Seattle and Bostom\n",
    "          * listing.csv\n",
    "          * calendar.csv\n",
    "          * reviews.csv\n",
    "          \n",
    "          How to best position your property to make the most revenue?\n",
    "          1) What time of year is best to make your property availible to get the most money?\n",
    "              Summer months for most properties, but there seem to bes some very high outliers around the holidays...\n",
    "          2) Know your capacity?   What neighborhoods/property type/property attributes sell better?\n",
    "               \n",
    "          3) What do you need in your profile to garuntee your property is reviewed and reviewed high\n",
    "          \n",
    "          \n",
    "### 0.3.2 Data Preparation\n",
    "        1) Imported listing and calendar\n",
    "        2) \n",
    "        \n",
    "        \n",
    "     \n",
    "#### 0.3.2.1 Cleaning Data\n",
    "        * \n",
    "### 0.3.3 Modeling\n",
    "### 0.3.4 Evaluation\n",
    "### 0.3.5 Deployment"
   ]
  },
  {
   "cell_type": "markdown",
   "metadata": {},
   "source": [
    "## 1.1 Header"
   ]
  },
  {
   "cell_type": "code",
   "execution_count": 65,
   "metadata": {},
   "outputs": [],
   "source": [
    "%matplotlib inline\n",
    "import pandas as pd\n",
    "import numpy as np\n",
    "import os.path as op\n",
    "\n",
    "#stats\n",
    "import scipy.stats as stats\n",
    "import statsmodels.api as sm\n",
    "import statsmodels.formula.api as smf\n",
    "from statsmodels.formula.api import ols\n",
    "\n",
    "import ast\n",
    "import math\n",
    "import os\n",
    "from datetime import date\n",
    "\n",
    "#Graphing\n",
    "import seaborn as sns\n",
    "import matplotlib.pyplot as plt\n",
    "import helper as h\n",
    "\n",
    "#Data modeling\n",
    "from sklearn.linear_model import LinearRegression\n",
    "from sklearn.preprocessing import StandardScaler,normalize\n",
    "from sklearn.model_selection import train_test_split\n",
    "from sklearn.metrics import r2_score, mean_squared_error\n",
    "from sklearn.decomposition import pca"
   ]
  },
  {
   "cell_type": "code",
   "execution_count": 5,
   "metadata": {},
   "outputs": [
    {
     "data": {
      "text/plain": [
       "'C:\\\\Users\\\\thoma\\\\Documents\\\\Udacity\\\\DSND_Term2\\\\project_files\\\\AirBnB\\\\All Data'"
      ]
     },
     "execution_count": 5,
     "metadata": {},
     "output_type": "execute_result"
    }
   ],
   "source": [
    "PATH = os.getcwd()+\"\\All Data\"\n",
    "PATH"
   ]
  },
  {
   "cell_type": "code",
   "execution_count": 6,
   "metadata": {},
   "outputs": [
    {
     "data": {
      "text/plain": [
       "['.ipynb_checkpoints',\n",
       " 'b_calendar.csv',\n",
       " 'b_listings.csv',\n",
       " 'b_reviews.csv',\n",
       " 's_calendar.csv',\n",
       " 's_listings.csv',\n",
       " 's_reviews.csv']"
      ]
     },
     "execution_count": 6,
     "metadata": {},
     "output_type": "execute_result"
    }
   ],
   "source": [
    "os.listdir(PATH)"
   ]
  },
  {
   "cell_type": "code",
   "execution_count": null,
   "metadata": {},
   "outputs": [],
   "source": []
  },
  {
   "cell_type": "code",
   "execution_count": null,
   "metadata": {},
   "outputs": [],
   "source": []
  },
  {
   "cell_type": "code",
   "execution_count": 7,
   "metadata": {},
   "outputs": [],
   "source": [
    "def clean_listings(df):\n",
    "    ''' Return a cleaned dataframe derived from listing.csv file\n",
    "\n",
    "    1) Fixes percentage & currency strings to float\n",
    "    2) Fixes datatype of oject to categories were appropraite\n",
    "    3) Fixes bool strings to bool cols\n",
    "    2) Fixes Datetime cols -> datetime format\n",
    "    3) There are two columns that have list containing strings, convert to one hot encoded columns \n",
    "    4) \n",
    "    5) \n",
    "\n",
    "    Parameters\n",
    "    -------\n",
    "    df:  Pandas DataFrame with an already imported lsiting.csv\n",
    "\n",
    "    '''\n",
    "\n",
    "    ## Clean percentage strings to float values\n",
    "    pct_col = ['host_acceptance_rate','host_response_rate']\n",
    "    for pc in pct_col:\n",
    "        df[pc] = df[pc].str.strip(\"%\")\n",
    "        df[pc] = df[pc].astype('float')\n",
    "        df[pc] = df[pc].apply(lambda x: x/100)\n",
    "        #df[pc] = df[pc].map('{:,.2%}'.format)\n",
    "        \n",
    "    ## Clean dollar strings to value\n",
    "\n",
    "    dol_col = ['price','weekly_price','monthly_price','security_deposit','cleaning_fee','extra_people']\n",
    "    for dol in dol_col:\n",
    "        df[dol] = df[dol].str.replace('$','')\n",
    "        df[dol] = df[dol].str.replace(',','')\n",
    "        df[dol] = df[dol].astype('float')\n",
    "        #df[dol] = df[dol].map('${:,.2f}'.format)\n",
    "        \n",
    "    ## Change type to category\n",
    "    cat_col = ['host_response_time','host_location','host_neighbourhood','neighbourhood',\n",
    "               'neighbourhood_cleansed','neighbourhood_group_cleansed','city','state','zipcode',\n",
    "              'market','smart_location','country_code','country','property_type','room_type',\n",
    "              'calendar_updated','jurisdiction_names','cancellation_policy','bed_type']\n",
    "    \n",
    "    for cc in cat_col:\n",
    "        df[cc] = df[cc].astype('category')\n",
    "  \n",
    "\n",
    "    ## Fix Boolean Columns\n",
    "    bool_col = ['host_is_superhost','host_has_profile_pic','host_identity_verified',\n",
    "                'is_location_exact','has_availability','requires_license','instant_bookable',\n",
    "               'require_guest_profile_picture','require_guest_phone_verification']\n",
    "    for bc in bool_col:\n",
    "        df[bc] = df[bc].replace({'t': True,'f':False})\n",
    "        df[bc] = df[bc].astype(bool)\n",
    "\n",
    "    ## Fix Datetime columns\n",
    "    dt_col = ['last_scraped','host_since','calendar_last_scraped','first_review','last_review']\n",
    "    for dt in dt_col:\n",
    "        df[dt] = pd.to_datetime(df[dt])\n",
    "\n",
    "    ## Fix list column\n",
    "    ## The following code transforms column 'host_verification' to a usable matrix of \n",
    "    ##     one hot encoding the contained communicaiton methods      \n",
    "    \n",
    "    df2 = pd.DataFrame(df['host_verifications'].apply(lambda x:ast.literal_eval(x)))  # string to list #\n",
    "    df3 = df2.host_verifications.apply(pd.Series)                                   # list -> series across columns #\n",
    "    df2 = df2.merge(df3, right_index=True, left_index=True)\n",
    "    df2 = df2.reset_index().melt(id_vars=['id','host_verifications'],value_name = 'host_sm_ver')\n",
    "    df2 = df2.pivot_table(values='variable',columns='host_sm_ver',index='id',aggfunc='count',fill_value=0)\n",
    "    df2 = df2.add_prefix('hv_')\n",
    "    df = df.merge(df2,left_index=True, right_index=True)\n",
    "\n",
    "    \n",
    "    \n",
    "    df4 = pd.DataFrame(df_listing['amenities'].apply(lambda x:\n",
    "                           x.replace('\\\"','').replace('{','').replace('}','').split(',')))\n",
    "    df5 = df4.iloc[:,0].apply(pd.Series)\n",
    "    df4 = df4.merge(df5,left_index=True,right_index=True)\n",
    "    df4 = df4.reset_index().melt(id_vars=['id','amenities'],value_name = 'amms')\n",
    "    df4 = df4.pivot_table(values='variable',columns='amms',index='id',aggfunc='count',fill_value=0)\n",
    "    df4 = df4.add_prefix('amm_')\n",
    "    df = df.merge(df4,left_index=True, right_index=True)\n",
    "    \n",
    "    ## Remaining string columns, only interested in the presence or absence.   Replace with boolean. \n",
    "    \n",
    "    \n",
    "    str_cols = ['summary', 'space', 'neighborhood_overview', 'notes', 'transit',\n",
    "   'thumbnail_url', 'medium_url', 'xl_picture_url', 'host_about']\n",
    "    \n",
    "    def replace_str(x):\n",
    "        if type(x) == float:\n",
    "            if  math.isnan(x):\n",
    "                return False\n",
    "        else: return True\n",
    "    \n",
    "    df_listed_attributes = pd.DataFrame()\n",
    "    for col in str_cols:\n",
    "        df_listed_attributes[col] = df[col].apply(lambda x: replace_str(x))\n",
    "        df_listed_attributes[col] = df_listed_attributes[col].astype('bool')\n",
    "    \n",
    "    df_listed_attributes = df_listed_attributes.add_prefix('attr_')\n",
    "    df = df.merge(df_listed_attributes,left_index=True,right_index=True)\n",
    "    df = df.drop(columns=str_cols)\n",
    "    \n",
    "    \n",
    "    ## Drop Columns\n",
    "    '''Reasons\n",
    "    All N/A: licence\n",
    "    No N/A: listing_url\n",
    "    onehot: host_verifications\n",
    "    am\n",
    "       \n",
    "    '''\n",
    "    drop_cols = ['license','host_verifications','amenities']  \n",
    "    df = df.drop(columns=drop_cols)\n",
    "    return df\n"
   ]
  },
  {
   "cell_type": "code",
   "execution_count": 8,
   "metadata": {},
   "outputs": [],
   "source": [
    "def clean_cal(df):\n",
    "    ''' Return a cleaned dataframe derived from listing.csv file\n",
    "\n",
    "    1) Fixes Datetime cols -> datetime format\n",
    "    2) Fixes percentage strings to float\n",
    "    3) Fixes bool strings to bool cols\n",
    "    4) Fixes datatype of oject to categories were appropraite\n",
    "    5) \n",
    "\n",
    "    Parameters\n",
    "    -------\n",
    "    df:  Pandas DataFrame with an already imported lsiting.csv\n",
    "\n",
    "    '''\n",
    "    dol_col= ['price']\n",
    "    for dol in dol_col:\n",
    "        df[dol] = df[dol].str.replace('$','')\n",
    "        df[dol] = df[dol].str.replace(',','')\n",
    "        df[dol] = df[dol].astype('float')\n",
    "        \n",
    "    ## Fix Datetime columns\n",
    "    dt_col = ['date']\n",
    "    for dt in dt_col:\n",
    "        df[dt] = pd.to_datetime(df[dt])\n",
    "\n",
    "        \n",
    "    ## Expand Datetime\n",
    "    df['week_num'] = df['date'].apply(lambda x: date.isocalendar(x)[1])\n",
    "    df['month'] = df['date'].apply(lambda x: x.month)\n",
    "    df['year'] = df['date'].apply(lambda x: x.year)\n",
    "    \n",
    "    ## Fix Bool Columns\n",
    "\n",
    "    bool_col = ['available']\n",
    "    for bc in bool_col:\n",
    "        df[bc] = df[bc].replace({'t': True,'f':False})\n",
    "        df[bc] = df[bc].astype(bool)\n",
    "\n",
    "    \n",
    "    \n",
    "    \n",
    "    return df"
   ]
  },
  {
   "cell_type": "code",
   "execution_count": 9,
   "metadata": {},
   "outputs": [],
   "source": [
    "df_listing = pd.read_csv(PATH+'\\s_listings.csv',index_col=0)"
   ]
  },
  {
   "cell_type": "code",
   "execution_count": 10,
   "metadata": {},
   "outputs": [
    {
     "name": "stderr",
     "output_type": "stream",
     "text": [
      "C:\\Users\\thoma\\Anaconda3\\lib\\site-packages\\numpy\\lib\\arraysetops.py:472: FutureWarning: elementwise comparison failed; returning scalar instead, but in the future will perform elementwise comparison\n",
      "  mask |= (ar1 == a)\n"
     ]
    }
   ],
   "source": [
    "df_cal = pd.read_csv(PATH+'\\s_calendar.csv',index_col=0)"
   ]
  },
  {
   "cell_type": "code",
   "execution_count": 11,
   "metadata": {},
   "outputs": [],
   "source": [
    "df_listing = clean_listings(df_listing)"
   ]
  },
  {
   "cell_type": "code",
   "execution_count": 12,
   "metadata": {},
   "outputs": [],
   "source": [
    "df_cal = clean_cal(df_cal)"
   ]
  },
  {
   "cell_type": "markdown",
   "metadata": {},
   "source": [
    "### Q1.What time of year is best to make your property availible to get the most money?"
   ]
  },
  {
   "cell_type": "code",
   "execution_count": null,
   "metadata": {},
   "outputs": [],
   "source": []
  },
  {
   "cell_type": "code",
   "execution_count": null,
   "metadata": {},
   "outputs": [],
   "source": []
  },
  {
   "cell_type": "code",
   "execution_count": 13,
   "metadata": {},
   "outputs": [
    {
     "data": {
      "text/plain": [
       "<matplotlib.axes._subplots.AxesSubplot at 0x1af32c8b048>"
      ]
     },
     "execution_count": 13,
     "metadata": {},
     "output_type": "execute_result"
    },
    {
     "data": {
      "image/png": "[encoded data removed]",
      "text/plain": [
       "<Figure size 432x288 with 1 Axes>"
      ]
     },
     "metadata": {
      "needs_background": "light"
     },
     "output_type": "display_data"
    }
   ],
   "source": [
    "pd.DataFrame(df_cal.groupby(['month'])['price'].mean()).plot()"
   ]
  },
  {
   "cell_type": "markdown",
   "metadata": {},
   "source": [
    "import matplotlib.pyplot as plt"
   ]
  },
  {
   "cell_type": "code",
   "execution_count": 14,
   "metadata": {},
   "outputs": [
    {
     "data": {
      "image/png": "[encoded data removed]",
      "text/plain": [
       "<Figure size 432x288 with 1 Axes>"
      ]
     },
     "metadata": {
      "needs_background": "light"
     },
     "output_type": "display_data"
    }
   ],
   "source": [
    "ax1 = sns.lineplot(x=df_cal['week_num'],y=df_cal['price'])"
   ]
  },
  {
   "cell_type": "code",
   "execution_count": 15,
   "metadata": {},
   "outputs": [
    {
     "data": {
      "image/png": "[encoded data removed]",
      "text/plain": [
       "<Figure size 432x288 with 1 Axes>"
      ]
     },
     "metadata": {
      "needs_background": "light"
     },
     "output_type": "display_data"
    }
   ],
   "source": [
    "ax1 = sns.boxplot(y=df_cal['price'],x=df_cal['month'],)"
   ]
  },
  {
   "cell_type": "code",
   "execution_count": 16,
   "metadata": {},
   "outputs": [
    {
     "data": {
      "image/png": "[encoded data removed]",
      "text/plain": [
       "<Figure size 432x288 with 1 Axes>"
      ]
     },
     "metadata": {
      "needs_background": "light"
     },
     "output_type": "display_data"
    }
   ],
   "source": [
    "ax1 = sns.boxplot(y=df_cal['price'],x=df_cal['month'],showfliers=False)"
   ]
  },
  {
   "cell_type": "code",
   "execution_count": 17,
   "metadata": {},
   "outputs": [
    {
     "name": "stdout",
     "output_type": "stream",
     "text": [
      "                sum_sq        df            F  PR(>F)\n",
      "month     1.808500e+07       1.0  1641.275915     0.0\n",
      "Residual  1.029757e+10  934540.0          NaN     NaN\n"
     ]
    }
   ],
   "source": [
    "mod = ols('price ~ month',data=df_cal).fit()\n",
    "aov_table = sm.stats.anova_lm(mod, typ=2)\n",
    "print(aov_table)"
   ]
  },
  {
   "cell_type": "code",
   "execution_count": 18,
   "metadata": {},
   "outputs": [
    {
     "data": {
      "text/plain": [
       "<matplotlib.axes._subplots.AxesSubplot at 0x1af32b98320>"
      ]
     },
     "execution_count": 18,
     "metadata": {},
     "output_type": "execute_result"
    },
    {
     "data": {
      "image/png": "[encoded data removed]",
      "text/plain": [
       "<Figure size 432x288 with 1 Axes>"
      ]
     },
     "metadata": {
      "needs_background": "light"
     },
     "output_type": "display_data"
    }
   ],
   "source": [
    "#Create a boxplot\n",
    "df_cal.boxplot('price', by='month', figsize=(6, 4),showfliers=False)"
   ]
  },
  {
   "cell_type": "code",
   "execution_count": null,
   "metadata": {},
   "outputs": [],
   "source": []
  },
  {
   "cell_type": "code",
   "execution_count": null,
   "metadata": {},
   "outputs": [],
   "source": []
  },
  {
   "cell_type": "markdown",
   "metadata": {},
   "source": []
  },
  {
   "cell_type": "markdown",
   "metadata": {},
   "source": [
    "## END OF QUESTION 1"
   ]
  },
  {
   "cell_type": "markdown",
   "metadata": {},
   "source": [
    "Question 2:  Know your capacity?   Waht neighborhoods/property type/property attributes sell better?"
   ]
  },
  {
   "cell_type": "code",
   "execution_count": 19,
   "metadata": {},
   "outputs": [],
   "source": [
    "def compile_and_clean_attr_data(df_list,df_cal):\n",
    "    \n",
    "    #Using the average list prices in df_cal['price'] vs the current listing price df_list['price']\n",
    "    df_avg_price = pd.DataFrame(df_cal.groupby(by=['listing_id'])['price'].mean())\n",
    "    df_list = df_list.drop(columns='price')\n",
    "    \n",
    "    \n",
    "    df = df_avg_price.merge(df_list,left_index=True,right_index=True)\n",
    "    \n",
    "    #Strip Xs down to the property/physical attributes of the property\n",
    "    ammenities = list(df.filter(like='amm').columns.values)\n",
    "    physical_attr_loc = ['price','bathrooms','bedrooms','beds','neighbourhood_cleansed',\n",
    "                     'neighbourhood_group_cleansed','property_type','room_type','bed_type',\n",
    "                    'accommodates','guests_included'] + ammenities\n",
    "    \n",
    "    df = df[physical_attr_loc]\n",
    "    ##Clean Nas \n",
    "    \n",
    "    # Drop all rows without a y (price)\n",
    "    df = df.dropna(axis=0,subset=['price'])\n",
    "    \n",
    "    # Dropping rows b/c The following had a low number of n/a rows and would be difficult to impute, \n",
    "    df = df.drop(index=df.loc[df['bedrooms'].isna(),:].index )\n",
    "    df = df.drop(index=df.loc[df['property_type'].isna(),:].index )\n",
    "    df = df.drop(index=df.loc[df['bathrooms'].isna(),:].index )\n",
    "    \n",
    "    \n",
    "    #Creating a log-transformed price column to \n",
    "    df.insert(column='price_log',loc=1,value=np.nan)\n",
    "    df['price_log'] = df['price'].apply(lambda x: np.log(x))\n",
    "    \n",
    "    # One hot encode the categorical columns\n",
    "    cat_col = list(df.select_dtypes(include='category').columns.values)\n",
    "    df = df.merge(pd.get_dummies(df[cat_col],prefix_sep='::'),right_index=True, left_index=True)\n",
    "    df = df.drop(columns=cat_col)\n",
    "    \n",
    "    #Standardize\n",
    "    std_col = ['price','price_log']\n",
    "    \n",
    "    #Normalize\n",
    "    norm_col = ['accommodates','guests_included','bathrooms','bedrooms','beds']\n",
    "    \n",
    "    return df"
   ]
  },
  {
   "cell_type": "code",
   "execution_count": 20,
   "metadata": {},
   "outputs": [],
   "source": [
    "df_q2 = compile_and_clean_attr_data(df_listing,df_cal)"
   ]
  },
  {
   "cell_type": "code",
   "execution_count": 21,
   "metadata": {},
   "outputs": [
    {
     "name": "stdout",
     "output_type": "stream",
     "text": [
      "<class 'pandas.core.frame.DataFrame'>\n",
      "Int64Index: 3697 entries, 4291 to 10340165\n",
      "Empty DataFrame"
     ]
    }
   ],
   "source": [
    "df_q2.loc[:,df_q2.isna().any()].info()"
   ]
  },
  {
   "cell_type": "code",
   "execution_count": 22,
   "metadata": {},
   "outputs": [
    {
     "name": "stdout",
     "output_type": "stream",
     "text": [
      "<class 'pandas.core.frame.DataFrame'>\n",
      "Int64Index: 3697 entries, 4291 to 10340165\n",
      "Columns: 177 entries, price to bed_type::Real Bed\n",
      "dtypes: float64(5), int64(44), uint8(128)\n",
      "memory usage: 2.0 MB\n"
     ]
    }
   ],
   "source": [
    "df_q2.info()"
   ]
  },
  {
   "cell_type": "code",
   "execution_count": 23,
   "metadata": {},
   "outputs": [
    {
     "data": {
      "text/html": [
       "<div>\n",
       "<style scoped>\n",
       "    .dataframe tbody tr th:only-of-type {\n",
       "        vertical-align: middle;\n",
       "    }\n",
       "\n",
       "    .dataframe tbody tr th {\n",
       "        vertical-align: top;\n",
       "    }\n",
       "\n",
       "    .dataframe thead th {\n",
       "        text-align: right;\n",
       "    }\n",
       "</style>\n",
       "<table border=\"1\" class=\"dataframe\">\n",
       "  <thead>\n",
       "    <tr style=\"text-align: right;\">\n",
       "      <th></th>\n",
       "      <th>price</th>\n",
       "      <th>price_log</th>\n",
       "      <th>bathrooms</th>\n",
       "      <th>bedrooms</th>\n",
       "      <th>beds</th>\n",
       "    </tr>\n",
       "  </thead>\n",
       "  <tbody>\n",
       "    <tr>\n",
       "      <th>4291</th>\n",
       "      <td>82.000000</td>\n",
       "      <td>4.406719</td>\n",
       "      <td>1.0</td>\n",
       "      <td>1.0</td>\n",
       "      <td>1.0</td>\n",
       "    </tr>\n",
       "    <tr>\n",
       "      <th>5682</th>\n",
       "      <td>53.944984</td>\n",
       "      <td>3.987965</td>\n",
       "      <td>1.0</td>\n",
       "      <td>1.0</td>\n",
       "      <td>1.0</td>\n",
       "    </tr>\n",
       "    <tr>\n",
       "      <th>6606</th>\n",
       "      <td>92.849315</td>\n",
       "      <td>4.530978</td>\n",
       "      <td>1.0</td>\n",
       "      <td>1.0</td>\n",
       "      <td>1.0</td>\n",
       "    </tr>\n",
       "    <tr>\n",
       "      <th>7369</th>\n",
       "      <td>85.000000</td>\n",
       "      <td>4.442651</td>\n",
       "      <td>1.0</td>\n",
       "      <td>1.0</td>\n",
       "      <td>1.0</td>\n",
       "    </tr>\n",
       "    <tr>\n",
       "      <th>9419</th>\n",
       "      <td>85.616438</td>\n",
       "      <td>4.449877</td>\n",
       "      <td>3.0</td>\n",
       "      <td>1.0</td>\n",
       "      <td>1.0</td>\n",
       "    </tr>\n",
       "  </tbody>\n",
       "</table>\n",
       "</div>"
      ],
      "text/plain": [
       "          price  price_log  bathrooms  bedrooms  beds\n",
       "4291  82.000000   4.406719        1.0       1.0   1.0\n",
       "5682  53.944984   3.987965        1.0       1.0   1.0\n",
       "6606  92.849315   4.530978        1.0       1.0   1.0\n",
       "7369  85.000000   4.442651        1.0       1.0   1.0\n",
       "9419  85.616438   4.449877        3.0       1.0   1.0"
      ]
     },
     "execution_count": 23,
     "metadata": {},
     "output_type": "execute_result"
    }
   ],
   "source": [
    "df_q2.select_dtypes(include='float').head().iloc[:,:]"
   ]
  },
  {
   "cell_type": "code",
   "execution_count": null,
   "metadata": {},
   "outputs": [],
   "source": []
  },
  {
   "cell_type": "code",
   "execution_count": 24,
   "metadata": {},
   "outputs": [],
   "source": [
    "#Standardize\n",
    "std_col = ['price','price_log']\n",
    "blah = StandardScaler()"
   ]
  },
  {
   "cell_type": "code",
   "execution_count": 25,
   "metadata": {},
   "outputs": [],
   "source": [
    "df_q2[std_col] = blah.fit_transform(df_q2[std_col])"
   ]
  },
  {
   "cell_type": "code",
   "execution_count": 26,
   "metadata": {},
   "outputs": [],
   "source": [
    "#Normalize\n",
    "norm_col = ['accommodates','guests_included','bathrooms','bedrooms','beds']"
   ]
  },
  {
   "cell_type": "code",
   "execution_count": 27,
   "metadata": {},
   "outputs": [],
   "source": [
    "df_q2[norm_col] = normalize(df_q2[norm_col])"
   ]
  },
  {
   "cell_type": "code",
   "execution_count": null,
   "metadata": {},
   "outputs": [],
   "source": []
  },
  {
   "cell_type": "code",
   "execution_count": null,
   "metadata": {},
   "outputs": [],
   "source": []
  },
  {
   "cell_type": "code",
   "execution_count": 28,
   "metadata": {},
   "outputs": [],
   "source": [
    "df_q2_X = df_q2.drop(columns=['price','price_log'])\n",
    "df_q2_y1 = df_q2['price']\n",
    "df_q2_y2 = df_q2['price_log']"
   ]
  },
  {
   "cell_type": "code",
   "execution_count": 29,
   "metadata": {},
   "outputs": [],
   "source": [
    "q2_model = LinearRegression()"
   ]
  },
  {
   "cell_type": "code",
   "execution_count": 30,
   "metadata": {},
   "outputs": [],
   "source": [
    "q2_log_model = LinearRegression()"
   ]
  },
  {
   "cell_type": "code",
   "execution_count": 31,
   "metadata": {},
   "outputs": [],
   "source": [
    "q2_X_train, q2_X_test, q2_y1_train, q2_y1_test, q2_y2_train, q2_y2_test = train_test_split(df_q2_X,df_q2_y1,df_q2_y2,test_size = 0.3,random_state=72)"
   ]
  },
  {
   "cell_type": "code",
   "execution_count": 32,
   "metadata": {},
   "outputs": [
    {
     "data": {
      "text/plain": [
       "LinearRegression(copy_X=True, fit_intercept=True, n_jobs=1, normalize=False)"
      ]
     },
     "execution_count": 32,
     "metadata": {},
     "output_type": "execute_result"
    }
   ],
   "source": [
    "q2_model.fit(q2_X_train,q2_y1_train)"
   ]
  },
  {
   "cell_type": "code",
   "execution_count": 33,
   "metadata": {},
   "outputs": [
    {
     "data": {
      "text/plain": [
       "LinearRegression(copy_X=True, fit_intercept=True, n_jobs=1, normalize=False)"
      ]
     },
     "execution_count": 33,
     "metadata": {},
     "output_type": "execute_result"
    }
   ],
   "source": [
    "q2_log_model.fit(q2_X_train,q2_y2_train)"
   ]
  },
  {
   "cell_type": "code",
   "execution_count": 34,
   "metadata": {},
   "outputs": [],
   "source": [
    "q2_y1_predict = q2_model.predict(q2_X_test)"
   ]
  },
  {
   "cell_type": "code",
   "execution_count": 35,
   "metadata": {},
   "outputs": [],
   "source": [
    "q2_y2_predict = q2_log_model.predict(q2_X_test)"
   ]
  },
  {
   "cell_type": "code",
   "execution_count": 36,
   "metadata": {},
   "outputs": [
    {
     "data": {
      "text/plain": [
       "-5.357427914636588e+20"
      ]
     },
     "execution_count": 36,
     "metadata": {},
     "output_type": "execute_result"
    }
   ],
   "source": [
    "r2_score(q2_y1_test,q2_y1_predict)"
   ]
  },
  {
   "cell_type": "code",
   "execution_count": 37,
   "metadata": {},
   "outputs": [
    {
     "data": {
      "text/plain": [
       "-3.5044272398214136e+20"
      ]
     },
     "execution_count": 37,
     "metadata": {},
     "output_type": "execute_result"
    }
   ],
   "source": [
    "r2_score(q2_y2_test,q2_y2_predict)"
   ]
  },
  {
   "cell_type": "code",
   "execution_count": 38,
   "metadata": {},
   "outputs": [
    {
     "data": {
      "text/html": [
       "<div>\n",
       "<style scoped>\n",
       "    .dataframe tbody tr th:only-of-type {\n",
       "        vertical-align: middle;\n",
       "    }\n",
       "\n",
       "    .dataframe tbody tr th {\n",
       "        vertical-align: top;\n",
       "    }\n",
       "\n",
       "    .dataframe thead th {\n",
       "        text-align: right;\n",
       "    }\n",
       "</style>\n",
       "<table border=\"1\" class=\"dataframe\">\n",
       "  <thead>\n",
       "    <tr style=\"text-align: right;\">\n",
       "      <th></th>\n",
       "      <th>est_int</th>\n",
       "      <th>coefs</th>\n",
       "      <th>abs_coefs</th>\n",
       "    </tr>\n",
       "  </thead>\n",
       "  <tbody>\n",
       "    <tr>\n",
       "      <th>169</th>\n",
       "      <td>room_type::Shared room</td>\n",
       "      <td>-8.479426e+11</td>\n",
       "      <td>8.479426e+11</td>\n",
       "    </tr>\n",
       "    <tr>\n",
       "      <th>168</th>\n",
       "      <td>room_type::Private room</td>\n",
       "      <td>-8.479426e+11</td>\n",
       "      <td>8.479426e+11</td>\n",
       "    </tr>\n",
       "    <tr>\n",
       "      <th>167</th>\n",
       "      <td>room_type::Entire home/apt</td>\n",
       "      <td>-8.479426e+11</td>\n",
       "      <td>8.479426e+11</td>\n",
       "    </tr>\n",
       "    <tr>\n",
       "      <th>163</th>\n",
       "      <td>property_type::Tent</td>\n",
       "      <td>-4.700165e+11</td>\n",
       "      <td>4.700165e+11</td>\n",
       "    </tr>\n",
       "    <tr>\n",
       "      <th>157</th>\n",
       "      <td>property_type::Chalet</td>\n",
       "      <td>-4.700165e+11</td>\n",
       "      <td>4.700165e+11</td>\n",
       "    </tr>\n",
       "    <tr>\n",
       "      <th>151</th>\n",
       "      <td>property_type::Apartment</td>\n",
       "      <td>-4.700165e+11</td>\n",
       "      <td>4.700165e+11</td>\n",
       "    </tr>\n",
       "    <tr>\n",
       "      <th>158</th>\n",
       "      <td>property_type::Condominium</td>\n",
       "      <td>-4.700165e+11</td>\n",
       "      <td>4.700165e+11</td>\n",
       "    </tr>\n",
       "    <tr>\n",
       "      <th>165</th>\n",
       "      <td>property_type::Treehouse</td>\n",
       "      <td>-4.700165e+11</td>\n",
       "      <td>4.700165e+11</td>\n",
       "    </tr>\n",
       "    <tr>\n",
       "      <th>155</th>\n",
       "      <td>property_type::Cabin</td>\n",
       "      <td>-4.700165e+11</td>\n",
       "      <td>4.700165e+11</td>\n",
       "    </tr>\n",
       "    <tr>\n",
       "      <th>161</th>\n",
       "      <td>property_type::Loft</td>\n",
       "      <td>-4.700165e+11</td>\n",
       "      <td>4.700165e+11</td>\n",
       "    </tr>\n",
       "    <tr>\n",
       "      <th>156</th>\n",
       "      <td>property_type::Camper/RV</td>\n",
       "      <td>-4.700165e+11</td>\n",
       "      <td>4.700165e+11</td>\n",
       "    </tr>\n",
       "    <tr>\n",
       "      <th>162</th>\n",
       "      <td>property_type::Other</td>\n",
       "      <td>-4.700165e+11</td>\n",
       "      <td>4.700165e+11</td>\n",
       "    </tr>\n",
       "    <tr>\n",
       "      <th>154</th>\n",
       "      <td>property_type::Bungalow</td>\n",
       "      <td>-4.700165e+11</td>\n",
       "      <td>4.700165e+11</td>\n",
       "    </tr>\n",
       "    <tr>\n",
       "      <th>166</th>\n",
       "      <td>property_type::Yurt</td>\n",
       "      <td>-4.700165e+11</td>\n",
       "      <td>4.700165e+11</td>\n",
       "    </tr>\n",
       "    <tr>\n",
       "      <th>160</th>\n",
       "      <td>property_type::House</td>\n",
       "      <td>-4.700165e+11</td>\n",
       "      <td>4.700165e+11</td>\n",
       "    </tr>\n",
       "  </tbody>\n",
       "</table>\n",
       "</div>"
      ],
      "text/plain": [
       "                        est_int         coefs     abs_coefs\n",
       "169      room_type::Shared room -8.479426e+11  8.479426e+11\n",
       "168     room_type::Private room -8.479426e+11  8.479426e+11\n",
       "167  room_type::Entire home/apt -8.479426e+11  8.479426e+11\n",
       "163         property_type::Tent -4.700165e+11  4.700165e+11\n",
       "157       property_type::Chalet -4.700165e+11  4.700165e+11\n",
       "151    property_type::Apartment -4.700165e+11  4.700165e+11\n",
       "158  property_type::Condominium -4.700165e+11  4.700165e+11\n",
       "165    property_type::Treehouse -4.700165e+11  4.700165e+11\n",
       "155        property_type::Cabin -4.700165e+11  4.700165e+11\n",
       "161         property_type::Loft -4.700165e+11  4.700165e+11\n",
       "156    property_type::Camper/RV -4.700165e+11  4.700165e+11\n",
       "162        property_type::Other -4.700165e+11  4.700165e+11\n",
       "154     property_type::Bungalow -4.700165e+11  4.700165e+11\n",
       "166         property_type::Yurt -4.700165e+11  4.700165e+11\n",
       "160        property_type::House -4.700165e+11  4.700165e+11"
      ]
     },
     "execution_count": 38,
     "metadata": {},
     "output_type": "execute_result"
    }
   ],
   "source": [
    "coefs_df = pd.DataFrame()\n",
    "coefs_df['est_int'] = q2_X_train.columns\n",
    "coefs_df['coefs'] = q2_model.coef_\n",
    "coefs_df['abs_coefs'] = np.abs(q2_model.coef_)\n",
    "coefs_df = coefs_df.sort_values('abs_coefs', ascending=False)\n",
    "coefs_df[0:15]"
   ]
  },
  {
   "cell_type": "code",
   "execution_count": 39,
   "metadata": {},
   "outputs": [],
   "source": [
    "model_1 = pca.PCA(n_components=35)"
   ]
  },
  {
   "cell_type": "code",
   "execution_count": 40,
   "metadata": {},
   "outputs": [],
   "source": [
    "q2_X_pca = model_1.fit_transform(df_q2_X)"
   ]
  },
  {
   "cell_type": "code",
   "execution_count": 41,
   "metadata": {},
   "outputs": [
    {
     "data": {
      "text/plain": [
       "0.8118112716591694"
      ]
     },
     "execution_count": 41,
     "metadata": {},
     "output_type": "execute_result"
    }
   ],
   "source": [
    "model_1.explained_variance_ratio_.sum()"
   ]
  },
  {
   "cell_type": "code",
   "execution_count": 42,
   "metadata": {},
   "outputs": [
    {
     "data": {
      "image/png": "[encoded data removed]",
      "text/plain": [
       "<Figure size 720x432 with 1 Axes>"
      ]
     },
     "metadata": {
      "needs_background": "light"
     },
     "output_type": "display_data"
    }
   ],
   "source": [
    "h.scree_plot(model_1)"
   ]
  },
  {
   "cell_type": "code",
   "execution_count": 43,
   "metadata": {},
   "outputs": [],
   "source": [
    "df_q2_X_pca = pd.DataFrame(q2_X_pca)"
   ]
  },
  {
   "cell_type": "code",
   "execution_count": 44,
   "metadata": {},
   "outputs": [],
   "source": [
    "X_train_pca, X_test_pca, y_train, y_test = train_test_split(df_q2_X_pca,df_q2_y1,test_size = 0.3,random_state=72)"
   ]
  },
  {
   "cell_type": "code",
   "execution_count": 45,
   "metadata": {},
   "outputs": [],
   "source": [
    "lmodel_pca = LinearRegression()"
   ]
  },
  {
   "cell_type": "code",
   "execution_count": 46,
   "metadata": {},
   "outputs": [
    {
     "data": {
      "text/plain": [
       "LinearRegression(copy_X=True, fit_intercept=True, n_jobs=1, normalize=False)"
      ]
     },
     "execution_count": 46,
     "metadata": {},
     "output_type": "execute_result"
    }
   ],
   "source": [
    "lmodel_pca.fit(X_train_pca,y_train)"
   ]
  },
  {
   "cell_type": "code",
   "execution_count": 47,
   "metadata": {},
   "outputs": [],
   "source": [
    "y_predict_pca = lmodel_pca.predict(X_test_pca)"
   ]
  },
  {
   "cell_type": "code",
   "execution_count": 48,
   "metadata": {},
   "outputs": [
    {
     "data": {
      "text/plain": [
       "0.35637180775479993"
      ]
     },
     "execution_count": 48,
     "metadata": {},
     "output_type": "execute_result"
    }
   ],
   "source": [
    "r2_score(y_test,y_predict_pca)"
   ]
  },
  {
   "cell_type": "code",
   "execution_count": 49,
   "metadata": {},
   "outputs": [
    {
     "data": {
      "text/html": [
       "<div>\n",
       "<style scoped>\n",
       "    .dataframe tbody tr th:only-of-type {\n",
       "        vertical-align: middle;\n",
       "    }\n",
       "\n",
       "    .dataframe tbody tr th {\n",
       "        vertical-align: top;\n",
       "    }\n",
       "\n",
       "    .dataframe thead th {\n",
       "        text-align: right;\n",
       "    }\n",
       "</style>\n",
       "<table border=\"1\" class=\"dataframe\">\n",
       "  <thead>\n",
       "    <tr style=\"text-align: right;\">\n",
       "      <th></th>\n",
       "      <th>Explained Variance</th>\n",
       "      <th>bathrooms</th>\n",
       "      <th>bedrooms</th>\n",
       "      <th>beds</th>\n",
       "      <th>accommodates</th>\n",
       "      <th>guests_included</th>\n",
       "      <th>amm_</th>\n",
       "      <th>amm_24-Hour Check-in</th>\n",
       "      <th>amm_Air Conditioning</th>\n",
       "      <th>amm_Breakfast</th>\n",
       "      <th>...</th>\n",
       "      <th>property_type::Treehouse</th>\n",
       "      <th>property_type::Yurt</th>\n",
       "      <th>room_type::Entire home/apt</th>\n",
       "      <th>room_type::Private room</th>\n",
       "      <th>room_type::Shared room</th>\n",
       "      <th>bed_type::Airbed</th>\n",
       "      <th>bed_type::Couch</th>\n",
       "      <th>bed_type::Futon</th>\n",
       "      <th>bed_type::Pull-out Sofa</th>\n",
       "      <th>bed_type::Real Bed</th>\n",
       "    </tr>\n",
       "  </thead>\n",
       "  <tbody>\n",
       "    <tr>\n",
       "      <th>Dimension 1</th>\n",
       "      <td>0.1115</td>\n",
       "      <td>-0.0366</td>\n",
       "      <td>-0.0361</td>\n",
       "      <td>-0.0023</td>\n",
       "      <td>0.0369</td>\n",
       "      <td>-0.0091</td>\n",
       "      <td>-0.0165</td>\n",
       "      <td>0.2057</td>\n",
       "      <td>0.1159</td>\n",
       "      <td>-0.0288</td>\n",
       "      <td>...</td>\n",
       "      <td>-0.0010</td>\n",
       "      <td>-0.0001</td>\n",
       "      <td>0.2740</td>\n",
       "      <td>-0.2592</td>\n",
       "      <td>-0.0148</td>\n",
       "      <td>-0.0026</td>\n",
       "      <td>0.0000</td>\n",
       "      <td>-0.0089</td>\n",
       "      <td>-0.0027</td>\n",
       "      <td>0.0142</td>\n",
       "    </tr>\n",
       "    <tr>\n",
       "      <th>Dimension 2</th>\n",
       "      <td>0.0873</td>\n",
       "      <td>0.0061</td>\n",
       "      <td>-0.0238</td>\n",
       "      <td>-0.0013</td>\n",
       "      <td>0.0089</td>\n",
       "      <td>-0.0068</td>\n",
       "      <td>0.0254</td>\n",
       "      <td>-0.1270</td>\n",
       "      <td>-0.0108</td>\n",
       "      <td>-0.0414</td>\n",
       "      <td>...</td>\n",
       "      <td>0.0006</td>\n",
       "      <td>-0.0001</td>\n",
       "      <td>0.1061</td>\n",
       "      <td>-0.1207</td>\n",
       "      <td>0.0146</td>\n",
       "      <td>0.0002</td>\n",
       "      <td>0.0024</td>\n",
       "      <td>0.0056</td>\n",
       "      <td>0.0015</td>\n",
       "      <td>-0.0097</td>\n",
       "    </tr>\n",
       "    <tr>\n",
       "      <th>Dimension 3</th>\n",
       "      <td>0.0585</td>\n",
       "      <td>0.0482</td>\n",
       "      <td>0.0045</td>\n",
       "      <td>-0.0024</td>\n",
       "      <td>-0.0359</td>\n",
       "      <td>0.0276</td>\n",
       "      <td>0.0226</td>\n",
       "      <td>0.2456</td>\n",
       "      <td>-0.0417</td>\n",
       "      <td>0.0462</td>\n",
       "      <td>...</td>\n",
       "      <td>0.0009</td>\n",
       "      <td>0.0001</td>\n",
       "      <td>-0.2996</td>\n",
       "      <td>0.2776</td>\n",
       "      <td>0.0220</td>\n",
       "      <td>0.0053</td>\n",
       "      <td>0.0027</td>\n",
       "      <td>0.0101</td>\n",
       "      <td>0.0107</td>\n",
       "      <td>-0.0289</td>\n",
       "    </tr>\n",
       "    <tr>\n",
       "      <th>Dimension 4</th>\n",
       "      <td>0.0482</td>\n",
       "      <td>0.0354</td>\n",
       "      <td>-0.0023</td>\n",
       "      <td>-0.0104</td>\n",
       "      <td>-0.0171</td>\n",
       "      <td>0.0173</td>\n",
       "      <td>-0.0146</td>\n",
       "      <td>-0.1414</td>\n",
       "      <td>0.0485</td>\n",
       "      <td>0.0590</td>\n",
       "      <td>...</td>\n",
       "      <td>-0.0000</td>\n",
       "      <td>0.0008</td>\n",
       "      <td>-0.2042</td>\n",
       "      <td>0.1770</td>\n",
       "      <td>0.0272</td>\n",
       "      <td>0.0061</td>\n",
       "      <td>0.0021</td>\n",
       "      <td>0.0163</td>\n",
       "      <td>0.0051</td>\n",
       "      <td>-0.0296</td>\n",
       "    </tr>\n",
       "    <tr>\n",
       "      <th>Dimension 5</th>\n",
       "      <td>0.0428</td>\n",
       "      <td>0.0476</td>\n",
       "      <td>0.0408</td>\n",
       "      <td>0.0004</td>\n",
       "      <td>-0.0317</td>\n",
       "      <td>-0.0065</td>\n",
       "      <td>-0.0187</td>\n",
       "      <td>-0.0143</td>\n",
       "      <td>0.1016</td>\n",
       "      <td>0.0354</td>\n",
       "      <td>...</td>\n",
       "      <td>-0.0004</td>\n",
       "      <td>-0.0008</td>\n",
       "      <td>-0.3936</td>\n",
       "      <td>0.3731</td>\n",
       "      <td>0.0204</td>\n",
       "      <td>0.0031</td>\n",
       "      <td>0.0029</td>\n",
       "      <td>0.0125</td>\n",
       "      <td>0.0049</td>\n",
       "      <td>-0.0233</td>\n",
       "    </tr>\n",
       "  </tbody>\n",
       "</table>\n",
       "<p>5 rows × 176 columns</p>\n",
       "</div>"
      ],
      "text/plain": [
       "             Explained Variance  bathrooms  bedrooms    beds  accommodates  \\\n",
       "Dimension 1              0.1115    -0.0366   -0.0361 -0.0023        0.0369   \n",
       "Dimension 2              0.0873     0.0061   -0.0238 -0.0013        0.0089   \n",
       "Dimension 3              0.0585     0.0482    0.0045 -0.0024       -0.0359   \n",
       "Dimension 4              0.0482     0.0354   -0.0023 -0.0104       -0.0171   \n",
       "Dimension 5              0.0428     0.0476    0.0408  0.0004       -0.0317   \n",
       "\n",
       "             guests_included    amm_  amm_24-Hour Check-in  \\\n",
       "Dimension 1          -0.0091 -0.0165                0.2057   \n",
       "Dimension 2          -0.0068  0.0254               -0.1270   \n",
       "Dimension 3           0.0276  0.0226                0.2456   \n",
       "Dimension 4           0.0173 -0.0146               -0.1414   \n",
       "Dimension 5          -0.0065 -0.0187               -0.0143   \n",
       "\n",
       "             amm_Air Conditioning  amm_Breakfast  ...  \\\n",
       "Dimension 1                0.1159        -0.0288  ...   \n",
       "Dimension 2               -0.0108        -0.0414  ...   \n",
       "Dimension 3               -0.0417         0.0462  ...   \n",
       "Dimension 4                0.0485         0.0590  ...   \n",
       "Dimension 5                0.1016         0.0354  ...   \n",
       "\n",
       "             property_type::Treehouse  property_type::Yurt  \\\n",
       "Dimension 1                   -0.0010              -0.0001   \n",
       "Dimension 2                    0.0006              -0.0001   \n",
       "Dimension 3                    0.0009               0.0001   \n",
       "Dimension 4                   -0.0000               0.0008   \n",
       "Dimension 5                   -0.0004              -0.0008   \n",
       "\n",
       "             room_type::Entire home/apt  room_type::Private room  \\\n",
       "Dimension 1                      0.2740                  -0.2592   \n",
       "Dimension 2                      0.1061                  -0.1207   \n",
       "Dimension 3                     -0.2996                   0.2776   \n",
       "Dimension 4                     -0.2042                   0.1770   \n",
       "Dimension 5                     -0.3936                   0.3731   \n",
       "\n",
       "             room_type::Shared room  bed_type::Airbed  bed_type::Couch  \\\n",
       "Dimension 1                 -0.0148           -0.0026           0.0000   \n",
       "Dimension 2                  0.0146            0.0002           0.0024   \n",
       "Dimension 3                  0.0220            0.0053           0.0027   \n",
       "Dimension 4                  0.0272            0.0061           0.0021   \n",
       "Dimension 5                  0.0204            0.0031           0.0029   \n",
       "\n",
       "             bed_type::Futon  bed_type::Pull-out Sofa  bed_type::Real Bed  \n",
       "Dimension 1          -0.0089                  -0.0027              0.0142  \n",
       "Dimension 2           0.0056                   0.0015             -0.0097  \n",
       "Dimension 3           0.0101                   0.0107             -0.0289  \n",
       "Dimension 4           0.0163                   0.0051             -0.0296  \n",
       "Dimension 5           0.0125                   0.0049             -0.0233  \n",
       "\n",
       "[5 rows x 176 columns]"
      ]
     },
     "execution_count": 49,
     "metadata": {},
     "output_type": "execute_result"
    }
   ],
   "source": [
    "pca_results = h.pca_results_rng(df_q2_X,model_1,[1,25])\n",
    "pca_results.head()"
   ]
  },
  {
   "cell_type": "code",
   "execution_count": 50,
   "metadata": {},
   "outputs": [],
   "source": [
    "pca_results = pca_results.drop(columns='Explained Variance')"
   ]
  },
  {
   "cell_type": "code",
   "execution_count": 51,
   "metadata": {},
   "outputs": [
    {
     "data": {
      "text/html": [
       "<div>\n",
       "<style scoped>\n",
       "    .dataframe tbody tr th:only-of-type {\n",
       "        vertical-align: middle;\n",
       "    }\n",
       "\n",
       "    .dataframe tbody tr th {\n",
       "        vertical-align: top;\n",
       "    }\n",
       "\n",
       "    .dataframe thead th {\n",
       "        text-align: right;\n",
       "    }\n",
       "</style>\n",
       "<table border=\"1\" class=\"dataframe\">\n",
       "  <thead>\n",
       "    <tr style=\"text-align: right;\">\n",
       "      <th></th>\n",
       "      <th>est_int</th>\n",
       "      <th>coefs</th>\n",
       "      <th>abs_coefs</th>\n",
       "    </tr>\n",
       "  </thead>\n",
       "  <tbody>\n",
       "    <tr>\n",
       "      <th>2</th>\n",
       "      <td>2</td>\n",
       "      <td>-0.525339</td>\n",
       "      <td>0.525339</td>\n",
       "    </tr>\n",
       "    <tr>\n",
       "      <th>24</th>\n",
       "      <td>24</td>\n",
       "      <td>0.363735</td>\n",
       "      <td>0.363735</td>\n",
       "    </tr>\n",
       "    <tr>\n",
       "      <th>14</th>\n",
       "      <td>14</td>\n",
       "      <td>0.354878</td>\n",
       "      <td>0.354878</td>\n",
       "    </tr>\n",
       "    <tr>\n",
       "      <th>3</th>\n",
       "      <td>3</td>\n",
       "      <td>-0.340377</td>\n",
       "      <td>0.340377</td>\n",
       "    </tr>\n",
       "    <tr>\n",
       "      <th>0</th>\n",
       "      <td>0</td>\n",
       "      <td>0.302303</td>\n",
       "      <td>0.302303</td>\n",
       "    </tr>\n",
       "    <tr>\n",
       "      <th>6</th>\n",
       "      <td>6</td>\n",
       "      <td>-0.262854</td>\n",
       "      <td>0.262854</td>\n",
       "    </tr>\n",
       "  </tbody>\n",
       "</table>\n",
       "</div>"
      ],
      "text/plain": [
       "    est_int     coefs  abs_coefs\n",
       "2         2 -0.525339   0.525339\n",
       "24       24  0.363735   0.363735\n",
       "14       14  0.354878   0.354878\n",
       "3         3 -0.340377   0.340377\n",
       "0         0  0.302303   0.302303\n",
       "6         6 -0.262854   0.262854"
      ]
     },
     "execution_count": 51,
     "metadata": {},
     "output_type": "execute_result"
    }
   ],
   "source": [
    "pca_coefs_df = pd.DataFrame()\n",
    "pca_coefs_df['est_int'] = X_train_pca.columns\n",
    "pca_coefs_df['coefs'] = lmodel_pca.coef_\n",
    "pca_coefs_df['abs_coefs'] = np.abs(lmodel_pca.coef_)\n",
    "pca_coefs_df = pca_coefs_df.sort_values('abs_coefs', ascending=False)\n",
    "pca_coefs_df[0:6]"
   ]
  },
  {
   "cell_type": "code",
   "execution_count": 52,
   "metadata": {},
   "outputs": [
    {
     "name": "stdout",
     "output_type": "stream",
     "text": [
      "property_type::Apartment                      0.3428\n",
      "amm_Elevator in Building                      0.1720\n",
      "neighbourhood_group_cleansed::Downtown        0.1103\n",
      "room_type::Entire home/apt                    0.1061\n",
      "neighbourhood_group_cleansed::Capitol Hill    0.0890\n",
      "neighbourhood_cleansed::Broadway              0.0877\n",
      "amm_Buzzer/Wireless Intercom                  0.0759\n",
      "amm_Gym                                       0.0631\n",
      "neighbourhood_cleansed::Belltown              0.0476\n",
      "amm_Wheelchair Accessible                     0.0260\n",
      "Name: Dimension 2, dtype: float64\n",
      "property_type::House           -0.3302\n",
      "amm_First Aid Kit              -0.3134\n",
      "amm_Fire Extinguisher          -0.3092\n",
      "amm_Free Parking on Premises   -0.2656\n",
      "amm_Carbon Monoxide Detector   -0.2212\n",
      "amm_Family/Kid Friendly        -0.1851\n",
      "Name: Dimension 2, dtype: float64\n"
     ]
    }
   ],
   "source": [
    "print(pca_results.loc['Dimension 2',:].sort_values(ascending=False)[0:10])\n",
    "print(pca_results.loc['Dimension 2',:].sort_values(ascending=True)[0:6])"
   ]
  },
  {
   "cell_type": "code",
   "execution_count": 53,
   "metadata": {},
   "outputs": [
    {
     "name": "stdout",
     "output_type": "stream",
     "text": [
      "amm_Buzzer/Wireless Intercom                         0.3031\n",
      "amm_Cat(s)                                           0.2736\n",
      "amm_Shampoo                                          0.2652\n",
      "neighbourhood_group_cleansed::Queen Anne             0.1734\n",
      "amm_Carbon Monoxide Detector                         0.1527\n",
      "neighbourhood_group_cleansed::Central Area           0.1141\n",
      "amm_Fire Extinguisher                                0.1109\n",
      "amm_Internet                                         0.0695\n",
      "amm_Wheelchair Accessible                            0.0680\n",
      "neighbourhood_group_cleansed::Other neighborhoods    0.0668\n",
      "Name: Dimension 24, dtype: float64\n",
      "amm_Essentials                           -0.6497\n",
      "amm_Pets Allowed                         -0.2191\n",
      "amm_Dog(s)                               -0.1870\n",
      "amm_Kitchen                              -0.1799\n",
      "amm_Heating                              -0.1010\n",
      "neighbourhood_group_cleansed::Downtown   -0.0973\n",
      "Name: Dimension 24, dtype: float64\n"
     ]
    }
   ],
   "source": [
    "print(pca_results.loc['Dimension 24',:].sort_values(ascending=False)[0:10])\n",
    "print(pca_results.loc['Dimension 24',:].sort_values(ascending=True)[0:6])"
   ]
  },
  {
   "cell_type": "code",
   "execution_count": 54,
   "metadata": {},
   "outputs": [
    {
     "name": "stdout",
     "output_type": "stream",
     "text": [
      "amm_Shampoo                                   0.3482\n",
      "amm_Cable TV                                  0.3120\n",
      "neighbourhood_group_cleansed::Central Area    0.1947\n",
      "amm_Family/Kid Friendly                       0.1588\n",
      "amm_Essentials                                0.1579\n",
      "amm_Washer                                    0.1415\n",
      "amm_Dryer                                     0.1400\n",
      "neighbourhood_cleansed::Minor                 0.0948\n",
      "neighbourhood_group_cleansed::Queen Anne      0.0929\n",
      "room_type::Private room                       0.0743\n",
      "Name: Dimension 14, dtype: float64\n",
      "amm_Free Parking on Premises                        -0.4735\n",
      "amm_Internet                                        -0.4293\n",
      "neighbourhood_group_cleansed::Other neighborhoods   -0.1774\n",
      "neighbourhood_group_cleansed::Capitol Hill          -0.1693\n",
      "amm_Elevator in Building                            -0.1427\n",
      "neighbourhood_cleansed::Broadway                    -0.1291\n",
      "Name: Dimension 14, dtype: float64\n"
     ]
    }
   ],
   "source": [
    "print(pca_results.loc['Dimension 14',:].sort_values(ascending=False)[0:10])\n",
    "print(pca_results.loc['Dimension 14',:].sort_values(ascending=True)[0:6])"
   ]
  },
  {
   "cell_type": "code",
   "execution_count": null,
   "metadata": {},
   "outputs": [],
   "source": []
  },
  {
   "cell_type": "code",
   "execution_count": null,
   "metadata": {},
   "outputs": [],
   "source": []
  },
  {
   "cell_type": "code",
   "execution_count": null,
   "metadata": {},
   "outputs": [],
   "source": []
  },
  {
   "cell_type": "code",
   "execution_count": null,
   "metadata": {},
   "outputs": [],
   "source": []
  },
  {
   "cell_type": "code",
   "execution_count": null,
   "metadata": {},
   "outputs": [],
   "source": []
  },
  {
   "cell_type": "code",
   "execution_count": null,
   "metadata": {},
   "outputs": [],
   "source": []
  },
  {
   "cell_type": "code",
   "execution_count": null,
   "metadata": {},
   "outputs": [],
   "source": []
  },
  {
   "cell_type": "code",
   "execution_count": null,
   "metadata": {},
   "outputs": [],
   "source": []
  },
  {
   "cell_type": "code",
   "execution_count": null,
   "metadata": {},
   "outputs": [],
   "source": []
  },
  {
   "cell_type": "code",
   "execution_count": null,
   "metadata": {},
   "outputs": [],
   "source": []
  },
  {
   "cell_type": "code",
   "execution_count": 106,
   "metadata": {},
   "outputs": [],
   "source": [
    "hot_neighboorhoods=['Magnolia','Downtown','Queen Anne','West Seattle']"
   ]
  },
  {
   "cell_type": "code",
   "execution_count": 99,
   "metadata": {},
   "outputs": [],
   "source": [
    "def hotchecks(x,list):\n",
    "    if x in hot_neighboorhoods:\n",
    "        return True\n",
    "    else:\n",
    "        return False"
   ]
  },
  {
   "cell_type": "code",
   "execution_count": 100,
   "metadata": {},
   "outputs": [],
   "source": [
    "df_neigh = df_cal.merge(df_listing.neighbourhood_group_cleansed,left_index=True,right_index=True)"
   ]
  },
  {
   "cell_type": "code",
   "execution_count": 103,
   "metadata": {},
   "outputs": [],
   "source": [
    "df_neigh.insert(loc = df_neigh.shape[1],column='hot_neigh',value=False,)"
   ]
  },
  {
   "cell_type": "code",
   "execution_count": 110,
   "metadata": {},
   "outputs": [],
   "source": [
    "df_neigh['hot_neigh'] = df_neigh['neighbourhood_group_cleansed'].apply(lambda x: hotchecks(x,hot_neighboorhoods))"
   ]
  },
  {
   "cell_type": "code",
   "execution_count": 117,
   "metadata": {},
   "outputs": [
    {
     "data": {
      "text/html": [
       "<div>\n",
       "<style scoped>\n",
       "    .dataframe tbody tr th:only-of-type {\n",
       "        vertical-align: middle;\n",
       "    }\n",
       "\n",
       "    .dataframe tbody tr th {\n",
       "        vertical-align: top;\n",
       "    }\n",
       "\n",
       "    .dataframe thead th {\n",
       "        text-align: right;\n",
       "    }\n",
       "</style>\n",
       "<table border=\"1\" class=\"dataframe\">\n",
       "  <thead>\n",
       "    <tr style=\"text-align: right;\">\n",
       "      <th></th>\n",
       "      <th>date</th>\n",
       "      <th>available</th>\n",
       "      <th>price</th>\n",
       "      <th>week_num</th>\n",
       "      <th>month</th>\n",
       "      <th>year</th>\n",
       "      <th>neighbourhood_group_cleansed</th>\n",
       "      <th>hot_neigh</th>\n",
       "    </tr>\n",
       "  </thead>\n",
       "  <tbody>\n",
       "    <tr>\n",
       "      <th>176678</th>\n",
       "      <td>2016-01-04</td>\n",
       "      <td>True</td>\n",
       "      <td>64.0</td>\n",
       "      <td>1</td>\n",
       "      <td>1</td>\n",
       "      <td>2016</td>\n",
       "      <td>Magnolia</td>\n",
       "      <td>True</td>\n",
       "    </tr>\n",
       "    <tr>\n",
       "      <th>176678</th>\n",
       "      <td>2016-01-05</td>\n",
       "      <td>True</td>\n",
       "      <td>64.0</td>\n",
       "      <td>1</td>\n",
       "      <td>1</td>\n",
       "      <td>2016</td>\n",
       "      <td>Magnolia</td>\n",
       "      <td>True</td>\n",
       "    </tr>\n",
       "    <tr>\n",
       "      <th>176678</th>\n",
       "      <td>2016-01-06</td>\n",
       "      <td>True</td>\n",
       "      <td>64.0</td>\n",
       "      <td>1</td>\n",
       "      <td>1</td>\n",
       "      <td>2016</td>\n",
       "      <td>Magnolia</td>\n",
       "      <td>True</td>\n",
       "    </tr>\n",
       "    <tr>\n",
       "      <th>176678</th>\n",
       "      <td>2016-01-07</td>\n",
       "      <td>True</td>\n",
       "      <td>64.0</td>\n",
       "      <td>1</td>\n",
       "      <td>1</td>\n",
       "      <td>2016</td>\n",
       "      <td>Magnolia</td>\n",
       "      <td>True</td>\n",
       "    </tr>\n",
       "  </tbody>\n",
       "</table>\n",
       "</div>"
      ],
      "text/plain": [
       "             date  available  price  week_num  month  year  \\\n",
       "176678 2016-01-04       True   64.0         1      1  2016   \n",
       "176678 2016-01-05       True   64.0         1      1  2016   \n",
       "176678 2016-01-06       True   64.0         1      1  2016   \n",
       "176678 2016-01-07       True   64.0         1      1  2016   \n",
       "\n",
       "       neighbourhood_group_cleansed hot_neigh  \n",
       "176678                     Magnolia      True  \n",
       "176678                     Magnolia      True  \n",
       "176678                     Magnolia      True  \n",
       "176678                     Magnolia      True  "
      ]
     },
     "execution_count": 117,
     "metadata": {},
     "output_type": "execute_result"
    }
   ],
   "source": [
    "df_neigh.loc[df_neigh['neighbourhood_group_cleansed']=='Magnolia',:].head(4)"
   ]
  },
  {
   "cell_type": "code",
   "execution_count": 141,
   "metadata": {},
   "outputs": [
    {
     "data": {
      "text/plain": [
       "<matplotlib.axes._subplots.AxesSubplot at 0x1af644c2cc0>"
      ]
     },
     "execution_count": 141,
     "metadata": {},
     "output_type": "execute_result"
    },
    {
     "data": {
      "image/png": "[encoded data removed]",
      "text/plain": [
       "<Figure size 432x288 with 1 Axes>"
      ]
     },
     "metadata": {
      "needs_background": "light"
     },
     "output_type": "display_data"
    }
   ],
   "source": [
    "plt.subplot(1.5,1,1)"
   ]
  },
  {
   "cell_type": "code",
   "execution_count": 143,
   "metadata": {},
   "outputs": [
    {
     "data": {
      "image/png": "[encoded data removed]",
      "text/plain": [
       "<Figure size 432x288 with 1 Axes>"
      ]
     },
     "metadata": {
      "needs_background": "light"
     },
     "output_type": "display_data"
    }
   ],
   "source": [
    "ax1 = sns.barplot(x=df_neigh['month'],y=df_neigh['price'],hue=df_neigh['hot_neigh'])"
   ]
  },
  {
   "cell_type": "code",
   "execution_count": 145,
   "metadata": {},
   "outputs": [
    {
     "data": {
      "text/plain": [
       "['__class__',\n",
       " '__delattr__',\n",
       " '__dict__',\n",
       " '__dir__',\n",
       " '__doc__',\n",
       " '__eq__',\n",
       " '__format__',\n",
       " '__ge__',\n",
       " '__getattribute__',\n",
       " '__getstate__',\n",
       " '__gt__',\n",
       " '__hash__',\n",
       " '__init__',\n",
       " '__init_subclass__',\n",
       " '__le__',\n",
       " '__lt__',\n",
       " '__module__',\n",
       " '__ne__',\n",
       " '__new__',\n",
       " '__reduce__',\n",
       " '__reduce_ex__',\n",
       " '__repr__',\n",
       " '__setattr__',\n",
       " '__setstate__',\n",
       " '__sizeof__',\n",
       " '__str__',\n",
       " '__subclasshook__',\n",
       " '__weakref__',\n",
       " '_add_text',\n",
       " '_adjustable',\n",
       " '_agg_filter',\n",
       " '_alpha',\n",
       " '_anchor',\n",
       " '_animated',\n",
       " '_aspect',\n",
       " '_autoscaleXon',\n",
       " '_autoscaleYon',\n",
       " '_axes',\n",
       " '_axes_class',\n",
       " '_axes_locator',\n",
       " '_axisbelow',\n",
       " '_cachedRenderer',\n",
       " '_clipon',\n",
       " '_clippath',\n",
       " '_connected',\n",
       " '_contains',\n",
       " '_current_image',\n",
       " '_facecolor',\n",
       " '_frameon',\n",
       " '_gci',\n",
       " '_gen_axes_patch',\n",
       " '_gen_axes_spines',\n",
       " '_get_axis_list',\n",
       " '_get_lines',\n",
       " '_get_patches_for_fill',\n",
       " '_get_view',\n",
       " '_gid',\n",
       " '_gridOn',\n",
       " '_hold',\n",
       " '_init_axis',\n",
       " '_label',\n",
       " '_layoutbox',\n",
       " '_left_title',\n",
       " '_make_twin_axes',\n",
       " '_mouseover',\n",
       " '_navigate',\n",
       " '_navigate_mode',\n",
       " '_oid',\n",
       " '_on_units_changed',\n",
       " '_originalPosition',\n",
       " '_path_effects',\n",
       " '_pcolorargs',\n",
       " '_picker',\n",
       " '_position',\n",
       " '_poslayoutbox',\n",
       " '_process_unit_info',\n",
       " '_prop_order',\n",
       " '_propobservers',\n",
       " '_quiver_units',\n",
       " '_rasterization_zorder',\n",
       " '_rasterized',\n",
       " '_remove_method',\n",
       " '_right_title',\n",
       " '_sci',\n",
       " '_set_artist_props',\n",
       " '_set_gc_clip',\n",
       " '_set_lim_and_transforms',\n",
       " '_set_position',\n",
       " '_set_title_offset_trans',\n",
       " '_set_view',\n",
       " '_set_view_from_bbox',\n",
       " '_shared_x_axes',\n",
       " '_shared_y_axes',\n",
       " '_sharex',\n",
       " '_sharey',\n",
       " '_sketch',\n",
       " '_snap',\n",
       " '_stale',\n",
       " '_sticky_edges',\n",
       " '_subplotspec',\n",
       " '_tight',\n",
       " '_transform',\n",
       " '_transformSet',\n",
       " '_twinned_axes',\n",
       " '_update_image_limits',\n",
       " '_update_line_limits',\n",
       " '_update_patch_limits',\n",
       " '_update_transScale',\n",
       " '_url',\n",
       " '_use_sticky_edges',\n",
       " '_validate_converted_limits',\n",
       " '_visible',\n",
       " '_xaxis_transform',\n",
       " '_xcid',\n",
       " '_xmargin',\n",
       " '_yaxis_transform',\n",
       " '_ycid',\n",
       " '_ymargin',\n",
       " 'acorr',\n",
       " 'add_artist',\n",
       " 'add_callback',\n",
       " 'add_collection',\n",
       " 'add_container',\n",
       " 'add_image',\n",
       " 'add_line',\n",
       " 'add_patch',\n",
       " 'add_table',\n",
       " 'aname',\n",
       " 'angle_spectrum',\n",
       " 'annotate',\n",
       " 'apply_aspect',\n",
       " 'arrow',\n",
       " 'artists',\n",
       " 'autoscale',\n",
       " 'autoscale_view',\n",
       " 'axes',\n",
       " 'axesPatch',\n",
       " 'axhline',\n",
       " 'axhspan',\n",
       " 'axis',\n",
       " 'axison',\n",
       " 'axvline',\n",
       " 'axvspan',\n",
       " 'bar',\n",
       " 'barbs',\n",
       " 'barh',\n",
       " 'bbox',\n",
       " 'boxplot',\n",
       " 'broken_barh',\n",
       " 'bxp',\n",
       " 'callbacks',\n",
       " 'can_pan',\n",
       " 'can_zoom',\n",
       " 'change_geometry',\n",
       " 'cla',\n",
       " 'clabel',\n",
       " 'clear',\n",
       " 'clipbox',\n",
       " 'cohere',\n",
       " 'colNum',\n",
       " 'collections',\n",
       " 'containers',\n",
       " 'contains',\n",
       " 'contains_point',\n",
       " 'contour',\n",
       " 'contourf',\n",
       " 'convert_xunits',\n",
       " 'convert_yunits',\n",
       " 'csd',\n",
       " 'dataLim',\n",
       " 'drag_pan',\n",
       " 'draw',\n",
       " 'draw_artist',\n",
       " 'end_pan',\n",
       " 'errorbar',\n",
       " 'eventplot',\n",
       " 'eventson',\n",
       " 'figbox',\n",
       " 'figure',\n",
       " 'fill',\n",
       " 'fill_between',\n",
       " 'fill_betweenx',\n",
       " 'findobj',\n",
       " 'fmt_xdata',\n",
       " 'fmt_ydata',\n",
       " 'format_coord',\n",
       " 'format_cursor_data',\n",
       " 'format_xdata',\n",
       " 'format_ydata',\n",
       " 'get_adjustable',\n",
       " 'get_agg_filter',\n",
       " 'get_alpha',\n",
       " 'get_anchor',\n",
       " 'get_animated',\n",
       " 'get_aspect',\n",
       " 'get_autoscale_on',\n",
       " 'get_autoscalex_on',\n",
       " 'get_autoscaley_on',\n",
       " 'get_axes_locator',\n",
       " 'get_axisbelow',\n",
       " 'get_children',\n",
       " 'get_clip_box',\n",
       " 'get_clip_on',\n",
       " 'get_clip_path',\n",
       " 'get_contains',\n",
       " 'get_cursor_data',\n",
       " 'get_cursor_props',\n",
       " 'get_data_ratio',\n",
       " 'get_data_ratio_log',\n",
       " 'get_default_bbox_extra_artists',\n",
       " 'get_facecolor',\n",
       " 'get_fc',\n",
       " 'get_figure',\n",
       " 'get_frame_on',\n",
       " 'get_geometry',\n",
       " 'get_gid',\n",
       " 'get_images',\n",
       " 'get_label',\n",
       " 'get_legend',\n",
       " 'get_legend_handles_labels',\n",
       " 'get_lines',\n",
       " 'get_navigate',\n",
       " 'get_navigate_mode',\n",
       " 'get_path_effects',\n",
       " 'get_picker',\n",
       " 'get_position',\n",
       " 'get_rasterization_zorder',\n",
       " 'get_rasterized',\n",
       " 'get_renderer_cache',\n",
       " 'get_shared_x_axes',\n",
       " 'get_shared_y_axes',\n",
       " 'get_sketch_params',\n",
       " 'get_snap',\n",
       " 'get_subplotspec',\n",
       " 'get_tightbbox',\n",
       " 'get_title',\n",
       " 'get_transform',\n",
       " 'get_transformed_clip_path_and_affine',\n",
       " 'get_url',\n",
       " 'get_visible',\n",
       " 'get_window_extent',\n",
       " 'get_xaxis',\n",
       " 'get_xaxis_text1_transform',\n",
       " 'get_xaxis_text2_transform',\n",
       " 'get_xaxis_transform',\n",
       " 'get_xbound',\n",
       " 'get_xgridlines',\n",
       " 'get_xlabel',\n",
       " 'get_xlim',\n",
       " 'get_xmajorticklabels',\n",
       " 'get_xminorticklabels',\n",
       " 'get_xscale',\n",
       " 'get_xticklabels',\n",
       " 'get_xticklines',\n",
       " 'get_xticks',\n",
       " 'get_yaxis',\n",
       " 'get_yaxis_text1_transform',\n",
       " 'get_yaxis_text2_transform',\n",
       " 'get_yaxis_transform',\n",
       " 'get_ybound',\n",
       " 'get_ygridlines',\n",
       " 'get_ylabel',\n",
       " 'get_ylim',\n",
       " 'get_ymajorticklabels',\n",
       " 'get_yminorticklabels',\n",
       " 'get_yscale',\n",
       " 'get_yticklabels',\n",
       " 'get_yticklines',\n",
       " 'get_yticks',\n",
       " 'get_zorder',\n",
       " 'grid',\n",
       " 'has_data',\n",
       " 'have_units',\n",
       " 'hexbin',\n",
       " 'hist',\n",
       " 'hist2d',\n",
       " 'hitlist',\n",
       " 'hlines',\n",
       " 'hold',\n",
       " 'ignore_existing_data_limits',\n",
       " 'images',\n",
       " 'imshow',\n",
       " 'in_axes',\n",
       " 'invert_xaxis',\n",
       " 'invert_yaxis',\n",
       " 'is_figure_set',\n",
       " 'is_first_col',\n",
       " 'is_first_row',\n",
       " 'is_last_col',\n",
       " 'is_last_row',\n",
       " 'is_transform_set',\n",
       " 'ishold',\n",
       " 'label_outer',\n",
       " 'legend',\n",
       " 'legend_',\n",
       " 'lines',\n",
       " 'locator_params',\n",
       " 'loglog',\n",
       " 'magnitude_spectrum',\n",
       " 'margins',\n",
       " 'matshow',\n",
       " 'minorticks_off',\n",
       " 'minorticks_on',\n",
       " 'mouseover',\n",
       " 'mouseover_set',\n",
       " 'name',\n",
       " 'numCols',\n",
       " 'numRows',\n",
       " 'patch',\n",
       " 'patches',\n",
       " 'pchanged',\n",
       " 'pcolor',\n",
       " 'pcolorfast',\n",
       " 'pcolormesh',\n",
       " 'phase_spectrum',\n",
       " 'pick',\n",
       " 'pickable',\n",
       " 'pie',\n",
       " 'plot',\n",
       " 'plot_date',\n",
       " 'properties',\n",
       " 'psd',\n",
       " 'quiver',\n",
       " 'quiverkey',\n",
       " 'redraw_in_frame',\n",
       " 'relim',\n",
       " 'remove',\n",
       " 'remove_callback',\n",
       " 'reset_position',\n",
       " 'rowNum',\n",
       " 'scatter',\n",
       " 'semilogx',\n",
       " 'semilogy',\n",
       " 'set',\n",
       " 'set_adjustable',\n",
       " 'set_agg_filter',\n",
       " 'set_alpha',\n",
       " 'set_anchor',\n",
       " 'set_animated',\n",
       " 'set_aspect',\n",
       " 'set_autoscale_on',\n",
       " 'set_autoscalex_on',\n",
       " 'set_autoscaley_on',\n",
       " 'set_axes_locator',\n",
       " 'set_axis_off',\n",
       " 'set_axis_on',\n",
       " 'set_axisbelow',\n",
       " 'set_clip_box',\n",
       " 'set_clip_on',\n",
       " 'set_clip_path',\n",
       " 'set_color_cycle',\n",
       " 'set_contains',\n",
       " 'set_cursor_props',\n",
       " 'set_facecolor',\n",
       " 'set_fc',\n",
       " 'set_figure',\n",
       " 'set_frame_on',\n",
       " 'set_gid',\n",
       " 'set_label',\n",
       " 'set_navigate',\n",
       " 'set_navigate_mode',\n",
       " 'set_path_effects',\n",
       " 'set_picker',\n",
       " 'set_position',\n",
       " 'set_prop_cycle',\n",
       " 'set_rasterization_zorder',\n",
       " 'set_rasterized',\n",
       " 'set_sketch_params',\n",
       " 'set_snap',\n",
       " 'set_subplotspec',\n",
       " 'set_title',\n",
       " 'set_transform',\n",
       " 'set_url',\n",
       " 'set_visible',\n",
       " 'set_xbound',\n",
       " 'set_xlabel',\n",
       " 'set_xlim',\n",
       " 'set_xmargin',\n",
       " 'set_xscale',\n",
       " 'set_xticklabels',\n",
       " 'set_xticks',\n",
       " 'set_ybound',\n",
       " 'set_ylabel',\n",
       " 'set_ylim',\n",
       " 'set_ymargin',\n",
       " 'set_yscale',\n",
       " 'set_yticklabels',\n",
       " 'set_yticks',\n",
       " 'set_zorder',\n",
       " 'specgram',\n",
       " 'spines',\n",
       " 'spy',\n",
       " 'stackplot',\n",
       " 'stale',\n",
       " 'stale_callback',\n",
       " 'start_pan',\n",
       " 'stem',\n",
       " 'step',\n",
       " 'sticky_edges',\n",
       " 'streamplot',\n",
       " 'table',\n",
       " 'tables',\n",
       " 'text',\n",
       " 'texts',\n",
       " 'tick_params',\n",
       " 'ticklabel_format',\n",
       " 'title',\n",
       " 'titleOffsetTrans',\n",
       " 'transAxes',\n",
       " 'transData',\n",
       " 'transLimits',\n",
       " 'transScale',\n",
       " 'tricontour',\n",
       " 'tricontourf',\n",
       " 'tripcolor',\n",
       " 'triplot',\n",
       " 'twinx',\n",
       " 'twiny',\n",
       " 'update',\n",
       " 'update_datalim',\n",
       " 'update_datalim_bounds',\n",
       " 'update_from',\n",
       " 'update_params',\n",
       " 'use_sticky_edges',\n",
       " 'viewLim',\n",
       " 'violin',\n",
       " 'violinplot',\n",
       " 'vlines',\n",
       " 'xaxis',\n",
       " 'xaxis_date',\n",
       " 'xaxis_inverted',\n",
       " 'xcorr',\n",
       " 'yaxis',\n",
       " 'yaxis_date',\n",
       " 'yaxis_inverted',\n",
       " 'zorder']"
      ]
     },
     "execution_count": 145,
     "metadata": {},
     "output_type": "execute_result"
    }
   ],
   "source": [
    "dir(ax1)"
   ]
  },
  {
   "cell_type": "code",
   "execution_count": 142,
   "metadata": {},
   "outputs": [
    {
     "data": {
      "text/plain": [
       "<matplotlib.axes._subplots.AxesSubplot at 0x1af62f53d68>"
      ]
     },
     "execution_count": 142,
     "metadata": {},
     "output_type": "execute_result"
    },
    {
     "data": {
      "image/png": "[encoded data removed]",
      "text/plain": [
       "<Figure size 432x288 with 1 Axes>"
      ]
     },
     "metadata": {
      "needs_background": "light"
     },
     "output_type": "display_data"
    }
   ],
   "source": [
    "sns.barplot(x=df_neigh['month'],y=df_neigh['price'],color='blue')"
   ]
  },
  {
   "cell_type": "code",
   "execution_count": 85,
   "metadata": {},
   "outputs": [
    {
     "data": {
      "text/plain": [
       "<matplotlib.axes._subplots.AxesSubplot at 0x1af3c135710>"
      ]
     },
     "execution_count": 85,
     "metadata": {},
     "output_type": "execute_result"
    }
   ],
   "source": [
    "sns.boxplot(y=df_hot_neigh['price'],x=df_hot_neigh['month'],showfliers=False,ax=ax2)"
   ]
  },
  {
   "cell_type": "code",
   "execution_count": 86,
   "metadata": {},
   "outputs": [
    {
     "data": {
      "text/plain": [
       "<matplotlib.axes._subplots.AxesSubplot at 0x1af3c16e978>"
      ]
     },
     "execution_count": 86,
     "metadata": {},
     "output_type": "execute_result"
    }
   ],
   "source": [
    "sns.boxplot(y=df_cal['price'],x=df_cal['month'],showfliers=False,ax=ax1)"
   ]
  },
  {
   "cell_type": "code",
   "execution_count": null,
   "metadata": {},
   "outputs": [],
   "source": []
  },
  {
   "cell_type": "code",
   "execution_count": null,
   "metadata": {},
   "outputs": [],
   "source": [
    "sns.factorplot()"
   ]
  },
  {
   "cell_type": "code",
   "execution_count": null,
   "metadata": {},
   "outputs": [],
   "source": []
  },
  {
   "cell_type": "code",
   "execution_count": 68,
   "metadata": {},
   "outputs": [],
   "source": [
    "grid = plt.gridspec.GridSpec(2,3)"
   ]
  },
  {
   "cell_type": "code",
   "execution_count": 71,
   "metadata": {},
   "outputs": [],
   "source": [
    "fig = plt.figure.Figure(figsize=(6, 6))\n",
    "grid = plt.gridspec.GridSpec(2, 3, hspace=0.2, wspace=0.2)"
   ]
  },
  {
   "cell_type": "code",
   "execution_count": 2,
   "metadata": {},
   "outputs": [],
   "source": [
    "#### NOTE - Need to standardize price and normalize other features (i.e bedrooms ) for model analysis"
   ]
  },
  {
   "cell_type": "code",
   "execution_count": null,
   "metadata": {},
   "outputs": [],
   "source": [
    "## try to log transform price data to unskew."
   ]
  },
  {
   "cell_type": "code",
   "execution_count": null,
   "metadata": {},
   "outputs": [],
   "source": []
  }
 ],
 "metadata": {
  "kernelspec": {
   "display_name": "Python 3",
   "language": "python",
   "name": "python3"
  },
  "language_info": {
   "codemirror_mode": {
    "name": "ipython",
    "version": 3
   },
   "file_extension": ".py",
   "mimetype": "text/x-python",
   "name": "python",
   "nbconvert_exporter": "python",
   "pygments_lexer": "ipython3",
   "version": "3.6.4"
  }
 },
 "nbformat": 4,
 "nbformat_minor": 2
}
