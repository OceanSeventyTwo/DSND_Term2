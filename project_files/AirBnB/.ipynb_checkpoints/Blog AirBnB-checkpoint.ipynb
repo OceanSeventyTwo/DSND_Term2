{
 "cells": [
  {
   "cell_type": "markdown",
   "metadata": {},
   "source": [
    "# AirBnB Project for  **Project: Write A Data Science Blog Post**"
   ]
  },
  {
   "cell_type": "markdown",
   "metadata": {},
   "source": [
    "### 0.1  Key Steps for Project"
   ]
  },
  {
   "cell_type": "markdown",
   "metadata": {},
   "source": [
    "Feel free to be creative with your solutions, but do follow the CRISP-DM process in finding your solutions.\n",
    "\n",
    "1) Pick a dataset.\n",
    "   I chose the AirBnnB dataset.  Because why not..\n",
    "\n",
    "2) Pose at least three questions related to business or real-world applications of how the data could be used.\n",
    "\n",
    "3) Create a Jupyter Notebook, using any associated packages you'd like, to:\n",
    "\n",
    "    Prepare data:\n",
    "        Gather necessary data to answer your questions\n",
    "        Handle categorical and missing data\n",
    "        Provide insight into the methods you chose and why you chose them\n",
    "\n",
    "    Analyze, Model, and Visualize\n",
    "        Provide a clear connection between your business questions and how the data answers them.\n",
    "\n",
    "4) Communicate your business insights:\n",
    "\n",
    "    Create a Github repository to share your code and data wrangling/modeling techniques, with a technical audience in mind\n",
    "    Create a blog post to share your questions and insights with a non-technical audience\n",
    "\n",
    "Your deliverables will be a Github repo and a blog post. Use the rubric here to assist in successfully completing this project!"
   ]
  },
  {
   "cell_type": "markdown",
   "metadata": {},
   "source": [
    "## 0.2 [Rubric](https://review.udacity.com/#!/rubrics/1507/view)"
   ]
  },
  {
   "cell_type": "markdown",
   "metadata": {},
   "source": [
    "#### Code Functionality and Readability\n",
    "* Code is readable (uses good coding practices - PEP8) \n",
    "* Code is functional.\n",
    "* Write code that is well documented and uses functions and classes as necessary.\n",
    "\n",
    "#### Data\n",
    "* Project follows the CRISP-DM Process while analyzing their data.\n",
    "* Proper handling of categorical and missing values in the dataset.\n",
    "* Categorical variables are handled appropriately for machine learning models (if models are created). \n",
    "\n",
    "#### Analysis, Modeling, Visualization\n",
    "* There are 3-5 business questions answered.\n",
    "\t\n",
    "#### Github Repository\n",
    "* Student must publish their code in a public Github repository.\n",
    "\t\n",
    "#### Blog Post\n",
    "* Communicate their findings with stakeholders.\n",
    "* There should be an intriguing title and image related to the project.\n",
    "* The body of the post has paragraphs that are broken up by appropriate white space and images.\n",
    "* Each question has a clearly communicated solution."
   ]
  },
  {
   "cell_type": "markdown",
   "metadata": {},
   "source": [
    "##  0.3  CRISP-DM\n",
    "### 0.3.1 Business Understanding/Data Understanding\n",
    "          AirBnB is an online marketplace for vacation/temporary houseing rentals.  Thier members/hosts own the property and rent via the  AirBnB marketplace.\n",
    "          \n",
    "          The data provides was provided each from Seattle and Bostom\n",
    "          * listing.csv\n",
    "          * calendar.csv\n",
    "          * reviews.csv\n",
    "          \n",
    "          How to best position your property to make the most revenue?\n",
    "          1) Know your capacity?   Waht neighborhoods/property type sell better?\n",
    "          2) What time of year is best to make your property availible to get the most money?\n",
    "          3) What do you need in your profile to garuntee your property is reviewed and reviewed high\n",
    "          \n",
    "          \n",
    "### 0.3.2 Data Preparation\n",
    "        1) Calendar has all the pricing by day.  This will in one way or another be our y vaules for question 1 and 2\n",
    "        2) \n",
    "        \n",
    "        \n",
    "     \n",
    "#### 0.3.2.1 Cleaning Data\n",
    "        * \n",
    "### 0.3.3 Modeling\n",
    "### 0.3.4 Evaluation\n",
    "### 0.3.5 Deployment"
   ]
  },
  {
   "cell_type": "markdown",
   "metadata": {},
   "source": [
    "## 1.1 Header"
   ]
  },
  {
   "cell_type": "code",
   "execution_count": 251,
   "metadata": {},
   "outputs": [],
   "source": [
    "%matplotlib inline\n",
    "import pandas as pd\n",
    "import numpy as np\n",
    "import os.path as op\n",
    "import ast\n",
    "import math\n",
    "import os\n",
    "from datetime import date\n",
    "import seaborn as sns\n",
    "from sklearn.linear_model import LinearRegression\n",
    "from sklearn.model_selection import train_test_split\n",
    "from sklearn.metrics import r2_score, mean_squared_error"
   ]
  },
  {
   "cell_type": "code",
   "execution_count": 252,
   "metadata": {},
   "outputs": [
    {
     "data": {
      "text/plain": [
       "'C:\\\\Users\\\\tcanty\\\\Documents\\\\Udacity\\\\DSND_Term2\\\\project_files\\\\AirBnB\\\\All Data'"
      ]
     },
     "execution_count": 252,
     "metadata": {},
     "output_type": "execute_result"
    }
   ],
   "source": [
    "PATH = os.getcwd()+\"\\All Data\"\n",
    "PATH"
   ]
  },
  {
   "cell_type": "code",
   "execution_count": 253,
   "metadata": {},
   "outputs": [
    {
     "data": {
      "text/plain": [
       "['.ipynb_checkpoints',\n",
       " 'b_calendar.csv',\n",
       " 'b_listings.csv',\n",
       " 'b_reviews.csv',\n",
       " 's_calendar.csv',\n",
       " 's_listings.csv',\n",
       " 's_reviews.csv']"
      ]
     },
     "execution_count": 253,
     "metadata": {},
     "output_type": "execute_result"
    }
   ],
   "source": [
    "os.listdir(PATH)"
   ]
  },
  {
   "cell_type": "code",
   "execution_count": null,
   "metadata": {},
   "outputs": [],
   "source": []
  },
  {
   "cell_type": "code",
   "execution_count": null,
   "metadata": {},
   "outputs": [],
   "source": []
  },
  {
   "cell_type": "code",
   "execution_count": 254,
   "metadata": {},
   "outputs": [],
   "source": [
    "def clean_listings(df):\n",
    "    ''' Return a cleaned dataframe derived from listing.csv file\n",
    "\n",
    "    1) Fixes Datetime cols -> datetime format\n",
    "    2) Fixes percentage strings to float\n",
    "    3) Fixes bool strings to bool cols\n",
    "    4) Fixes datatype of oject to categories were appropraite\n",
    "    5) \n",
    "\n",
    "    Parameters\n",
    "    -------\n",
    "    df:  Pandas DataFrame with an already imported lsiting.csv\n",
    "\n",
    "    '''\n",
    "\n",
    "    ## Clean percentage strings to float values\n",
    "    pct_col = ['host_acceptance_rate','host_response_rate']\n",
    "    for pc in pct_col:\n",
    "        df[pc] = df[pc].str.strip(\"%\")\n",
    "        df[pc] = df[pc].astype('float')\n",
    "        df[pc] = df[pc].apply(lambda x: x/100)\n",
    "        #df[pc] = df[pc].map('{:,.2%}'.format)\n",
    "        \n",
    "    ## Clean dollar strings to value\n",
    "\n",
    "    dol_col = ['price','weekly_price','monthly_price','security_deposit','cleaning_fee','extra_people']\n",
    "    for dol in dol_col:\n",
    "        df[dol] = df[dol].str.replace('$','')\n",
    "        df[dol] = df[dol].str.replace(',','')\n",
    "        df[dol] = df[dol].astype('float')\n",
    "        #df[dol] = df[dol].map('${:,.2f}'.format)\n",
    "        \n",
    "    ## Change type to category\n",
    "    cat_col = ['host_response_time','host_location','host_neighbourhood','neighbourhood',\n",
    "               'neighbourhood_cleansed','neighbourhood_group_cleansed','city','state','zipcode',\n",
    "              'market','smart_location','country_code','country','property_type','room_type',\n",
    "              'calendar_updated','jurisdiction_names','cancellation_policy','bed_type']\n",
    "    \n",
    "    for cc in cat_col:\n",
    "        df[cc] = df[cc].astype('category')\n",
    "  \n",
    "\n",
    "    ## Fix Boolean Columns\n",
    "    bool_col = ['host_is_superhost','host_has_profile_pic','host_identity_verified',\n",
    "                'is_location_exact','has_availability','requires_license','instant_bookable',\n",
    "               'require_guest_profile_picture','require_guest_phone_verification']\n",
    "    for bc in bool_col:\n",
    "        df[bc] = df[bc].replace({'t': True,'f':False})\n",
    "        df[bc] = df[bc].astype(bool)\n",
    "\n",
    "    ## Fix Datetime columns\n",
    "    dt_col = ['last_scraped','host_since','calendar_last_scraped','first_review','last_review']\n",
    "    for dt in dt_col:\n",
    "        df[dt] = pd.to_datetime(df[dt])\n",
    "\n",
    "    ## Fix list column\n",
    "    ## The following code transforms column 'host_verification' to a usable matrix of \n",
    "    ##     one hot encoding the contained communicaiton methods\n",
    "    \n",
    "    \n",
    "    df2 = pd.DataFrame(df['host_verifications'].apply(lambda x:ast.literal_eval(x)))  # string to list #\n",
    "    df3 = df2.host_verifications.apply(pd.Series)                                   # list -> series across columns #\n",
    "    df2 = df2.merge(df3, right_index=True, left_index=True)\n",
    "    df2 = df2.reset_index().melt(id_vars=['id','host_verifications'],value_name = 'host_sm_ver')\n",
    "    df2 = df2.pivot_table(values='variable',columns='host_sm_ver',index='id',aggfunc='count',fill_value=0)\n",
    "    df2 = df2.add_prefix('hv_')\n",
    "    df = df.merge(df2,left_index=True, right_index=True)\n",
    "\n",
    "    \n",
    "    \n",
    "    df4 = pd.DataFrame(df_listing['amenities'].apply(lambda x:\n",
    "                           x.replace('\\\"','').replace('{','').replace('}','').split(',')))\n",
    "    df5 = df4.iloc[:,0].apply(pd.Series)\n",
    "    df4 = df4.merge(df5,left_index=True,right_index=True)\n",
    "    df4 = df4.reset_index().melt(id_vars=['id','amenities'],value_name = 'amms')\n",
    "    df4 = df4.pivot_table(values='variable',columns='amms',index='id',aggfunc='count',fill_value=0)\n",
    "    df4 = df4.add_prefix('amm_')\n",
    "    df = df.merge(df4,left_index=True, right_index=True)\n",
    "    \n",
    "    ## Creates new data columns indicating whether this data is contained in the \n",
    "    \n",
    "    \n",
    "    str_cols = ['summary', 'space', 'neighborhood_overview', 'notes', 'transit',\n",
    "   'thumbnail_url', 'medium_url', 'xl_picture_url', 'host_about']\n",
    "    \n",
    "    def replace_str(x):\n",
    "        if type(x) == float:\n",
    "            if  math.isnan(x):\n",
    "                return False\n",
    "        else: return True\n",
    "    \n",
    "    \n",
    "    df_listed_attributes = pd.DataFrame()\n",
    "    for col in str_cols:\n",
    "        df_listed_attributes[col] = df[col].apply(lambda x: replace_str(x))\n",
    "        df_listed_attributes[col] = df_listed_attributes[col].astype('bool')\n",
    "    \n",
    "    df_listed_attributes = df_listed_attributes.add_prefix('attr_')\n",
    "    df = df.merge(df_listed_attributes,left_index=True,right_index=True)\n",
    "    df = df.drop(columns=str_cols)\n",
    "    ## Drop Columns\n",
    "    '''Reasons\n",
    "    All N/A: licence\n",
    "    No N/A: listing_url\n",
    "    onehot: host_verifications\n",
    "    am\n",
    "    \n",
    "    \n",
    "    '''\n",
    "    drop_cols = ['license','host_verifications','amenities'] \n",
    "    df = df.drop(columns=drop_cols)\n",
    "    return df\n"
   ]
  },
  {
   "cell_type": "code",
   "execution_count": 255,
   "metadata": {},
   "outputs": [],
   "source": [
    "def clean_cal(df):\n",
    "    ''' Return a cleaned dataframe derived from listing.csv file\n",
    "\n",
    "    1) Fixes Datetime cols -> datetime format\n",
    "    2) Fixes percentage strings to float\n",
    "    3) Fixes bool strings to bool cols\n",
    "    4) Fixes datatype of oject to categories were appropraite\n",
    "    5) \n",
    "\n",
    "    Parameters\n",
    "    -------\n",
    "    df:  Pandas DataFrame with an already imported lsiting.csv\n",
    "\n",
    "    '''\n",
    "    dol_col= ['price']\n",
    "    for dol in dol_col:\n",
    "        df[dol] = df[dol].str.replace('$','')\n",
    "        df[dol] = df[dol].str.replace(',','')\n",
    "        df[dol] = df[dol].astype('float')\n",
    "        \n",
    "    ## Fix Datetime columns\n",
    "    dt_col = ['date']\n",
    "    for dt in dt_col:\n",
    "        df[dt] = pd.to_datetime(df[dt])\n",
    "\n",
    "    ## Fix Bool Columns\n",
    "\n",
    "    bool_col = ['available']\n",
    "    for bc in bool_col:\n",
    "        df[bc] = df[bc].replace({'t': True,'f':False})\n",
    "        df[bc] = df[bc].astype(bool)\n",
    "\n",
    "    return df"
   ]
  },
  {
   "cell_type": "code",
   "execution_count": 256,
   "metadata": {},
   "outputs": [],
   "source": [
    "df_listing = pd.read_csv(PATH+'\\s_listings.csv',index_col=0)"
   ]
  },
  {
   "cell_type": "code",
   "execution_count": 257,
   "metadata": {},
   "outputs": [
    {
     "name": "stderr",
     "output_type": "stream",
     "text": [
      "C:\\Users\\tcanty\\AppData\\Local\\Continuum\\anaconda3\\lib\\site-packages\\numpy\\lib\\arraysetops.py:522: FutureWarning: elementwise comparison failed; returning scalar instead, but in the future will perform elementwise comparison\n",
      "  mask |= (ar1 == a)\n"
     ]
    }
   ],
   "source": [
    "df_cal = pd.read_csv(PATH+'\\s_calendar.csv',index_col=0)"
   ]
  },
  {
   "cell_type": "code",
   "execution_count": 258,
   "metadata": {},
   "outputs": [],
   "source": [
    "df_listing = clean_listings(df_listing)"
   ]
  },
  {
   "cell_type": "code",
   "execution_count": 259,
   "metadata": {},
   "outputs": [],
   "source": [
    "df_cal = clean_cal(df_cal)"
   ]
  },
  {
   "cell_type": "code",
   "execution_count": 260,
   "metadata": {},
   "outputs": [],
   "source": [
    "df_cal['week_num'] = df_cal['date'].apply(lambda x: date.isocalendar(x)[1])"
   ]
  },
  {
   "cell_type": "code",
   "execution_count": 261,
   "metadata": {},
   "outputs": [],
   "source": [
    "df_cal['month'] = df_cal['date'].apply(lambda x: x.month)"
   ]
  },
  {
   "cell_type": "code",
   "execution_count": 262,
   "metadata": {},
   "outputs": [],
   "source": [
    "df_cal['year'] = df_cal['date'].apply(lambda x: x.year)"
   ]
  },
  {
   "cell_type": "code",
   "execution_count": null,
   "metadata": {},
   "outputs": [],
   "source": []
  },
  {
   "cell_type": "code",
   "execution_count": 263,
   "metadata": {},
   "outputs": [
    {
     "data": {
      "text/plain": [
       "<matplotlib.axes._subplots.AxesSubplot at 0x2731380aeb8>"
      ]
     },
     "execution_count": 263,
     "metadata": {},
     "output_type": "execute_result"
    },
    {
     "data": {
      "image/png": "[encoded data removed]",
      "text/plain": [
       "<Figure size 432x288 with 1 Axes>"
      ]
     },
     "metadata": {
      "needs_background": "light"
     },
     "output_type": "display_data"
    }
   ],
   "source": [
    "pd.DataFrame(df_cal.groupby(['month'])['price'].mean()).plot()"
   ]
  },
  {
   "cell_type": "markdown",
   "metadata": {},
   "source": [
    "import matplotlib.pyplot as plt"
   ]
  },
  {
   "cell_type": "code",
   "execution_count": 264,
   "metadata": {},
   "outputs": [
    {
     "name": "stderr",
     "output_type": "stream",
     "text": [
      "C:\\Users\\tcanty\\AppData\\Local\\Continuum\\anaconda3\\lib\\site-packages\\scipy\\stats\\stats.py:1713: FutureWarning: Using a non-tuple sequence for multidimensional indexing is deprecated; use `arr[tuple(seq)]` instead of `arr[seq]`. In the future this will be interpreted as an array index, `arr[np.array(seq)]`, which will result either in an error or a different result.\n",
      "  return np.add.reduce(sorted[indexer] * weights, axis=axis) / sumval\n"
     ]
    },
    {
     "data": {
      "image/png": "[encoded data removed]",
      "text/plain": [
       "<Figure size 432x288 with 1 Axes>"
      ]
     },
     "metadata": {
      "needs_background": "light"
     },
     "output_type": "display_data"
    }
   ],
   "source": [
    "ax1 = sns.lineplot(x=df_cal['week_num'],y=df_cal['price'])"
   ]
  },
  {
   "cell_type": "code",
   "execution_count": 265,
   "metadata": {},
   "outputs": [
    {
     "data": {
      "image/png": "[encoded data removed]",
      "text/plain": [
       "<Figure size 432x288 with 1 Axes>"
      ]
     },
     "metadata": {
      "needs_background": "light"
     },
     "output_type": "display_data"
    }
   ],
   "source": [
    "ax1 = sns.boxplot(y=df_cal['price'],x=df_cal['month'],)"
   ]
  },
  {
   "cell_type": "code",
   "execution_count": 266,
   "metadata": {},
   "outputs": [],
   "source": [
    "df_avg_price = pd.DataFrame(df_cal.groupby(by=['listing_id'])['price'].mean())"
   ]
  },
  {
   "cell_type": "code",
   "execution_count": 267,
   "metadata": {},
   "outputs": [],
   "source": [
    "df_data = df_avg_price.merge(df_listing,left_index=True,right_index=True)"
   ]
  },
  {
   "cell_type": "code",
   "execution_count": 268,
   "metadata": {},
   "outputs": [
    {
     "data": {
      "text/plain": [
       "8.777437597440422"
      ]
     },
     "execution_count": 268,
     "metadata": {},
     "output_type": "execute_result"
    }
   ],
   "source": [
    "diff = df_data['price_x']-df_data['price_y']\n",
    "diff.mean()"
   ]
  },
  {
   "cell_type": "code",
   "execution_count": 269,
   "metadata": {},
   "outputs": [],
   "source": [
    "df_data = df_data.dropna(axis=0,subset=['price_x'])"
   ]
  },
  {
   "cell_type": "code",
   "execution_count": 270,
   "metadata": {},
   "outputs": [
    {
     "data": {
      "text/html": [
       "<div>\n",
       "<style scoped>\n",
       "    .dataframe tbody tr th:only-of-type {\n",
       "        vertical-align: middle;\n",
       "    }\n",
       "\n",
       "    .dataframe tbody tr th {\n",
       "        vertical-align: top;\n",
       "    }\n",
       "\n",
       "    .dataframe thead th {\n",
       "        text-align: right;\n",
       "    }\n",
       "</style>\n",
       "<table border=\"1\" class=\"dataframe\">\n",
       "  <thead>\n",
       "    <tr style=\"text-align: right;\">\n",
       "      <th></th>\n",
       "      <th>amm_Iron</th>\n",
       "      <th>amm_Kitchen</th>\n",
       "      <th>amm_Laptop Friendly Workspace</th>\n",
       "      <th>amm_Lock on Bedroom Door</th>\n",
       "      <th>amm_Other pet(s)</th>\n",
       "      <th>amm_Pets Allowed</th>\n",
       "      <th>amm_Pets live on this property</th>\n",
       "      <th>amm_Pool</th>\n",
       "      <th>amm_Safety Card</th>\n",
       "      <th>amm_Shampoo</th>\n",
       "    </tr>\n",
       "  </thead>\n",
       "  <tbody>\n",
       "    <tr>\n",
       "      <th>3335</th>\n",
       "      <td>0</td>\n",
       "      <td>1</td>\n",
       "      <td>0</td>\n",
       "      <td>0</td>\n",
       "      <td>1</td>\n",
       "      <td>0</td>\n",
       "      <td>1</td>\n",
       "      <td>0</td>\n",
       "      <td>0</td>\n",
       "      <td>0</td>\n",
       "    </tr>\n",
       "    <tr>\n",
       "      <th>4291</th>\n",
       "      <td>0</td>\n",
       "      <td>0</td>\n",
       "      <td>0</td>\n",
       "      <td>0</td>\n",
       "      <td>0</td>\n",
       "      <td>0</td>\n",
       "      <td>0</td>\n",
       "      <td>0</td>\n",
       "      <td>0</td>\n",
       "      <td>1</td>\n",
       "    </tr>\n",
       "    <tr>\n",
       "      <th>5682</th>\n",
       "      <td>1</td>\n",
       "      <td>1</td>\n",
       "      <td>1</td>\n",
       "      <td>0</td>\n",
       "      <td>0</td>\n",
       "      <td>0</td>\n",
       "      <td>0</td>\n",
       "      <td>0</td>\n",
       "      <td>0</td>\n",
       "      <td>1</td>\n",
       "    </tr>\n",
       "    <tr>\n",
       "      <th>6606</th>\n",
       "      <td>0</td>\n",
       "      <td>1</td>\n",
       "      <td>0</td>\n",
       "      <td>0</td>\n",
       "      <td>0</td>\n",
       "      <td>0</td>\n",
       "      <td>1</td>\n",
       "      <td>0</td>\n",
       "      <td>0</td>\n",
       "      <td>1</td>\n",
       "    </tr>\n",
       "    <tr>\n",
       "      <th>7369</th>\n",
       "      <td>1</td>\n",
       "      <td>1</td>\n",
       "      <td>1</td>\n",
       "      <td>0</td>\n",
       "      <td>0</td>\n",
       "      <td>0</td>\n",
       "      <td>0</td>\n",
       "      <td>0</td>\n",
       "      <td>0</td>\n",
       "      <td>1</td>\n",
       "    </tr>\n",
       "  </tbody>\n",
       "</table>\n",
       "</div>"
      ],
      "text/plain": [
       "      amm_Iron  amm_Kitchen  amm_Laptop Friendly Workspace  \\\n",
       "3335         0            1                              0   \n",
       "4291         0            0                              0   \n",
       "5682         1            1                              1   \n",
       "6606         0            1                              0   \n",
       "7369         1            1                              1   \n",
       "\n",
       "      amm_Lock on Bedroom Door  amm_Other pet(s)  amm_Pets Allowed  \\\n",
       "3335                         0                 1                 0   \n",
       "4291                         0                 0                 0   \n",
       "5682                         0                 0                 0   \n",
       "6606                         0                 0                 0   \n",
       "7369                         0                 0                 0   \n",
       "\n",
       "      amm_Pets live on this property  amm_Pool  amm_Safety Card  amm_Shampoo  \n",
       "3335                               1         0                0            0  \n",
       "4291                               0         0                0            1  \n",
       "5682                               0         0                0            1  \n",
       "6606                               1         0                0            1  \n",
       "7369                               0         0                0            1  "
      ]
     },
     "execution_count": 270,
     "metadata": {},
     "output_type": "execute_result"
    }
   ],
   "source": [
    "df_data.select_dtypes(include='int64').iloc[:,50:60].head()"
   ]
  },
  {
   "cell_type": "code",
   "execution_count": 271,
   "metadata": {},
   "outputs": [
    {
     "data": {
      "text/plain": [
       "81"
      ]
     },
     "execution_count": 271,
     "metadata": {},
     "output_type": "execute_result"
    }
   ],
   "source": [
    "df_data['neighbourhood'].nunique()"
   ]
  },
  {
   "cell_type": "code",
   "execution_count": 272,
   "metadata": {},
   "outputs": [
    {
     "data": {
      "text/plain": [
       "87"
      ]
     },
     "execution_count": 272,
     "metadata": {},
     "output_type": "execute_result"
    }
   ],
   "source": [
    "df_data['neighbourhood_cleansed'].nunique()"
   ]
  },
  {
   "cell_type": "code",
   "execution_count": 273,
   "metadata": {},
   "outputs": [
    {
     "data": {
      "text/plain": [
       "17"
      ]
     },
     "execution_count": 273,
     "metadata": {},
     "output_type": "execute_result"
    }
   ],
   "source": [
    "df_data['neighbourhood_group_cleansed'].nunique()"
   ]
  },
  {
   "cell_type": "code",
   "execution_count": 274,
   "metadata": {},
   "outputs": [],
   "source": [
    "ammenities = list(df_data.filter(like='amm').columns.values)"
   ]
  },
  {
   "cell_type": "code",
   "execution_count": 275,
   "metadata": {},
   "outputs": [],
   "source": [
    "physical_attr_loc = ['price_x','bathrooms','bedrooms','beds','neighbourhood','neighbourhood_cleansed',\n",
    "                     'neighbourhood_group_cleansed','property_type','room_type','bed_type',\n",
    "                    'accommodates','guests_included'] + ammenities"
   ]
  },
  {
   "cell_type": "code",
   "execution_count": 301,
   "metadata": {},
   "outputs": [],
   "source": [
    "df_data_p = df_data[physical_attr_loc]"
   ]
  },
  {
   "cell_type": "code",
   "execution_count": 302,
   "metadata": {},
   "outputs": [
    {
     "data": {
      "text/plain": [
       "False"
      ]
     },
     "execution_count": 302,
     "metadata": {},
     "output_type": "execute_result"
    }
   ],
   "source": [
    "df_data_p['price_x'].isna().any()"
   ]
  },
  {
   "cell_type": "code",
   "execution_count": 303,
   "metadata": {},
   "outputs": [
    {
     "data": {
      "text/plain": [
       "(3720, 54)"
      ]
     },
     "execution_count": 303,
     "metadata": {},
     "output_type": "execute_result"
    }
   ],
   "source": [
    "df_data_p.shape"
   ]
  },
  {
   "cell_type": "code",
   "execution_count": null,
   "metadata": {},
   "outputs": [],
   "source": []
  },
  {
   "cell_type": "code",
   "execution_count": 304,
   "metadata": {},
   "outputs": [],
   "source": [
    "# dropping neighbourhood columns because there are significannt # of N/A and there are other comparable columns\n",
    "df_data_p = df_data_p.drop(columns='neighbourhood')"
   ]
  },
  {
   "cell_type": "code",
   "execution_count": 305,
   "metadata": {},
   "outputs": [],
   "source": [
    "# drop rows with N/A for bathroom  - not enough data to impute easily.\n",
    "# Since it is a small number of rows and my analysis asks about choices made based on what is in the profile\n",
    "# I am removing these since \n",
    "df_data_p = df_data_p.drop(index=df_data_p.loc[df_data_p['bathrooms'].isna(),:].index )"
   ]
  },
  {
   "cell_type": "code",
   "execution_count": 306,
   "metadata": {},
   "outputs": [],
   "source": [
    "df_data_p = df_data_p.drop(index=df_data_p.loc[df_data_p['bedrooms'].isna(),:].index )"
   ]
  },
  {
   "cell_type": "code",
   "execution_count": 307,
   "metadata": {},
   "outputs": [],
   "source": [
    "df_data_p = df_data_p.drop(index=df_data_p.loc[df_data_p['property_type'].isna(),:].index )"
   ]
  },
  {
   "cell_type": "code",
   "execution_count": 308,
   "metadata": {},
   "outputs": [],
   "source": [
    "data_P_lmodel = LinearRegression()"
   ]
  },
  {
   "cell_type": "code",
   "execution_count": 309,
   "metadata": {},
   "outputs": [],
   "source": [
    "cat_col = list(df_data_p.select_dtypes(include='category').columns.values)"
   ]
  },
  {
   "cell_type": "code",
   "execution_count": 310,
   "metadata": {},
   "outputs": [],
   "source": [
    "df_data_p_d = df_data_p.merge(pd.get_dummies(df_data_p[cat_col],prefix_sep='::'),right_index=True, left_index=True,)"
   ]
  },
  {
   "cell_type": "code",
   "execution_count": 311,
   "metadata": {},
   "outputs": [],
   "source": [
    "df_data_p_d = df_data_p_d.drop(columns=cat_col)"
   ]
  },
  {
   "cell_type": "code",
   "execution_count": 312,
   "metadata": {},
   "outputs": [],
   "source": [
    "df_data_p__X = df_data_p_d.drop(columns='price_x')\n",
    "df_data_p_y = df_data_p_d['price_x']"
   ]
  },
  {
   "cell_type": "code",
   "execution_count": null,
   "metadata": {},
   "outputs": [],
   "source": []
  },
  {
   "cell_type": "code",
   "execution_count": 313,
   "metadata": {},
   "outputs": [],
   "source": [
    "pX_train, pX_test, py_train, py_test = train_test_split(df_data_p_X,df_data_p_y,test_size = 0.3,random_state=72)"
   ]
  },
  {
   "cell_type": "code",
   "execution_count": 314,
   "metadata": {},
   "outputs": [
    {
     "data": {
      "text/plain": [
       "LinearRegression(copy_X=True, fit_intercept=True, n_jobs=None,\n",
       "         normalize=False)"
      ]
     },
     "execution_count": 314,
     "metadata": {},
     "output_type": "execute_result"
    }
   ],
   "source": [
    "data_P_lmodel.fit(pX_train,py_train)"
   ]
  },
  {
   "cell_type": "code",
   "execution_count": 315,
   "metadata": {},
   "outputs": [],
   "source": [
    "py_predict = data_P_lmodel.predict(pX_test)"
   ]
  },
  {
   "cell_type": "code",
   "execution_count": 316,
   "metadata": {},
   "outputs": [
    {
     "data": {
      "text/plain": [
       "-0.0018050541176690693"
      ]
     },
     "execution_count": 316,
     "metadata": {},
     "output_type": "execute_result"
    }
   ],
   "source": [
    "r2_score(py_predict,py_test)"
   ]
  },
  {
   "cell_type": "code",
   "execution_count": 317,
   "metadata": {},
   "outputs": [
    {
     "data": {
      "text/html": [
       "<div>\n",
       "<style scoped>\n",
       "    .dataframe tbody tr th:only-of-type {\n",
       "        vertical-align: middle;\n",
       "    }\n",
       "\n",
       "    .dataframe tbody tr th {\n",
       "        vertical-align: top;\n",
       "    }\n",
       "\n",
       "    .dataframe thead th {\n",
       "        text-align: right;\n",
       "    }\n",
       "</style>\n",
       "<table border=\"1\" class=\"dataframe\">\n",
       "  <thead>\n",
       "    <tr style=\"text-align: right;\">\n",
       "      <th></th>\n",
       "      <th>est_int</th>\n",
       "      <th>coefs</th>\n",
       "      <th>abs_coefs</th>\n",
       "    </tr>\n",
       "  </thead>\n",
       "  <tbody>\n",
       "    <tr>\n",
       "      <th>167</th>\n",
       "      <td>room_type::Entire home/apt</td>\n",
       "      <td>3.330029e+13</td>\n",
       "      <td>3.330029e+13</td>\n",
       "    </tr>\n",
       "    <tr>\n",
       "      <th>168</th>\n",
       "      <td>room_type::Private room</td>\n",
       "      <td>3.330029e+13</td>\n",
       "      <td>3.330029e+13</td>\n",
       "    </tr>\n",
       "    <tr>\n",
       "      <th>169</th>\n",
       "      <td>room_type::Shared room</td>\n",
       "      <td>3.330029e+13</td>\n",
       "      <td>3.330029e+13</td>\n",
       "    </tr>\n",
       "    <tr>\n",
       "      <th>146</th>\n",
       "      <td>neighbourhood_group_cleansed::Queen Anne</td>\n",
       "      <td>5.495220e+12</td>\n",
       "      <td>5.495220e+12</td>\n",
       "    </tr>\n",
       "    <tr>\n",
       "      <th>153</th>\n",
       "      <td>property_type::Boat</td>\n",
       "      <td>5.299218e+12</td>\n",
       "      <td>5.299218e+12</td>\n",
       "    </tr>\n",
       "    <tr>\n",
       "      <th>156</th>\n",
       "      <td>property_type::Camper/RV</td>\n",
       "      <td>5.299218e+12</td>\n",
       "      <td>5.299218e+12</td>\n",
       "    </tr>\n",
       "    <tr>\n",
       "      <th>166</th>\n",
       "      <td>property_type::Yurt</td>\n",
       "      <td>5.299218e+12</td>\n",
       "      <td>5.299218e+12</td>\n",
       "    </tr>\n",
       "    <tr>\n",
       "      <th>154</th>\n",
       "      <td>property_type::Bungalow</td>\n",
       "      <td>5.299218e+12</td>\n",
       "      <td>5.299218e+12</td>\n",
       "    </tr>\n",
       "    <tr>\n",
       "      <th>161</th>\n",
       "      <td>property_type::Loft</td>\n",
       "      <td>5.299218e+12</td>\n",
       "      <td>5.299218e+12</td>\n",
       "    </tr>\n",
       "    <tr>\n",
       "      <th>155</th>\n",
       "      <td>property_type::Cabin</td>\n",
       "      <td>5.299218e+12</td>\n",
       "      <td>5.299218e+12</td>\n",
       "    </tr>\n",
       "    <tr>\n",
       "      <th>160</th>\n",
       "      <td>property_type::House</td>\n",
       "      <td>5.299218e+12</td>\n",
       "      <td>5.299218e+12</td>\n",
       "    </tr>\n",
       "    <tr>\n",
       "      <th>164</th>\n",
       "      <td>property_type::Townhouse</td>\n",
       "      <td>5.299218e+12</td>\n",
       "      <td>5.299218e+12</td>\n",
       "    </tr>\n",
       "    <tr>\n",
       "      <th>158</th>\n",
       "      <td>property_type::Condominium</td>\n",
       "      <td>5.299218e+12</td>\n",
       "      <td>5.299218e+12</td>\n",
       "    </tr>\n",
       "    <tr>\n",
       "      <th>151</th>\n",
       "      <td>property_type::Apartment</td>\n",
       "      <td>5.299218e+12</td>\n",
       "      <td>5.299218e+12</td>\n",
       "    </tr>\n",
       "    <tr>\n",
       "      <th>152</th>\n",
       "      <td>property_type::Bed &amp; Breakfast</td>\n",
       "      <td>5.299218e+12</td>\n",
       "      <td>5.299218e+12</td>\n",
       "    </tr>\n",
       "    <tr>\n",
       "      <th>157</th>\n",
       "      <td>property_type::Chalet</td>\n",
       "      <td>5.299218e+12</td>\n",
       "      <td>5.299218e+12</td>\n",
       "    </tr>\n",
       "    <tr>\n",
       "      <th>165</th>\n",
       "      <td>property_type::Treehouse</td>\n",
       "      <td>5.299218e+12</td>\n",
       "      <td>5.299218e+12</td>\n",
       "    </tr>\n",
       "    <tr>\n",
       "      <th>162</th>\n",
       "      <td>property_type::Other</td>\n",
       "      <td>5.299218e+12</td>\n",
       "      <td>5.299218e+12</td>\n",
       "    </tr>\n",
       "    <tr>\n",
       "      <th>163</th>\n",
       "      <td>property_type::Tent</td>\n",
       "      <td>5.299218e+12</td>\n",
       "      <td>5.299218e+12</td>\n",
       "    </tr>\n",
       "    <tr>\n",
       "      <th>102</th>\n",
       "      <td>neighbourhood_cleansed::North Queen Anne</td>\n",
       "      <td>-5.068666e+12</td>\n",
       "      <td>5.068666e+12</td>\n",
       "    </tr>\n",
       "    <tr>\n",
       "      <th>63</th>\n",
       "      <td>neighbourhood_cleansed::East Queen Anne</td>\n",
       "      <td>-5.068666e+12</td>\n",
       "      <td>5.068666e+12</td>\n",
       "    </tr>\n",
       "    <tr>\n",
       "      <th>85</th>\n",
       "      <td>neighbourhood_cleansed::Lower Queen Anne</td>\n",
       "      <td>-5.068666e+12</td>\n",
       "      <td>5.068666e+12</td>\n",
       "    </tr>\n",
       "    <tr>\n",
       "      <th>128</th>\n",
       "      <td>neighbourhood_cleansed::West Queen Anne</td>\n",
       "      <td>-5.068666e+12</td>\n",
       "      <td>5.068666e+12</td>\n",
       "    </tr>\n",
       "    <tr>\n",
       "      <th>134</th>\n",
       "      <td>neighbourhood_group_cleansed::Ballard</td>\n",
       "      <td>4.705930e+12</td>\n",
       "      <td>4.705930e+12</td>\n",
       "    </tr>\n",
       "    <tr>\n",
       "      <th>47</th>\n",
       "      <td>neighbourhood_cleansed::Adams</td>\n",
       "      <td>-4.279376e+12</td>\n",
       "      <td>4.279376e+12</td>\n",
       "    </tr>\n",
       "    <tr>\n",
       "      <th>129</th>\n",
       "      <td>neighbourhood_cleansed::West Woodland</td>\n",
       "      <td>-4.279376e+12</td>\n",
       "      <td>4.279376e+12</td>\n",
       "    </tr>\n",
       "    <tr>\n",
       "      <th>86</th>\n",
       "      <td>neighbourhood_cleansed::Loyal Heights</td>\n",
       "      <td>-4.279376e+12</td>\n",
       "      <td>4.279376e+12</td>\n",
       "    </tr>\n",
       "    <tr>\n",
       "      <th>131</th>\n",
       "      <td>neighbourhood_cleansed::Whittier Heights</td>\n",
       "      <td>-4.279376e+12</td>\n",
       "      <td>4.279376e+12</td>\n",
       "    </tr>\n",
       "    <tr>\n",
       "      <th>122</th>\n",
       "      <td>neighbourhood_cleansed::Sunset Hill</td>\n",
       "      <td>-4.279376e+12</td>\n",
       "      <td>4.279376e+12</td>\n",
       "    </tr>\n",
       "    <tr>\n",
       "      <th>108</th>\n",
       "      <td>neighbourhood_cleansed::Portage Bay</td>\n",
       "      <td>4.017330e+12</td>\n",
       "      <td>4.017330e+12</td>\n",
       "    </tr>\n",
       "  </tbody>\n",
       "</table>\n",
       "</div>"
      ],
      "text/plain": [
       "                                      est_int         coefs     abs_coefs\n",
       "167                room_type::Entire home/apt  3.330029e+13  3.330029e+13\n",
       "168                   room_type::Private room  3.330029e+13  3.330029e+13\n",
       "169                    room_type::Shared room  3.330029e+13  3.330029e+13\n",
       "146  neighbourhood_group_cleansed::Queen Anne  5.495220e+12  5.495220e+12\n",
       "153                       property_type::Boat  5.299218e+12  5.299218e+12\n",
       "156                  property_type::Camper/RV  5.299218e+12  5.299218e+12\n",
       "166                       property_type::Yurt  5.299218e+12  5.299218e+12\n",
       "154                   property_type::Bungalow  5.299218e+12  5.299218e+12\n",
       "161                       property_type::Loft  5.299218e+12  5.299218e+12\n",
       "155                      property_type::Cabin  5.299218e+12  5.299218e+12\n",
       "160                      property_type::House  5.299218e+12  5.299218e+12\n",
       "164                  property_type::Townhouse  5.299218e+12  5.299218e+12\n",
       "158                property_type::Condominium  5.299218e+12  5.299218e+12\n",
       "151                  property_type::Apartment  5.299218e+12  5.299218e+12\n",
       "152            property_type::Bed & Breakfast  5.299218e+12  5.299218e+12\n",
       "157                     property_type::Chalet  5.299218e+12  5.299218e+12\n",
       "165                  property_type::Treehouse  5.299218e+12  5.299218e+12\n",
       "162                      property_type::Other  5.299218e+12  5.299218e+12\n",
       "163                       property_type::Tent  5.299218e+12  5.299218e+12\n",
       "102  neighbourhood_cleansed::North Queen Anne -5.068666e+12  5.068666e+12\n",
       "63    neighbourhood_cleansed::East Queen Anne -5.068666e+12  5.068666e+12\n",
       "85   neighbourhood_cleansed::Lower Queen Anne -5.068666e+12  5.068666e+12\n",
       "128   neighbourhood_cleansed::West Queen Anne -5.068666e+12  5.068666e+12\n",
       "134     neighbourhood_group_cleansed::Ballard  4.705930e+12  4.705930e+12\n",
       "47              neighbourhood_cleansed::Adams -4.279376e+12  4.279376e+12\n",
       "129     neighbourhood_cleansed::West Woodland -4.279376e+12  4.279376e+12\n",
       "86      neighbourhood_cleansed::Loyal Heights -4.279376e+12  4.279376e+12\n",
       "131  neighbourhood_cleansed::Whittier Heights -4.279376e+12  4.279376e+12\n",
       "122       neighbourhood_cleansed::Sunset Hill -4.279376e+12  4.279376e+12\n",
       "108       neighbourhood_cleansed::Portage Bay  4.017330e+12  4.017330e+12"
      ]
     },
     "execution_count": 317,
     "metadata": {},
     "output_type": "execute_result"
    }
   ],
   "source": [
    "coefs_df = pd.DataFrame()\n",
    "coefs_df['est_int'] = pX_train.columns\n",
    "coefs_df['coefs'] = data_P_lmodel.coef_\n",
    "coefs_df['abs_coefs'] = np.abs(data_P_lmodel.coef_)\n",
    "coefs_df = coefs_df.sort_values('abs_coefs', ascending=False)\n",
    "coefs_df[0:30]"
   ]
  },
  {
   "cell_type": "code",
   "execution_count": 318,
   "metadata": {},
   "outputs": [
    {
     "data": {
      "text/plain": [
       "'room_type'"
      ]
     },
     "execution_count": 318,
     "metadata": {},
     "output_type": "execute_result"
    }
   ],
   "source": [
    "coefs_df.loc[167,'est_int'].split('::')[0]"
   ]
  },
  {
   "cell_type": "code",
   "execution_count": 319,
   "metadata": {},
   "outputs": [],
   "source": [
    "coefs_df.insert(1,'type','')"
   ]
  },
  {
   "cell_type": "code",
   "execution_count": 320,
   "metadata": {},
   "outputs": [],
   "source": [
    "coefs_df['type']=coefs_df['est_int'].apply(lambda x: x.split('::')[0])"
   ]
  },
  {
   "cell_type": "code",
   "execution_count": 321,
   "metadata": {},
   "outputs": [
    {
     "data": {
      "text/plain": [
       "type\n",
       "room_type                         3.330029e+13\n",
       "property_type                     4.968017e+12\n",
       "bed_type                          2.871300e+12\n",
       "neighbourhood_group_cleansed      1.876874e+12\n",
       "neighbourhood_cleansed            1.707334e+12\n",
       "amm_Doorman                       3.636924e+01\n",
       "bathrooms                         3.436740e+01\n",
       "bedrooms                          3.040063e+01\n",
       "amm_                              2.062300e+01\n",
       "amm_Air Conditioning              1.793293e+01\n",
       "amm_Hot Tub                       1.370115e+01\n",
       "amm_Wireless Internet             1.074056e+01\n",
       "accommodates                      1.067336e+01\n",
       "amm_Dog(s)                        1.006526e+01\n",
       "amm_Elevator in Building          9.884049e+00\n",
       "amm_Hangers                       9.008522e+00\n",
       "amm_Smoking Allowed               8.049467e+00\n",
       "amm_Cable TV                      6.750079e+00\n",
       "amm_Suitable for Events           6.619329e+00\n",
       "amm_Essentials                    5.976565e+00\n",
       "amm_Pool                          5.845247e+00\n",
       "amm_Washer / Dryer                5.608424e+00\n",
       "amm_Smoke Detector                5.431368e+00\n",
       "amm_Laptop Friendly Workspace     5.271879e+00\n",
       "amm_Indoor Fireplace              5.125491e+00\n",
       "amm_Other pet(s)                  4.951937e+00\n",
       "amm_Hair Dryer                    4.938517e+00\n",
       "beds                              4.281314e+00\n",
       "amm_Pets Allowed                  3.882036e+00\n",
       "amm_Fire Extinguisher             3.738160e+00\n",
       "amm_Breakfast                     3.527629e+00\n",
       "amm_Family/Kid Friendly           3.494221e+00\n",
       "amm_Pets live on this property    3.394294e+00\n",
       "amm_Carbon Monoxide Detector      3.117967e+00\n",
       "amm_Shampoo                       3.107075e+00\n",
       "amm_Heating                       2.807427e+00\n",
       "guests_included                   2.661470e+00\n",
       "amm_Internet                      2.386328e+00\n",
       "amm_Cat(s)                        1.914731e+00\n",
       "amm_First Aid Kit                 1.886958e+00\n",
       "amm_Iron                          1.663905e+00\n",
       "amm_TV                            1.632229e+00\n",
       "amm_Lock on Bedroom Door          1.522477e+00\n",
       "amm_Buzzer/Wireless Intercom      1.485454e+00\n",
       "amm_Safety Card                   1.409804e+00\n",
       "amm_Washer                        1.299513e+00\n",
       "amm_Dryer                         1.155835e+00\n",
       "amm_Free Parking on Premises      6.885237e-01\n",
       "amm_Wheelchair Accessible         5.952426e-01\n",
       "amm_24-Hour Check-in              5.929790e-01\n",
       "amm_Gym                           5.546606e-01\n",
       "amm_Kitchen                       4.245234e-01\n",
       "Name: abs_coefs, dtype: float64"
      ]
     },
     "execution_count": 321,
     "metadata": {},
     "output_type": "execute_result"
    }
   ],
   "source": [
    "coefs_df.groupby(by='type')['abs_coefs'].mean().sort_values(ascending=False)"
   ]
  },
  {
   "cell_type": "code",
   "execution_count": 335,
   "metadata": {},
   "outputs": [
    {
     "data": {
      "image/png": "[encoded data removed]",
      "text/plain": [
       "<Figure size 432x288 with 1 Axes>"
      ]
     },
     "metadata": {
      "needs_background": "light"
     },
     "output_type": "display_data"
    }
   ],
   "source": [
    "ax1 = sns.boxplot(x=df_data_p['room_type'],y=df_data_p['price_x'])"
   ]
  },
  {
   "cell_type": "code",
   "execution_count": 338,
   "metadata": {},
   "outputs": [],
   "source": [
    "prop_type = list(df_data_p['property_type'].unique())"
   ]
  },
  {
   "cell_type": "code",
   "execution_count": 346,
   "metadata": {},
   "outputs": [
    {
     "data": {
      "text/plain": [
       "[Text(0, 0, 'House'),\n",
       " Text(0, 0, 'Apartment'),\n",
       " Text(0, 0, 'Condominium'),\n",
       " Text(0, 0, 'Bed & Breakfast'),\n",
       " Text(0, 0, 'Cabin'),\n",
       " Text(0, 0, 'Townhouse'),\n",
       " Text(0, 0, 'Loft'),\n",
       " Text(0, 0, 'Other'),\n",
       " Text(0, 0, 'Chalet'),\n",
       " Text(0, 0, 'Camper/RV'),\n",
       " Text(0, 0, 'Boat'),\n",
       " Text(0, 0, 'Treehouse'),\n",
       " Text(0, 0, 'Dorm'),\n",
       " Text(0, 0, 'Tent'),\n",
       " Text(0, 0, 'Bungalow'),\n",
       " Text(0, 0, 'Yurt')]"
      ]
     },
     "execution_count": 346,
     "metadata": {},
     "output_type": "execute_result"
    },
    {
     "data": {
      "image/png": "[encoded data removed]",
      "text/plain": [
       "<Figure size 432x288 with 1 Axes>"
      ]
     },
     "metadata": {
      "needs_background": "light"
     },
     "output_type": "display_data"
    }
   ],
   "source": [
    "ax2 = sns.boxplot(x=df_data_p['property_type'],y=df_data_p['price_x'],order=prop_type)\n",
    "ax2.set_xticklabels(labels=prop_type,rotation=90)"
   ]
  },
  {
   "cell_type": "code",
   "execution_count": 326,
   "metadata": {},
   "outputs": [
    {
     "data": {
      "text/plain": [
       "<matplotlib.axes._subplots.AxesSubplot at 0x2730ff5aa58>"
      ]
     },
     "execution_count": 326,
     "metadata": {},
     "output_type": "execute_result"
    },
    {
     "data": {
      "image/png": "[encoded data removed]",
      "text/plain": [
       "<Figure size 432x288 with 1 Axes>"
      ]
     },
     "metadata": {
      "needs_background": "light"
     },
     "output_type": "display_data"
    }
   ],
   "source": [
    "sns.boxplot(x=df_data_p['bed_type'],y=df_data_p['price_x'])"
   ]
  },
  {
   "cell_type": "code",
   "execution_count": 348,
   "metadata": {},
   "outputs": [
    {
     "data": {
      "text/plain": [
       "[Text(0, 0, 'Other neighborhoods'),\n",
       " Text(0, 0, 'Delridge'),\n",
       " Text(0, 0, 'Capitol Hill'),\n",
       " Text(0, 0, 'Downtown'),\n",
       " Text(0, 0, 'West Seattle'),\n",
       " Text(0, 0, 'Northgate'),\n",
       " Text(0, 0, 'Ballard'),\n",
       " Text(0, 0, 'Beacon Hill'),\n",
       " Text(0, 0, 'Cascade'),\n",
       " Text(0, 0, 'Seward Park'),\n",
       " Text(0, 0, 'Central Area'),\n",
       " Text(0, 0, 'Queen Anne'),\n",
       " Text(0, 0, 'Lake City'),\n",
       " Text(0, 0, 'Rainier Valley'),\n",
       " Text(0, 0, 'Magnolia'),\n",
       " Text(0, 0, 'University District'),\n",
       " Text(0, 0, 'Interbay')]"
      ]
     },
     "execution_count": 348,
     "metadata": {},
     "output_type": "execute_result"
    },
    {
     "data": {
      "image/png": "[encoded data removed]",
      "text/plain": [
       "<Figure size 432x288 with 1 Axes>"
      ]
     },
     "metadata": {
      "needs_background": "light"
     },
     "output_type": "display_data"
    }
   ],
   "source": [
    "n_label = list(df_data_p['neighbourhood_group_cleansed'].unique())\n",
    "ax4 = sns.boxplot(x=df_data_p['neighbourhood_group_cleansed'],y=df_data_p['price_x'],order=n_label)\n",
    "ax4.set_xticklabels(labels=n_label,rotation=90)"
   ]
  },
  {
   "cell_type": "code",
   "execution_count": null,
   "metadata": {},
   "outputs": [],
   "source": []
  }
 ],
 "metadata": {
  "kernelspec": {
   "display_name": "Python 3",
   "language": "python",
   "name": "python3"
  },
  "language_info": {
   "codemirror_mode": {
    "name": "ipython",
    "version": 3
   },
   "file_extension": ".py",
   "mimetype": "text/x-python",
   "name": "python",
   "nbconvert_exporter": "python",
   "pygments_lexer": "ipython3",
   "version": "3.7.0"
  }
 },
 "nbformat": 4,
 "nbformat_minor": 2
}
